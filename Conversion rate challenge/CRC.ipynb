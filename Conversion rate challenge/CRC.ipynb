{
 "cells": [
  {
   "cell_type": "markdown",
   "metadata": {
    "colab_type": "text",
    "id": "0eiKSLYG8XvO"
   },
   "source": [
    "# Challenge : predict conversions 🏆🏆\n",
    "\n",
    "This is the template that shows the different steps of the challenge. In this notebook, all the training/predictions steps are implemented for a very basic model (logistic regression with only one variable). Please use this template and feel free to change the preprocessing/training steps to get the model with the best f1-score ! May the force be with you 🧨🧨  \n",
    "\n",
    "**For a detailed description of this project, please refer to *02-Conversion_rate_challenge.ipynb*.**"
   ]
  },
  {
   "cell_type": "markdown",
   "metadata": {},
   "source": "# Imports"
  },
  {
   "cell_type": "code",
   "metadata": {
    "colab": {},
    "colab_type": "code",
    "id": "AGhdl7Bt2xZd",
    "ExecuteTime": {
     "end_time": "2024-08-10T15:18:33.587587Z",
     "start_time": "2024-08-10T15:18:29.980436Z"
    }
   },
   "source": [
    "import pandas as pd\n",
    "import numpy as np\n",
    "\n",
    "from sklearn.model_selection import train_test_split\n",
    "from sklearn.impute import SimpleImputer\n",
    "from sklearn.preprocessing import  OneHotEncoder, StandardScaler\n",
    "from sklearn.pipeline import Pipeline\n",
    "from sklearn.compose import ColumnTransformer\n",
    "from sklearn.linear_model import LogisticRegression\n",
    "from sklearn.tree import DecisionTreeClassifier\n",
    "from sklearn.model_selection import GridSearchCV\n",
    "from sklearn.metrics import f1_score, confusion_matrix\n",
    "\n",
    "import warnings\n",
    "warnings.filterwarnings(\"ignore\")\n",
    "\n",
    "from sklearn.ensemble import (\n",
    "    BaggingClassifier,\n",
    "    AdaBoostClassifier,\n",
    "    GradientBoostingClassifier\n",
    ")\n",
    "from xgboost import XGBClassifier\n",
    "\n",
    "import plotly.graph_objects as go\n",
    "import plotly.io as pio\n",
    "import plotly.express as px\n",
    "# setting Jedha color palette as default\n",
    "pio.templates[\"jedha\"] = go.layout.Template(\n",
    "    layout_colorway=[\"#4B9AC7\", \"#4BE8E0\", \"#9DD4F3\", \"#97FBF6\", \"#2A7FAF\", \"#23B1AB\", \"#0E3449\", \"#015955\"]\n",
    ")\n",
    "pio.templates.default = \"jedha\"\n",
    "pio.renderers.default = \"svg\"\n",
    "\n",
    "from IPython.display import display"
   ],
   "outputs": [],
   "execution_count": 1
  },
  {
   "cell_type": "markdown",
   "metadata": {
    "colab_type": "text",
    "id": "LHgro65rxKF7"
   },
   "source": "# Fichier avec labels (étiquettes)"
  },
  {
   "cell_type": "code",
   "metadata": {
    "colab": {
     "base_uri": "https://localhost:8080/",
     "height": 34
    },
    "colab_type": "code",
    "id": "W1AU8AH8u0qd",
    "outputId": "00698a97-027b-493b-a2e4-33fdcc295abb",
    "ExecuteTime": {
     "end_time": "2024-08-10T15:18:34.214935Z",
     "start_time": "2024-08-10T15:18:34.029908Z"
    }
   },
   "source": [
    "data = pd.read_csv('conversion_data_train.csv')\n",
    "print('Ensemble avec des étiquettes (notre train+test) :', data.shape)"
   ],
   "outputs": [
    {
     "name": "stdout",
     "output_type": "stream",
     "text": [
      "Ensemble avec des étiquettes (notre train+test) : (284580, 6)\n"
     ]
    }
   ],
   "execution_count": 2
  },
  {
   "metadata": {
    "ExecuteTime": {
     "end_time": "2024-08-10T15:18:34.223384Z",
     "start_time": "2024-08-10T15:18:34.217700Z"
    }
   },
   "cell_type": "code",
   "source": [
    "def describe_df(df):\n",
    "    \"\"\"\n",
    "    Affiche plusieurs informations statistiques sur le DataFrame donné.\n",
    "\n",
    "    Paramètres:\n",
    "    df: pandas.DataFrame\n",
    "        Le DataFrame pour lequel afficher les informations.\n",
    "\n",
    "    Affiche:\n",
    "    - Le nombre de lignes dans le DataFrame.\n",
    "    - Les premières lignes du DataFrame pour vérifier l'apparence des données.\n",
    "    - Des statistiques de base pour chaque colonne (ex: nombre, moyenne, min, max pour les colonnes numériques ; nombre, unique, top, freq pour les colonnes de type objet).\n",
    "    - Le pourcentage de valeurs manquantes pour chaque colonne.\n",
    "\n",
    "    Note:\n",
    "    Cette fonction n'a pas de valeur de retour, elle affiche seulement les informations.\n",
    "    \"\"\"\n",
    "    print('Nombre de lignes :',len(df))\n",
    "    print('Affichage du jeu de données :')\n",
    "    display(df.head())\n",
    "    print('Statistiques de base :')\n",
    "    display(df.describe(include=\"all\"))\n",
    "    print('Pourcentage de valeurs manquantes :')\n",
    "    display(df.isnull().sum()/len(df)*100)"
   ],
   "outputs": [],
   "execution_count": 3
  },
  {
   "metadata": {
    "ExecuteTime": {
     "end_time": "2024-08-10T15:18:34.631831Z",
     "start_time": "2024-08-10T15:18:34.455Z"
    }
   },
   "cell_type": "code",
   "source": "describe_df(data)",
   "outputs": [
    {
     "name": "stdout",
     "output_type": "stream",
     "text": [
      "Nombre de lignes : 284580\n",
      "Affichage du jeu de données :\n"
     ]
    },
    {
     "data": {
      "text/plain": [
       "   country  age  new_user  source  total_pages_visited  converted\n",
       "0    China   22         1  Direct                    2          0\n",
       "1       UK   21         1     Ads                    3          0\n",
       "2  Germany   20         0     Seo                   14          1\n",
       "3       US   23         1     Seo                    3          0\n",
       "4       US   28         1  Direct                    3          0"
      ],
      "text/html": [
       "<div>\n",
       "<style scoped>\n",
       "    .dataframe tbody tr th:only-of-type {\n",
       "        vertical-align: middle;\n",
       "    }\n",
       "\n",
       "    .dataframe tbody tr th {\n",
       "        vertical-align: top;\n",
       "    }\n",
       "\n",
       "    .dataframe thead th {\n",
       "        text-align: right;\n",
       "    }\n",
       "</style>\n",
       "<table border=\"1\" class=\"dataframe\">\n",
       "  <thead>\n",
       "    <tr style=\"text-align: right;\">\n",
       "      <th></th>\n",
       "      <th>country</th>\n",
       "      <th>age</th>\n",
       "      <th>new_user</th>\n",
       "      <th>source</th>\n",
       "      <th>total_pages_visited</th>\n",
       "      <th>converted</th>\n",
       "    </tr>\n",
       "  </thead>\n",
       "  <tbody>\n",
       "    <tr>\n",
       "      <th>0</th>\n",
       "      <td>China</td>\n",
       "      <td>22</td>\n",
       "      <td>1</td>\n",
       "      <td>Direct</td>\n",
       "      <td>2</td>\n",
       "      <td>0</td>\n",
       "    </tr>\n",
       "    <tr>\n",
       "      <th>1</th>\n",
       "      <td>UK</td>\n",
       "      <td>21</td>\n",
       "      <td>1</td>\n",
       "      <td>Ads</td>\n",
       "      <td>3</td>\n",
       "      <td>0</td>\n",
       "    </tr>\n",
       "    <tr>\n",
       "      <th>2</th>\n",
       "      <td>Germany</td>\n",
       "      <td>20</td>\n",
       "      <td>0</td>\n",
       "      <td>Seo</td>\n",
       "      <td>14</td>\n",
       "      <td>1</td>\n",
       "    </tr>\n",
       "    <tr>\n",
       "      <th>3</th>\n",
       "      <td>US</td>\n",
       "      <td>23</td>\n",
       "      <td>1</td>\n",
       "      <td>Seo</td>\n",
       "      <td>3</td>\n",
       "      <td>0</td>\n",
       "    </tr>\n",
       "    <tr>\n",
       "      <th>4</th>\n",
       "      <td>US</td>\n",
       "      <td>28</td>\n",
       "      <td>1</td>\n",
       "      <td>Direct</td>\n",
       "      <td>3</td>\n",
       "      <td>0</td>\n",
       "    </tr>\n",
       "  </tbody>\n",
       "</table>\n",
       "</div>"
      ]
     },
     "metadata": {},
     "output_type": "display_data"
    },
    {
     "name": "stdout",
     "output_type": "stream",
     "text": [
      "Statistiques de base :\n"
     ]
    },
    {
     "data": {
      "text/plain": [
       "       country            age       new_user  source  total_pages_visited  \\\n",
       "count   284580  284580.000000  284580.000000  284580        284580.000000   \n",
       "unique       4            NaN            NaN       3                  NaN   \n",
       "top         US            NaN            NaN     Seo                  NaN   \n",
       "freq    160124            NaN            NaN  139477                  NaN   \n",
       "mean       NaN      30.564203       0.685452     NaN             4.873252   \n",
       "std        NaN       8.266789       0.464336     NaN             3.341995   \n",
       "min        NaN      17.000000       0.000000     NaN             1.000000   \n",
       "25%        NaN      24.000000       0.000000     NaN             2.000000   \n",
       "50%        NaN      30.000000       1.000000     NaN             4.000000   \n",
       "75%        NaN      36.000000       1.000000     NaN             7.000000   \n",
       "max        NaN     123.000000       1.000000     NaN            29.000000   \n",
       "\n",
       "            converted  \n",
       "count   284580.000000  \n",
       "unique            NaN  \n",
       "top               NaN  \n",
       "freq              NaN  \n",
       "mean         0.032258  \n",
       "std          0.176685  \n",
       "min          0.000000  \n",
       "25%          0.000000  \n",
       "50%          0.000000  \n",
       "75%          0.000000  \n",
       "max          1.000000  "
      ],
      "text/html": [
       "<div>\n",
       "<style scoped>\n",
       "    .dataframe tbody tr th:only-of-type {\n",
       "        vertical-align: middle;\n",
       "    }\n",
       "\n",
       "    .dataframe tbody tr th {\n",
       "        vertical-align: top;\n",
       "    }\n",
       "\n",
       "    .dataframe thead th {\n",
       "        text-align: right;\n",
       "    }\n",
       "</style>\n",
       "<table border=\"1\" class=\"dataframe\">\n",
       "  <thead>\n",
       "    <tr style=\"text-align: right;\">\n",
       "      <th></th>\n",
       "      <th>country</th>\n",
       "      <th>age</th>\n",
       "      <th>new_user</th>\n",
       "      <th>source</th>\n",
       "      <th>total_pages_visited</th>\n",
       "      <th>converted</th>\n",
       "    </tr>\n",
       "  </thead>\n",
       "  <tbody>\n",
       "    <tr>\n",
       "      <th>count</th>\n",
       "      <td>284580</td>\n",
       "      <td>284580.000000</td>\n",
       "      <td>284580.000000</td>\n",
       "      <td>284580</td>\n",
       "      <td>284580.000000</td>\n",
       "      <td>284580.000000</td>\n",
       "    </tr>\n",
       "    <tr>\n",
       "      <th>unique</th>\n",
       "      <td>4</td>\n",
       "      <td>NaN</td>\n",
       "      <td>NaN</td>\n",
       "      <td>3</td>\n",
       "      <td>NaN</td>\n",
       "      <td>NaN</td>\n",
       "    </tr>\n",
       "    <tr>\n",
       "      <th>top</th>\n",
       "      <td>US</td>\n",
       "      <td>NaN</td>\n",
       "      <td>NaN</td>\n",
       "      <td>Seo</td>\n",
       "      <td>NaN</td>\n",
       "      <td>NaN</td>\n",
       "    </tr>\n",
       "    <tr>\n",
       "      <th>freq</th>\n",
       "      <td>160124</td>\n",
       "      <td>NaN</td>\n",
       "      <td>NaN</td>\n",
       "      <td>139477</td>\n",
       "      <td>NaN</td>\n",
       "      <td>NaN</td>\n",
       "    </tr>\n",
       "    <tr>\n",
       "      <th>mean</th>\n",
       "      <td>NaN</td>\n",
       "      <td>30.564203</td>\n",
       "      <td>0.685452</td>\n",
       "      <td>NaN</td>\n",
       "      <td>4.873252</td>\n",
       "      <td>0.032258</td>\n",
       "    </tr>\n",
       "    <tr>\n",
       "      <th>std</th>\n",
       "      <td>NaN</td>\n",
       "      <td>8.266789</td>\n",
       "      <td>0.464336</td>\n",
       "      <td>NaN</td>\n",
       "      <td>3.341995</td>\n",
       "      <td>0.176685</td>\n",
       "    </tr>\n",
       "    <tr>\n",
       "      <th>min</th>\n",
       "      <td>NaN</td>\n",
       "      <td>17.000000</td>\n",
       "      <td>0.000000</td>\n",
       "      <td>NaN</td>\n",
       "      <td>1.000000</td>\n",
       "      <td>0.000000</td>\n",
       "    </tr>\n",
       "    <tr>\n",
       "      <th>25%</th>\n",
       "      <td>NaN</td>\n",
       "      <td>24.000000</td>\n",
       "      <td>0.000000</td>\n",
       "      <td>NaN</td>\n",
       "      <td>2.000000</td>\n",
       "      <td>0.000000</td>\n",
       "    </tr>\n",
       "    <tr>\n",
       "      <th>50%</th>\n",
       "      <td>NaN</td>\n",
       "      <td>30.000000</td>\n",
       "      <td>1.000000</td>\n",
       "      <td>NaN</td>\n",
       "      <td>4.000000</td>\n",
       "      <td>0.000000</td>\n",
       "    </tr>\n",
       "    <tr>\n",
       "      <th>75%</th>\n",
       "      <td>NaN</td>\n",
       "      <td>36.000000</td>\n",
       "      <td>1.000000</td>\n",
       "      <td>NaN</td>\n",
       "      <td>7.000000</td>\n",
       "      <td>0.000000</td>\n",
       "    </tr>\n",
       "    <tr>\n",
       "      <th>max</th>\n",
       "      <td>NaN</td>\n",
       "      <td>123.000000</td>\n",
       "      <td>1.000000</td>\n",
       "      <td>NaN</td>\n",
       "      <td>29.000000</td>\n",
       "      <td>1.000000</td>\n",
       "    </tr>\n",
       "  </tbody>\n",
       "</table>\n",
       "</div>"
      ]
     },
     "metadata": {},
     "output_type": "display_data"
    },
    {
     "name": "stdout",
     "output_type": "stream",
     "text": [
      "Pourcentage de valeurs manquantes :\n"
     ]
    },
    {
     "data": {
      "text/plain": [
       "country                0.0\n",
       "age                    0.0\n",
       "new_user               0.0\n",
       "source                 0.0\n",
       "total_pages_visited    0.0\n",
       "converted              0.0\n",
       "dtype: float64"
      ]
     },
     "metadata": {},
     "output_type": "display_data"
    }
   ],
   "execution_count": 4
  },
  {
   "cell_type": "code",
   "metadata": {
    "ExecuteTime": {
     "end_time": "2024-08-10T15:18:34.643015Z",
     "start_time": "2024-08-10T15:18:34.633845Z"
    }
   },
   "source": [
    "data.head()"
   ],
   "outputs": [
    {
     "data": {
      "text/plain": [
       "   country  age  new_user  source  total_pages_visited  converted\n",
       "0    China   22         1  Direct                    2          0\n",
       "1       UK   21         1     Ads                    3          0\n",
       "2  Germany   20         0     Seo                   14          1\n",
       "3       US   23         1     Seo                    3          0\n",
       "4       US   28         1  Direct                    3          0"
      ],
      "text/html": [
       "<div>\n",
       "<style scoped>\n",
       "    .dataframe tbody tr th:only-of-type {\n",
       "        vertical-align: middle;\n",
       "    }\n",
       "\n",
       "    .dataframe tbody tr th {\n",
       "        vertical-align: top;\n",
       "    }\n",
       "\n",
       "    .dataframe thead th {\n",
       "        text-align: right;\n",
       "    }\n",
       "</style>\n",
       "<table border=\"1\" class=\"dataframe\">\n",
       "  <thead>\n",
       "    <tr style=\"text-align: right;\">\n",
       "      <th></th>\n",
       "      <th>country</th>\n",
       "      <th>age</th>\n",
       "      <th>new_user</th>\n",
       "      <th>source</th>\n",
       "      <th>total_pages_visited</th>\n",
       "      <th>converted</th>\n",
       "    </tr>\n",
       "  </thead>\n",
       "  <tbody>\n",
       "    <tr>\n",
       "      <th>0</th>\n",
       "      <td>China</td>\n",
       "      <td>22</td>\n",
       "      <td>1</td>\n",
       "      <td>Direct</td>\n",
       "      <td>2</td>\n",
       "      <td>0</td>\n",
       "    </tr>\n",
       "    <tr>\n",
       "      <th>1</th>\n",
       "      <td>UK</td>\n",
       "      <td>21</td>\n",
       "      <td>1</td>\n",
       "      <td>Ads</td>\n",
       "      <td>3</td>\n",
       "      <td>0</td>\n",
       "    </tr>\n",
       "    <tr>\n",
       "      <th>2</th>\n",
       "      <td>Germany</td>\n",
       "      <td>20</td>\n",
       "      <td>0</td>\n",
       "      <td>Seo</td>\n",
       "      <td>14</td>\n",
       "      <td>1</td>\n",
       "    </tr>\n",
       "    <tr>\n",
       "      <th>3</th>\n",
       "      <td>US</td>\n",
       "      <td>23</td>\n",
       "      <td>1</td>\n",
       "      <td>Seo</td>\n",
       "      <td>3</td>\n",
       "      <td>0</td>\n",
       "    </tr>\n",
       "    <tr>\n",
       "      <th>4</th>\n",
       "      <td>US</td>\n",
       "      <td>28</td>\n",
       "      <td>1</td>\n",
       "      <td>Direct</td>\n",
       "      <td>3</td>\n",
       "      <td>0</td>\n",
       "    </tr>\n",
       "  </tbody>\n",
       "</table>\n",
       "</div>"
      ]
     },
     "execution_count": 5,
     "metadata": {},
     "output_type": "execute_result"
    }
   ],
   "execution_count": 5
  },
  {
   "cell_type": "markdown",
   "metadata": {
    "colab_type": "text",
    "id": "0XwjKBc63B1n"
   },
   "source": "# Exploration du dataset"
  },
  {
   "metadata": {},
   "cell_type": "markdown",
   "source": [
    "Nous avons un jeu de donnée de 284 500 lignes avant préprocessing.\n",
    "\n",
    "\n",
    "features\n",
    "\n",
    "country : Pays d'origine de l'utilisateur.\n",
    "age : Âge de l'utilisateur.\n",
    "new_user : Indique si l'utilisateur est un nouvel utilisateur ou non.\n",
    "total_pages_visited : Nombre total de pages visitées par l'utilisateur.\n",
    "\n",
    "\n",
    "Target\n",
    "\n",
    "converted : Indique si l'utilisateur a converti (1) ou non (0).\n",
    "\n",
    "\n",
    "Statistiques des caractéristiques :\n",
    "\n",
    "\n",
    "country : 4 pays uniques, US étant le plus fréquent.\n",
    "age : Moyenne d'âge de 30.56 ans, avec un écart type de 8.27 ans.\n",
    "new_user : 68.55% des utilisateurs sont de nouveaux utilisateurs.\n",
    "source : SEO, ADS, Direct. Seo étant la plus fréquente.\n",
    "total_pages_visited : Moyenne de 4.87 pages visitées, avec un écart type de 3.34.\n",
    "\n",
    "\n",
    "\n",
    "Statistiques de la variable cible :\n",
    "\n",
    "\n",
    "converted : Taux de conversion moyen de 3.23%.\n",
    "\n",
    "\n",
    "Le jeu de donnée ne possède aucune donnée manquantes, c'est un point important pour la mise en place de pipeline par la suite.\n",
    "Cependant, il est important de noter que nous sommes dans une situation déséquilibre de classes, aussi appelé imbalanced dataset.\n",
    "Autrement dit, la classe convertie est nettement moins représentée que la convertie.\n",
    "\n",
    "\n",
    "Il est crucial de prendre en compte ce déséquilibre lors de la modélisation, car les modèles de machine learning peuvent avoir tendance à privilégier la classe majoritaire et à ne pas bien généraliser la classe minoritaire.\n",
    "\n",
    "Cela peut conduire à des prédictions biaisées et peu précises pour la classe sous-représentée."
   ]
  },
  {
   "cell_type": "code",
   "metadata": {
    "colab": {},
    "colab_type": "code",
    "id": "NM0feCss5sLZ",
    "ExecuteTime": {
     "end_time": "2024-08-10T15:18:36.052016Z",
     "start_time": "2024-08-10T15:18:36.038382Z"
    }
   },
   "source": [
    "# L'ensemble de données est assez grand : vous devez créer un échantillon de l'ensemble de données avant de faire des visualisations !\n",
    "data_sample = data.sample(10000)"
   ],
   "outputs": [],
   "execution_count": 6
  },
  {
   "metadata": {
    "ExecuteTime": {
     "end_time": "2024-08-10T15:18:37.171296Z",
     "start_time": "2024-08-10T15:18:37.166404Z"
    }
   },
   "cell_type": "code",
   "source": [
    "target = 'converted'\n",
    "\n",
    "num_features = [c for c in data.columns if c != target]\n",
    "cat_order = {\n",
    "    'converted': [0, 1]\n",
    "}\n",
    "\n",
    "\n",
    "def display_distribution(c):\n",
    "    fig = px.histogram(data, c, color=target, facet_row=target, histnorm='probability')\n",
    "    fig.update_layout(width=700, height=500)\n",
    "    fig.update_layout(bargap=0.1)\n",
    "    fig.show()"
   ],
   "outputs": [],
   "execution_count": 7
  },
  {
   "metadata": {
    "ExecuteTime": {
     "end_time": "2024-08-10T15:18:39.856007Z",
     "start_time": "2024-08-10T15:18:37.386778Z"
    }
   },
   "cell_type": "code",
   "source": "display_distribution(num_features[0])",
   "outputs": [
    {
     "data": {
      "image/svg+xml": "<svg class=\"main-svg\" xmlns=\"http://www.w3.org/2000/svg\" xmlns:xlink=\"http://www.w3.org/1999/xlink\" width=\"700\" height=\"500\" style=\"\" viewBox=\"0 0 700 500\"><rect x=\"0\" y=\"0\" width=\"700\" height=\"500\" style=\"fill: rgb(255, 255, 255); fill-opacity: 1;\"/><defs id=\"defs-65f55d\"><g class=\"clips\"><clipPath id=\"clip65f55dxyplot\" class=\"plotclip\"><rect width=\"513.52\" height=\"174.6\"/></clipPath><clipPath id=\"clip65f55dx2y2plot\" class=\"plotclip\"><rect width=\"513.52\" height=\"174.6\"/></clipPath><clipPath class=\"axesclip\" id=\"clip65f55dx\"><rect x=\"80\" y=\"0\" width=\"513.52\" height=\"500\"/></clipPath><clipPath class=\"axesclip\" id=\"clip65f55dy\"><rect x=\"0\" y=\"245.4\" width=\"700\" height=\"174.6\"/></clipPath><clipPath class=\"axesclip\" id=\"clip65f55dxy\"><rect x=\"80\" y=\"245.4\" width=\"513.52\" height=\"174.6\"/></clipPath><clipPath class=\"axesclip\" id=\"clip65f55dy2\"><rect x=\"0\" y=\"60\" width=\"700\" height=\"174.6\"/></clipPath><clipPath class=\"axesclip\" id=\"clip65f55dxy2\"><rect x=\"80\" y=\"60\" width=\"513.52\" height=\"174.6\"/></clipPath><clipPath class=\"axesclip\" id=\"clip65f55dx2\"><rect x=\"80\" y=\"0\" width=\"513.52\" height=\"500\"/></clipPath><clipPath class=\"axesclip\" id=\"clip65f55dx2y\"><rect x=\"80\" y=\"245.4\" width=\"513.52\" height=\"174.6\"/></clipPath><clipPath class=\"axesclip\" id=\"clip65f55dx2y2\"><rect x=\"80\" y=\"60\" width=\"513.52\" height=\"174.6\"/></clipPath></g><g class=\"gradients\"/><g class=\"patterns\"/></defs><g class=\"bglayer\"/><g class=\"layer-below\"><g class=\"imagelayer\"/><g class=\"shapelayer\"/></g><g class=\"cartesianlayer\"><g class=\"subplot xy\"><g class=\"layer-subplot\"><g class=\"shapelayer\"/><g class=\"imagelayer\"/></g><g class=\"minor-gridlayer\"><g class=\"x\"/><g class=\"y\"/></g><g class=\"gridlayer\"><g class=\"x\"/><g class=\"y\"><path class=\"ygrid crisp\" transform=\"translate(0,369.83000000000004)\" d=\"M80,0h513.52\" style=\"stroke: rgb(238, 238, 238); stroke-opacity: 1; stroke-width: 1px;\"/><path class=\"ygrid crisp\" transform=\"translate(0,319.66)\" d=\"M80,0h513.52\" style=\"stroke: rgb(238, 238, 238); stroke-opacity: 1; stroke-width: 1px;\"/><path class=\"ygrid crisp\" transform=\"translate(0,269.49)\" d=\"M80,0h513.52\" style=\"stroke: rgb(238, 238, 238); stroke-opacity: 1; stroke-width: 1px;\"/></g></g><g class=\"zerolinelayer\"><path class=\"yzl zl crisp\" transform=\"translate(0,420)\" d=\"M80,0h513.52\" style=\"stroke: rgb(68, 68, 68); stroke-opacity: 1; stroke-width: 1px;\"/></g><g class=\"layer-between\"><g class=\"shapelayer\"/><g class=\"imagelayer\"/></g><path class=\"xlines-below\"/><path class=\"ylines-below\"/><g class=\"overlines-below\"/><g class=\"xaxislayer-below\"/><g class=\"yaxislayer-below\"/><g class=\"overaxes-below\"/><g class=\"plot\" transform=\"translate(80,245.4)\" clip-path=\"url(#clip65f55dxyplot)\"><g class=\"barlayer mlayer\"><g class=\"trace bars\" style=\"opacity: 1;\"><g class=\"points\"><g class=\"point\"><path d=\"M6.42,174.6V172.17H121.96V174.6Z\" style=\"vector-effect: none; opacity: 1; stroke-width: 0px; fill: rgb(75, 232, 224); fill-opacity: 1;\"/></g><g class=\"point\"><path d=\"M134.8,174.6V112H250.34V174.6Z\" style=\"vector-effect: none; opacity: 1; stroke-width: 0px; fill: rgb(75, 232, 224); fill-opacity: 1;\"/></g><g class=\"point\"><path d=\"M263.18,174.6V8.73H378.72V174.6Z\" style=\"vector-effect: none; opacity: 1; stroke-width: 0px; fill: rgb(75, 232, 224); fill-opacity: 1;\"/></g><g class=\"point\"><path d=\"M391.56,174.6V154.65H507.1V174.6Z\" style=\"vector-effect: none; opacity: 1; stroke-width: 0px; fill: rgb(75, 232, 224); fill-opacity: 1;\"/></g></g></g></g></g><g class=\"overplot\"/><path class=\"xlines-above crisp\" d=\"M0,0\" style=\"fill: none;\"/><path class=\"ylines-above crisp\" d=\"M0,0\" style=\"fill: none;\"/><g class=\"overlines-above\"/><g class=\"xaxislayer-above\"><g class=\"xtick\"><text text-anchor=\"middle\" x=\"0\" y=\"433\" transform=\"translate(144.19,0)\" style=\"font-family: 'Open Sans', verdana, arial, sans-serif; font-size: 12px; fill: rgb(68, 68, 68); fill-opacity: 1; white-space: pre; opacity: 1;\">China</text></g><g class=\"xtick\"><text text-anchor=\"middle\" x=\"0\" y=\"433\" transform=\"translate(272.57,0)\" style=\"font-family: 'Open Sans', verdana, arial, sans-serif; font-size: 12px; fill: rgb(68, 68, 68); fill-opacity: 1; white-space: pre; opacity: 1;\">UK</text></g><g class=\"xtick\"><text text-anchor=\"middle\" x=\"0\" y=\"433\" transform=\"translate(400.95,0)\" style=\"font-family: 'Open Sans', verdana, arial, sans-serif; font-size: 12px; fill: rgb(68, 68, 68); fill-opacity: 1; white-space: pre; opacity: 1;\">US</text></g><g class=\"xtick\"><text text-anchor=\"middle\" x=\"0\" y=\"433\" transform=\"translate(529.3299999999999,0)\" style=\"font-family: 'Open Sans', verdana, arial, sans-serif; font-size: 12px; fill: rgb(68, 68, 68); fill-opacity: 1; white-space: pre; opacity: 1;\">Germany</text></g></g><g class=\"yaxislayer-above\"><g class=\"ytick\"><text text-anchor=\"end\" x=\"79\" y=\"4.199999999999999\" transform=\"translate(0,420)\" style=\"font-family: 'Open Sans', verdana, arial, sans-serif; font-size: 12px; fill: rgb(68, 68, 68); fill-opacity: 1; white-space: pre; opacity: 1;\">0</text></g><g class=\"ytick\"><text text-anchor=\"end\" x=\"79\" y=\"4.199999999999999\" style=\"font-family: 'Open Sans', verdana, arial, sans-serif; font-size: 12px; fill: rgb(68, 68, 68); fill-opacity: 1; white-space: pre; opacity: 1;\" transform=\"translate(0,369.83000000000004)\">0.2</text></g><g class=\"ytick\"><text text-anchor=\"end\" x=\"79\" y=\"4.199999999999999\" style=\"font-family: 'Open Sans', verdana, arial, sans-serif; font-size: 12px; fill: rgb(68, 68, 68); fill-opacity: 1; white-space: pre; opacity: 1;\" transform=\"translate(0,319.66)\">0.4</text></g><g class=\"ytick\"><text text-anchor=\"end\" x=\"79\" y=\"4.199999999999999\" style=\"font-family: 'Open Sans', verdana, arial, sans-serif; font-size: 12px; fill: rgb(68, 68, 68); fill-opacity: 1; white-space: pre; opacity: 1;\" transform=\"translate(0,269.49)\">0.6</text></g></g><g class=\"overaxes-above\"/></g><g class=\"subplot x2y2\"><g class=\"layer-subplot\"><g class=\"shapelayer\"/><g class=\"imagelayer\"/></g><g class=\"minor-gridlayer\"><g class=\"x2\"/><g class=\"y2\"/></g><g class=\"gridlayer\"><g class=\"x2\"/><g class=\"y2\"><path class=\"y2grid crisp\" transform=\"translate(0,184.43)\" d=\"M80,0h513.52\" style=\"stroke: rgb(238, 238, 238); stroke-opacity: 1; stroke-width: 1px;\"/><path class=\"y2grid crisp\" transform=\"translate(0,134.26)\" d=\"M80,0h513.52\" style=\"stroke: rgb(238, 238, 238); stroke-opacity: 1; stroke-width: 1px;\"/><path class=\"y2grid crisp\" transform=\"translate(0,84.09)\" d=\"M80,0h513.52\" style=\"stroke: rgb(238, 238, 238); stroke-opacity: 1; stroke-width: 1px;\"/></g></g><g class=\"zerolinelayer\"><path class=\"y2zl zl crisp\" transform=\"translate(0,234.6)\" d=\"M80,0h513.52\" style=\"stroke: rgb(68, 68, 68); stroke-opacity: 1; stroke-width: 1px;\"/></g><g class=\"layer-between\"><g class=\"shapelayer\"/><g class=\"imagelayer\"/></g><path class=\"xlines-below\"/><path class=\"ylines-below\"/><g class=\"overlines-below\"/><g class=\"xaxislayer-below\"/><g class=\"yaxislayer-below\"/><g class=\"overaxes-below\"/><g class=\"plot\" transform=\"translate(80,60)\" clip-path=\"url(#clip65f55dx2y2plot)\"><g class=\"barlayer mlayer\"><g class=\"trace bars\" style=\"opacity: 1;\"><g class=\"points\"><g class=\"point\"><path d=\"M6.42,174.6V111.72H121.96V174.6Z\" style=\"vector-effect: none; opacity: 1; stroke-width: 0px; fill: rgb(75, 154, 199); fill-opacity: 1;\"/></g><g class=\"point\"><path d=\"M134.8,174.6V136.94H250.34V174.6Z\" style=\"vector-effect: none; opacity: 1; stroke-width: 0px; fill: rgb(75, 154, 199); fill-opacity: 1;\"/></g><g class=\"point\"><path d=\"M263.18,174.6V34.28H378.72V174.6Z\" style=\"vector-effect: none; opacity: 1; stroke-width: 0px; fill: rgb(75, 154, 199); fill-opacity: 1;\"/></g><g class=\"point\"><path d=\"M391.56,174.6V164.61H507.1V174.6Z\" style=\"vector-effect: none; opacity: 1; stroke-width: 0px; fill: rgb(75, 154, 199); fill-opacity: 1;\"/></g></g></g></g></g><g class=\"overplot\"/><path class=\"xlines-above crisp\" d=\"M0,0\" style=\"fill: none;\"/><path class=\"ylines-above crisp\" d=\"M0,0\" style=\"fill: none;\"/><g class=\"overlines-above\"/><g class=\"xaxislayer-above\"/><g class=\"yaxislayer-above\"><g class=\"y2tick\"><text text-anchor=\"end\" x=\"79\" y=\"4.199999999999999\" transform=\"translate(0,234.6)\" style=\"font-family: 'Open Sans', verdana, arial, sans-serif; font-size: 12px; fill: rgb(68, 68, 68); fill-opacity: 1; white-space: pre; opacity: 1;\">0</text></g><g class=\"y2tick\"><text text-anchor=\"end\" x=\"79\" y=\"4.199999999999999\" style=\"font-family: 'Open Sans', verdana, arial, sans-serif; font-size: 12px; fill: rgb(68, 68, 68); fill-opacity: 1; white-space: pre; opacity: 1;\" transform=\"translate(0,184.43)\">0.2</text></g><g class=\"y2tick\"><text text-anchor=\"end\" x=\"79\" y=\"4.199999999999999\" style=\"font-family: 'Open Sans', verdana, arial, sans-serif; font-size: 12px; fill: rgb(68, 68, 68); fill-opacity: 1; white-space: pre; opacity: 1;\" transform=\"translate(0,134.26)\">0.4</text></g><g class=\"y2tick\"><text text-anchor=\"end\" x=\"79\" y=\"4.199999999999999\" style=\"font-family: 'Open Sans', verdana, arial, sans-serif; font-size: 12px; fill: rgb(68, 68, 68); fill-opacity: 1; white-space: pre; opacity: 1;\" transform=\"translate(0,84.09)\">0.6</text></g></g><g class=\"overaxes-above\"/></g></g><g class=\"polarlayer\"/><g class=\"smithlayer\"/><g class=\"ternarylayer\"/><g class=\"geolayer\"/><g class=\"funnelarealayer\"/><g class=\"pielayer\"/><g class=\"iciclelayer\"/><g class=\"treemaplayer\"/><g class=\"sunburstlayer\"/><g class=\"glimages\"/><defs id=\"topdefs-65f55d\"><g class=\"clips\"/><clipPath id=\"legend65f55d\"><rect width=\"74\" height=\"67\" x=\"0\" y=\"0\"/></clipPath></defs><g class=\"layer-above\"><g class=\"imagelayer\"/><g class=\"shapelayer\"/></g><g class=\"infolayer\"><g class=\"legend\" pointer-events=\"all\" transform=\"translate(614.48,60)\"><rect class=\"bg\" shape-rendering=\"crispEdges\" style=\"stroke: rgb(68, 68, 68); stroke-opacity: 1; fill: rgb(255, 255, 255); fill-opacity: 1; stroke-width: 0px;\" width=\"74\" height=\"67\" x=\"0\" y=\"0\"/><g class=\"scrollbox\" transform=\"\" clip-path=\"url(#legend65f55d)\"><text class=\"legendtitletext\" text-anchor=\"start\" x=\"2\" y=\"18.2\" style=\"font-family: 'Open Sans', verdana, arial, sans-serif; font-size: 14px; fill: rgb(68, 68, 68); fill-opacity: 1; white-space: pre;\">converted</text><g class=\"groups\" transform=\"\"><g class=\"traces\" transform=\"translate(0,32.7)\" style=\"opacity: 1;\"><text class=\"legendtext\" text-anchor=\"start\" x=\"40\" y=\"4.680000000000001\" style=\"font-family: 'Open Sans', verdana, arial, sans-serif; font-size: 12px; fill: rgb(68, 68, 68); fill-opacity: 1; white-space: pre;\">0</text><g class=\"layers\" style=\"opacity: 1;\"><g class=\"legendfill\"/><g class=\"legendlines\"/><g class=\"legendsymbols\"><g class=\"legendpoints\"><path class=\"legendundefined\" d=\"M6,6H-6V-6H6Z\" transform=\"translate(20,0)\" style=\"stroke-width: 0px; fill: rgb(75, 154, 199); fill-opacity: 1;\"/></g></g></g><rect class=\"legendtoggle\" x=\"0\" y=\"-9.5\" width=\"47.640625\" height=\"19\" style=\"fill: rgb(0, 0, 0); fill-opacity: 0;\"/></g></g><g class=\"groups\" transform=\"\"><g class=\"traces\" transform=\"translate(0,51.7)\" style=\"opacity: 1;\"><text class=\"legendtext\" text-anchor=\"start\" x=\"40\" y=\"4.680000000000001\" style=\"font-family: 'Open Sans', verdana, arial, sans-serif; font-size: 12px; fill: rgb(68, 68, 68); fill-opacity: 1; white-space: pre;\">1</text><g class=\"layers\" style=\"opacity: 1;\"><g class=\"legendfill\"/><g class=\"legendlines\"/><g class=\"legendsymbols\"><g class=\"legendpoints\"><path class=\"legendundefined\" d=\"M6,6H-6V-6H6Z\" transform=\"translate(20,0)\" style=\"stroke-width: 0px; fill: rgb(75, 232, 224); fill-opacity: 1;\"/></g></g></g><rect class=\"legendtoggle\" x=\"0\" y=\"-9.5\" width=\"47.640625\" height=\"19\" style=\"fill: rgb(0, 0, 0); fill-opacity: 0;\"/></g></g></g><rect class=\"scrollbar\" rx=\"20\" ry=\"3\" width=\"0\" height=\"0\" style=\"fill: rgb(128, 139, 164); fill-opacity: 1;\" x=\"0\" y=\"0\"/></g><g class=\"g-gtitle\"/><g class=\"g-xtitle\"><text class=\"xtitle\" x=\"336.76\" y=\"472\" text-anchor=\"middle\" style=\"font-family: 'Open Sans', verdana, arial, sans-serif; font-size: 14px; fill: rgb(68, 68, 68); opacity: 1; white-space: pre;\">country</text></g><g class=\"g-x2title\"/><g class=\"g-ytitle\"><text class=\"ytitle\" transform=\"rotate(-90,42,332.7)\" x=\"42\" y=\"332.7\" text-anchor=\"middle\" style=\"font-family: 'Open Sans', verdana, arial, sans-serif; font-size: 14px; fill: rgb(68, 68, 68); opacity: 1; white-space: pre;\">probability</text></g><g class=\"g-y2title\"><text class=\"y2title\" transform=\"rotate(-90,42,147.3)\" x=\"42\" y=\"147.3\" text-anchor=\"middle\" style=\"font-family: 'Open Sans', verdana, arial, sans-serif; font-size: 14px; fill: rgb(68, 68, 68); opacity: 1; white-space: pre;\">probability</text></g><g class=\"annotation\" data-index=\"0\" style=\"opacity: 1;\"><g class=\"annotation-text-g\" transform=\"rotate(90,603.02,332.70000000000005)\"><g class=\"cursor-pointer\" transform=\"translate(563,323)\"><rect class=\"bg\" x=\"0.5\" y=\"0.5\" width=\"80\" height=\"18\" style=\"stroke-width: 1px; stroke: rgb(0, 0, 0); stroke-opacity: 0; fill: rgb(0, 0, 0); fill-opacity: 0;\"/><text class=\"annotation-text\" text-anchor=\"middle\" x=\"40.65625\" y=\"14\" style=\"font-family: 'Open Sans', verdana, arial, sans-serif; font-size: 12px; fill: rgb(68, 68, 68); fill-opacity: 1; white-space: pre;\">converted=1</text></g></g></g><g class=\"annotation\" data-index=\"1\" style=\"opacity: 1;\"><g class=\"annotation-text-g\" transform=\"rotate(90,603.02,147.29999999999998)\"><g class=\"cursor-pointer\" transform=\"translate(563,138)\"><rect class=\"bg\" x=\"0.5\" y=\"0.5\" width=\"80\" height=\"18\" style=\"stroke-width: 1px; stroke: rgb(0, 0, 0); stroke-opacity: 0; fill: rgb(0, 0, 0); fill-opacity: 0;\"/><text class=\"annotation-text\" text-anchor=\"middle\" x=\"40.65625\" y=\"14\" style=\"font-family: 'Open Sans', verdana, arial, sans-serif; font-size: 12px; fill: rgb(68, 68, 68); fill-opacity: 1; white-space: pre;\">converted=0</text></g></g></g></g></svg>"
     },
     "metadata": {},
     "output_type": "display_data"
    }
   ],
   "execution_count": 8
  },
  {
   "metadata": {},
   "cell_type": "markdown",
   "source": "La majorité des visiteurs sont situés aux US et UK, il est très probable les fondateurs du site soit anglophones. Du moins que le site ne soit pas destiné ou adapté à un public chinois. En effet, les pays européens et US semblent avoir des meilleurs conversions qu'en Chine. Pour quelles raisons ? Une hypothèse serait la barrière de la langue."
  },
  {
   "metadata": {
    "ExecuteTime": {
     "end_time": "2024-08-10T15:20:20.293089Z",
     "start_time": "2024-08-10T15:20:19.376271Z"
    }
   },
   "cell_type": "code",
   "source": "display_distribution(num_features[1])",
   "outputs": [
    {
     "data": {
      "image/svg+xml": "<svg class=\"main-svg\" xmlns=\"http://www.w3.org/2000/svg\" xmlns:xlink=\"http://www.w3.org/1999/xlink\" width=\"700\" height=\"500\" style=\"\" viewBox=\"0 0 700 500\"><rect x=\"0\" y=\"0\" width=\"700\" height=\"500\" style=\"fill: rgb(255, 255, 255); fill-opacity: 1;\"/><defs id=\"defs-5a9258\"><g class=\"clips\"><clipPath id=\"clip5a9258xyplot\" class=\"plotclip\"><rect width=\"513.52\" height=\"174.6\"/></clipPath><clipPath id=\"clip5a9258x2y2plot\" class=\"plotclip\"><rect width=\"513.52\" height=\"174.6\"/></clipPath><clipPath class=\"axesclip\" id=\"clip5a9258x\"><rect x=\"80\" y=\"0\" width=\"513.52\" height=\"500\"/></clipPath><clipPath class=\"axesclip\" id=\"clip5a9258y\"><rect x=\"0\" y=\"245.4\" width=\"700\" height=\"174.6\"/></clipPath><clipPath class=\"axesclip\" id=\"clip5a9258xy\"><rect x=\"80\" y=\"245.4\" width=\"513.52\" height=\"174.6\"/></clipPath><clipPath class=\"axesclip\" id=\"clip5a9258y2\"><rect x=\"0\" y=\"60\" width=\"700\" height=\"174.6\"/></clipPath><clipPath class=\"axesclip\" id=\"clip5a9258xy2\"><rect x=\"80\" y=\"60\" width=\"513.52\" height=\"174.6\"/></clipPath><clipPath class=\"axesclip\" id=\"clip5a9258x2\"><rect x=\"80\" y=\"0\" width=\"513.52\" height=\"500\"/></clipPath><clipPath class=\"axesclip\" id=\"clip5a9258x2y\"><rect x=\"80\" y=\"245.4\" width=\"513.52\" height=\"174.6\"/></clipPath><clipPath class=\"axesclip\" id=\"clip5a9258x2y2\"><rect x=\"80\" y=\"60\" width=\"513.52\" height=\"174.6\"/></clipPath></g><g class=\"gradients\"/><g class=\"patterns\"/></defs><g class=\"bglayer\"/><g class=\"layer-below\"><g class=\"imagelayer\"/><g class=\"shapelayer\"/></g><g class=\"cartesianlayer\"><g class=\"subplot xy\"><g class=\"layer-subplot\"><g class=\"shapelayer\"/><g class=\"imagelayer\"/></g><g class=\"minor-gridlayer\"><g class=\"x\"/><g class=\"y\"/></g><g class=\"gridlayer\"><g class=\"x\"/><g class=\"y\"><path class=\"ygrid crisp\" transform=\"translate(0,365.23)\" d=\"M80,0h513.52\" style=\"stroke: rgb(238, 238, 238); stroke-opacity: 1; stroke-width: 1px;\"/><path class=\"ygrid crisp\" transform=\"translate(0,310.45)\" d=\"M80,0h513.52\" style=\"stroke: rgb(238, 238, 238); stroke-opacity: 1; stroke-width: 1px;\"/><path class=\"ygrid crisp\" transform=\"translate(0,255.68)\" d=\"M80,0h513.52\" style=\"stroke: rgb(238, 238, 238); stroke-opacity: 1; stroke-width: 1px;\"/></g></g><g class=\"zerolinelayer\"><path class=\"yzl zl crisp\" transform=\"translate(0,420)\" d=\"M80,0h513.52\" style=\"stroke: rgb(68, 68, 68); stroke-opacity: 1; stroke-width: 1px;\"/></g><g class=\"layer-between\"><g class=\"shapelayer\"/><g class=\"imagelayer\"/></g><path class=\"xlines-below\"/><path class=\"ylines-below\"/><g class=\"overlines-below\"/><g class=\"xaxislayer-below\"/><g class=\"yaxislayer-below\"/><g class=\"overaxes-below\"/><g class=\"plot\" transform=\"translate(80,245.4)\" clip-path=\"url(#clip5a9258xyplot)\"><g class=\"barlayer mlayer\"><g class=\"trace bars\" style=\"opacity: 1;\"><g class=\"points\"><g class=\"point\"><path d=\"M0.24,174.6V26.93H4.56V174.6Z\" style=\"vector-effect: none; opacity: 1; stroke-width: 0px; fill: rgb(75, 232, 224); fill-opacity: 1;\"/></g><g class=\"point\"><path d=\"M5.04,174.6V27.82H9.36V174.6Z\" style=\"vector-effect: none; opacity: 1; stroke-width: 0px; fill: rgb(75, 232, 224); fill-opacity: 1;\"/></g><g class=\"point\"><path d=\"M9.84,174.6V28.12H14.16V174.6Z\" style=\"vector-effect: none; opacity: 1; stroke-width: 0px; fill: rgb(75, 232, 224); fill-opacity: 1;\"/></g><g class=\"point\"><path d=\"M14.64,174.6V17.98H18.96V174.6Z\" style=\"vector-effect: none; opacity: 1; stroke-width: 0px; fill: rgb(75, 232, 224); fill-opacity: 1;\"/></g><g class=\"point\"><path d=\"M19.44,174.6V13.5H23.76V174.6Z\" style=\"vector-effect: none; opacity: 1; stroke-width: 0px; fill: rgb(75, 232, 224); fill-opacity: 1;\"/></g><g class=\"point\"><path d=\"M24.24,174.6V8.73H28.56V174.6Z\" style=\"vector-effect: none; opacity: 1; stroke-width: 0px; fill: rgb(75, 232, 224); fill-opacity: 1;\"/></g><g class=\"point\"><path d=\"M29.04,174.6V12.01H33.35V174.6Z\" style=\"vector-effect: none; opacity: 1; stroke-width: 0px; fill: rgb(75, 232, 224); fill-opacity: 1;\"/></g><g class=\"point\"><path d=\"M33.83,174.6V19.17H38.15V174.6Z\" style=\"vector-effect: none; opacity: 1; stroke-width: 0px; fill: rgb(75, 232, 224); fill-opacity: 1;\"/></g><g class=\"point\"><path d=\"M38.63,174.6V37.67H42.95V174.6Z\" style=\"vector-effect: none; opacity: 1; stroke-width: 0px; fill: rgb(75, 232, 224); fill-opacity: 1;\"/></g><g class=\"point\"><path d=\"M43.43,174.6V25.44H47.75V174.6Z\" style=\"vector-effect: none; opacity: 1; stroke-width: 0px; fill: rgb(75, 232, 224); fill-opacity: 1;\"/></g><g class=\"point\"><path d=\"M48.23,174.6V46.32H52.55V174.6Z\" style=\"vector-effect: none; opacity: 1; stroke-width: 0px; fill: rgb(75, 232, 224); fill-opacity: 1;\"/></g><g class=\"point\"><path d=\"M53.03,174.6V47.81H57.35V174.6Z\" style=\"vector-effect: none; opacity: 1; stroke-width: 0px; fill: rgb(75, 232, 224); fill-opacity: 1;\"/></g><g class=\"point\"><path d=\"M57.83,174.6V49H62.15V174.6Z\" style=\"vector-effect: none; opacity: 1; stroke-width: 0px; fill: rgb(75, 232, 224); fill-opacity: 1;\"/></g><g class=\"point\"><path d=\"M62.63,174.6V65.41H66.95V174.6Z\" style=\"vector-effect: none; opacity: 1; stroke-width: 0px; fill: rgb(75, 232, 224); fill-opacity: 1;\"/></g><g class=\"point\"><path d=\"M67.43,174.6V74.96H71.75V174.6Z\" style=\"vector-effect: none; opacity: 1; stroke-width: 0px; fill: rgb(75, 232, 224); fill-opacity: 1;\"/></g><g class=\"point\"><path d=\"M72.23,174.6V84.8H76.55V174.6Z\" style=\"vector-effect: none; opacity: 1; stroke-width: 0px; fill: rgb(75, 232, 224); fill-opacity: 1;\"/></g><g class=\"point\"><path d=\"M77.03,174.6V92.56H81.35V174.6Z\" style=\"vector-effect: none; opacity: 1; stroke-width: 0px; fill: rgb(75, 232, 224); fill-opacity: 1;\"/></g><g class=\"point\"><path d=\"M81.83,174.6V103.6H86.15V174.6Z\" style=\"vector-effect: none; opacity: 1; stroke-width: 0px; fill: rgb(75, 232, 224); fill-opacity: 1;\"/></g><g class=\"point\"><path d=\"M86.63,174.6V115.23H90.95V174.6Z\" style=\"vector-effect: none; opacity: 1; stroke-width: 0px; fill: rgb(75, 232, 224); fill-opacity: 1;\"/></g><g class=\"point\"><path d=\"M91.43,174.6V119.71H95.75V174.6Z\" style=\"vector-effect: none; opacity: 1; stroke-width: 0px; fill: rgb(75, 232, 224); fill-opacity: 1;\"/></g><g class=\"point\"><path d=\"M96.23,174.6V123.59H100.54V174.6Z\" style=\"vector-effect: none; opacity: 1; stroke-width: 0px; fill: rgb(75, 232, 224); fill-opacity: 1;\"/></g><g class=\"point\"><path d=\"M101.02,174.6V141.78H105.34V174.6Z\" style=\"vector-effect: none; opacity: 1; stroke-width: 0px; fill: rgb(75, 232, 224); fill-opacity: 1;\"/></g><g class=\"point\"><path d=\"M105.82,174.6V136.71H110.14V174.6Z\" style=\"vector-effect: none; opacity: 1; stroke-width: 0px; fill: rgb(75, 232, 224); fill-opacity: 1;\"/></g><g class=\"point\"><path d=\"M110.62,174.6V146.26H114.94V174.6Z\" style=\"vector-effect: none; opacity: 1; stroke-width: 0px; fill: rgb(75, 232, 224); fill-opacity: 1;\"/></g><g class=\"point\"><path d=\"M115.42,174.6V153.12H119.74V174.6Z\" style=\"vector-effect: none; opacity: 1; stroke-width: 0px; fill: rgb(75, 232, 224); fill-opacity: 1;\"/></g><g class=\"point\"><path d=\"M120.22,174.6V154.02H124.54V174.6Z\" style=\"vector-effect: none; opacity: 1; stroke-width: 0px; fill: rgb(75, 232, 224); fill-opacity: 1;\"/></g><g class=\"point\"><path d=\"M125.02,174.6V158.49H129.34V174.6Z\" style=\"vector-effect: none; opacity: 1; stroke-width: 0px; fill: rgb(75, 232, 224); fill-opacity: 1;\"/></g><g class=\"point\"><path d=\"M129.82,174.6V164.76H134.14V174.6Z\" style=\"vector-effect: none; opacity: 1; stroke-width: 0px; fill: rgb(75, 232, 224); fill-opacity: 1;\"/></g><g class=\"point\"><path d=\"M134.62,174.6V162.07H138.94V174.6Z\" style=\"vector-effect: none; opacity: 1; stroke-width: 0px; fill: rgb(75, 232, 224); fill-opacity: 1;\"/></g><g class=\"point\"><path d=\"M139.42,174.6V165.35H143.74V174.6Z\" style=\"vector-effect: none; opacity: 1; stroke-width: 0px; fill: rgb(75, 232, 224); fill-opacity: 1;\"/></g><g class=\"point\"><path d=\"M144.22,174.6V168.93H148.54V174.6Z\" style=\"vector-effect: none; opacity: 1; stroke-width: 0px; fill: rgb(75, 232, 224); fill-opacity: 1;\"/></g><g class=\"point\"><path d=\"M149.02,174.6V169.23H153.34V174.6Z\" style=\"vector-effect: none; opacity: 1; stroke-width: 0px; fill: rgb(75, 232, 224); fill-opacity: 1;\"/></g><g class=\"point\"><path d=\"M153.82,174.6V171.02H158.14V174.6Z\" style=\"vector-effect: none; opacity: 1; stroke-width: 0px; fill: rgb(75, 232, 224); fill-opacity: 1;\"/></g><g class=\"point\"><path d=\"M158.62,174.6V172.51H162.93V174.6Z\" style=\"vector-effect: none; opacity: 1; stroke-width: 0px; fill: rgb(75, 232, 224); fill-opacity: 1;\"/></g><g class=\"point\"><path d=\"M163.41,174.6V172.51H167.73V174.6Z\" style=\"vector-effect: none; opacity: 1; stroke-width: 0px; fill: rgb(75, 232, 224); fill-opacity: 1;\"/></g><g class=\"point\"><path d=\"M168.21,174.6V173.71H172.53V174.6Z\" style=\"vector-effect: none; opacity: 1; stroke-width: 0px; fill: rgb(75, 232, 224); fill-opacity: 1;\"/></g><g class=\"point\"><path d=\"M173.01,174.6V174H177.33V174.6Z\" style=\"vector-effect: none; opacity: 1; stroke-width: 0px; fill: rgb(75, 232, 224); fill-opacity: 1;\"/></g><g class=\"point\"><path d=\"M177.81,174.6V174.3H182.13V174.6Z\" style=\"vector-effect: none; opacity: 1; stroke-width: 0px; fill: rgb(75, 232, 224); fill-opacity: 1;\"/></g><g class=\"point\"><path d=\"M182.61,174.6V173.71H186.93V174.6Z\" style=\"vector-effect: none; opacity: 1; stroke-width: 0px; fill: rgb(75, 232, 224); fill-opacity: 1;\"/></g><g class=\"point\"><path d=\"M0,0Z\" style=\"vector-effect: none; opacity: 1; stroke-width: 0px; fill: rgb(75, 232, 224); fill-opacity: 1;\"/></g><g class=\"point\"><path d=\"M0,0Z\" style=\"vector-effect: none; opacity: 1; stroke-width: 0px; fill: rgb(75, 232, 224); fill-opacity: 1;\"/></g><g class=\"point\"><path d=\"M197.01,174.6V174H201.33V174.6Z\" style=\"vector-effect: none; opacity: 1; stroke-width: 0px; fill: rgb(75, 232, 224); fill-opacity: 1;\"/></g><g class=\"point\"><path d=\"M0,0Z\" style=\"vector-effect: none; opacity: 1; stroke-width: 0px; fill: rgb(75, 232, 224); fill-opacity: 1;\"/></g><g class=\"point\"><path d=\"M206.61,174.6V174H210.93V174.6Z\" style=\"vector-effect: none; opacity: 1; stroke-width: 0px; fill: rgb(75, 232, 224); fill-opacity: 1;\"/></g><g class=\"point\"><path d=\"M211.41,174.6V174.3H215.73V174.6Z\" style=\"vector-effect: none; opacity: 1; stroke-width: 0px; fill: rgb(75, 232, 224); fill-opacity: 1;\"/></g><g class=\"point\"><path d=\"M0,0Z\" style=\"vector-effect: none; opacity: 1; stroke-width: 0px; fill: rgb(75, 232, 224); fill-opacity: 1;\"/></g><g class=\"point\"><path d=\"M0,0Z\" style=\"vector-effect: none; opacity: 1; stroke-width: 0px; fill: rgb(75, 232, 224); fill-opacity: 1;\"/></g><g class=\"point\"><path d=\"M0,0Z\" style=\"vector-effect: none; opacity: 1; stroke-width: 0px; fill: rgb(75, 232, 224); fill-opacity: 1;\"/></g><g class=\"point\"><path d=\"M0,0Z\" style=\"vector-effect: none; opacity: 1; stroke-width: 0px; fill: rgb(75, 232, 224); fill-opacity: 1;\"/></g><g class=\"point\"><path d=\"M0,0Z\" style=\"vector-effect: none; opacity: 1; stroke-width: 0px; fill: rgb(75, 232, 224); fill-opacity: 1;\"/></g><g class=\"point\"><path d=\"M0,0Z\" style=\"vector-effect: none; opacity: 1; stroke-width: 0px; fill: rgb(75, 232, 224); fill-opacity: 1;\"/></g><g class=\"point\"><path d=\"M0,0Z\" style=\"vector-effect: none; opacity: 1; stroke-width: 0px; fill: rgb(75, 232, 224); fill-opacity: 1;\"/></g><g class=\"point\"><path d=\"M0,0Z\" style=\"vector-effect: none; opacity: 1; stroke-width: 0px; fill: rgb(75, 232, 224); fill-opacity: 1;\"/></g><g class=\"point\"><path d=\"M0,0Z\" style=\"vector-effect: none; opacity: 1; stroke-width: 0px; fill: rgb(75, 232, 224); fill-opacity: 1;\"/></g><g class=\"point\"><path d=\"M0,0Z\" style=\"vector-effect: none; opacity: 1; stroke-width: 0px; fill: rgb(75, 232, 224); fill-opacity: 1;\"/></g><g class=\"point\"><path d=\"M0,0Z\" style=\"vector-effect: none; opacity: 1; stroke-width: 0px; fill: rgb(75, 232, 224); fill-opacity: 1;\"/></g><g class=\"point\"><path d=\"M0,0Z\" style=\"vector-effect: none; opacity: 1; stroke-width: 0px; fill: rgb(75, 232, 224); fill-opacity: 1;\"/></g><g class=\"point\"><path d=\"M0,0Z\" style=\"vector-effect: none; opacity: 1; stroke-width: 0px; fill: rgb(75, 232, 224); fill-opacity: 1;\"/></g><g class=\"point\"><path d=\"M0,0Z\" style=\"vector-effect: none; opacity: 1; stroke-width: 0px; fill: rgb(75, 232, 224); fill-opacity: 1;\"/></g><g class=\"point\"><path d=\"M0,0Z\" style=\"vector-effect: none; opacity: 1; stroke-width: 0px; fill: rgb(75, 232, 224); fill-opacity: 1;\"/></g><g class=\"point\"><path d=\"M0,0Z\" style=\"vector-effect: none; opacity: 1; stroke-width: 0px; fill: rgb(75, 232, 224); fill-opacity: 1;\"/></g><g class=\"point\"><path d=\"M0,0Z\" style=\"vector-effect: none; opacity: 1; stroke-width: 0px; fill: rgb(75, 232, 224); fill-opacity: 1;\"/></g><g class=\"point\"><path d=\"M0,0Z\" style=\"vector-effect: none; opacity: 1; stroke-width: 0px; fill: rgb(75, 232, 224); fill-opacity: 1;\"/></g><g class=\"point\"><path d=\"M0,0Z\" style=\"vector-effect: none; opacity: 1; stroke-width: 0px; fill: rgb(75, 232, 224); fill-opacity: 1;\"/></g><g class=\"point\"><path d=\"M0,0Z\" style=\"vector-effect: none; opacity: 1; stroke-width: 0px; fill: rgb(75, 232, 224); fill-opacity: 1;\"/></g><g class=\"point\"><path d=\"M0,0Z\" style=\"vector-effect: none; opacity: 1; stroke-width: 0px; fill: rgb(75, 232, 224); fill-opacity: 1;\"/></g><g class=\"point\"><path d=\"M0,0Z\" style=\"vector-effect: none; opacity: 1; stroke-width: 0px; fill: rgb(75, 232, 224); fill-opacity: 1;\"/></g><g class=\"point\"><path d=\"M0,0Z\" style=\"vector-effect: none; opacity: 1; stroke-width: 0px; fill: rgb(75, 232, 224); fill-opacity: 1;\"/></g><g class=\"point\"><path d=\"M0,0Z\" style=\"vector-effect: none; opacity: 1; stroke-width: 0px; fill: rgb(75, 232, 224); fill-opacity: 1;\"/></g><g class=\"point\"><path d=\"M0,0Z\" style=\"vector-effect: none; opacity: 1; stroke-width: 0px; fill: rgb(75, 232, 224); fill-opacity: 1;\"/></g><g class=\"point\"><path d=\"M0,0Z\" style=\"vector-effect: none; opacity: 1; stroke-width: 0px; fill: rgb(75, 232, 224); fill-opacity: 1;\"/></g><g class=\"point\"><path d=\"M0,0Z\" style=\"vector-effect: none; opacity: 1; stroke-width: 0px; fill: rgb(75, 232, 224); fill-opacity: 1;\"/></g><g class=\"point\"><path d=\"M0,0Z\" style=\"vector-effect: none; opacity: 1; stroke-width: 0px; fill: rgb(75, 232, 224); fill-opacity: 1;\"/></g><g class=\"point\"><path d=\"M0,0Z\" style=\"vector-effect: none; opacity: 1; stroke-width: 0px; fill: rgb(75, 232, 224); fill-opacity: 1;\"/></g><g class=\"point\"><path d=\"M0,0Z\" style=\"vector-effect: none; opacity: 1; stroke-width: 0px; fill: rgb(75, 232, 224); fill-opacity: 1;\"/></g><g class=\"point\"><path d=\"M0,0Z\" style=\"vector-effect: none; opacity: 1; stroke-width: 0px; fill: rgb(75, 232, 224); fill-opacity: 1;\"/></g><g class=\"point\"><path d=\"M0,0Z\" style=\"vector-effect: none; opacity: 1; stroke-width: 0px; fill: rgb(75, 232, 224); fill-opacity: 1;\"/></g><g class=\"point\"><path d=\"M0,0Z\" style=\"vector-effect: none; opacity: 1; stroke-width: 0px; fill: rgb(75, 232, 224); fill-opacity: 1;\"/></g><g class=\"point\"><path d=\"M0,0Z\" style=\"vector-effect: none; opacity: 1; stroke-width: 0px; fill: rgb(75, 232, 224); fill-opacity: 1;\"/></g><g class=\"point\"><path d=\"M0,0Z\" style=\"vector-effect: none; opacity: 1; stroke-width: 0px; fill: rgb(75, 232, 224); fill-opacity: 1;\"/></g><g class=\"point\"><path d=\"M0,0Z\" style=\"vector-effect: none; opacity: 1; stroke-width: 0px; fill: rgb(75, 232, 224); fill-opacity: 1;\"/></g><g class=\"point\"><path d=\"M0,0Z\" style=\"vector-effect: none; opacity: 1; stroke-width: 0px; fill: rgb(75, 232, 224); fill-opacity: 1;\"/></g><g class=\"point\"><path d=\"M0,0Z\" style=\"vector-effect: none; opacity: 1; stroke-width: 0px; fill: rgb(75, 232, 224); fill-opacity: 1;\"/></g><g class=\"point\"><path d=\"M0,0Z\" style=\"vector-effect: none; opacity: 1; stroke-width: 0px; fill: rgb(75, 232, 224); fill-opacity: 1;\"/></g><g class=\"point\"><path d=\"M0,0Z\" style=\"vector-effect: none; opacity: 1; stroke-width: 0px; fill: rgb(75, 232, 224); fill-opacity: 1;\"/></g><g class=\"point\"><path d=\"M0,0Z\" style=\"vector-effect: none; opacity: 1; stroke-width: 0px; fill: rgb(75, 232, 224); fill-opacity: 1;\"/></g><g class=\"point\"><path d=\"M0,0Z\" style=\"vector-effect: none; opacity: 1; stroke-width: 0px; fill: rgb(75, 232, 224); fill-opacity: 1;\"/></g><g class=\"point\"><path d=\"M0,0Z\" style=\"vector-effect: none; opacity: 1; stroke-width: 0px; fill: rgb(75, 232, 224); fill-opacity: 1;\"/></g><g class=\"point\"><path d=\"M0,0Z\" style=\"vector-effect: none; opacity: 1; stroke-width: 0px; fill: rgb(75, 232, 224); fill-opacity: 1;\"/></g><g class=\"point\"><path d=\"M0,0Z\" style=\"vector-effect: none; opacity: 1; stroke-width: 0px; fill: rgb(75, 232, 224); fill-opacity: 1;\"/></g><g class=\"point\"><path d=\"M0,0Z\" style=\"vector-effect: none; opacity: 1; stroke-width: 0px; fill: rgb(75, 232, 224); fill-opacity: 1;\"/></g><g class=\"point\"><path d=\"M0,0Z\" style=\"vector-effect: none; opacity: 1; stroke-width: 0px; fill: rgb(75, 232, 224); fill-opacity: 1;\"/></g><g class=\"point\"><path d=\"M0,0Z\" style=\"vector-effect: none; opacity: 1; stroke-width: 0px; fill: rgb(75, 232, 224); fill-opacity: 1;\"/></g><g class=\"point\"><path d=\"M0,0Z\" style=\"vector-effect: none; opacity: 1; stroke-width: 0px; fill: rgb(75, 232, 224); fill-opacity: 1;\"/></g><g class=\"point\"><path d=\"M451.37,174.6V174.3H455.69V174.6Z\" style=\"vector-effect: none; opacity: 1; stroke-width: 0px; fill: rgb(75, 232, 224); fill-opacity: 1;\"/></g><g class=\"point\"><path d=\"M0,0Z\" style=\"vector-effect: none; opacity: 1; stroke-width: 0px; fill: rgb(75, 232, 224); fill-opacity: 1;\"/></g><g class=\"point\"><path d=\"M0,0Z\" style=\"vector-effect: none; opacity: 1; stroke-width: 0px; fill: rgb(75, 232, 224); fill-opacity: 1;\"/></g><g class=\"point\"><path d=\"M0,0Z\" style=\"vector-effect: none; opacity: 1; stroke-width: 0px; fill: rgb(75, 232, 224); fill-opacity: 1;\"/></g><g class=\"point\"><path d=\"M0,0Z\" style=\"vector-effect: none; opacity: 1; stroke-width: 0px; fill: rgb(75, 232, 224); fill-opacity: 1;\"/></g><g class=\"point\"><path d=\"M0,0Z\" style=\"vector-effect: none; opacity: 1; stroke-width: 0px; fill: rgb(75, 232, 224); fill-opacity: 1;\"/></g><g class=\"point\"><path d=\"M0,0Z\" style=\"vector-effect: none; opacity: 1; stroke-width: 0px; fill: rgb(75, 232, 224); fill-opacity: 1;\"/></g><g class=\"point\"><path d=\"M0,0Z\" style=\"vector-effect: none; opacity: 1; stroke-width: 0px; fill: rgb(75, 232, 224); fill-opacity: 1;\"/></g><g class=\"point\"><path d=\"M0,0Z\" style=\"vector-effect: none; opacity: 1; stroke-width: 0px; fill: rgb(75, 232, 224); fill-opacity: 1;\"/></g><g class=\"point\"><path d=\"M0,0Z\" style=\"vector-effect: none; opacity: 1; stroke-width: 0px; fill: rgb(75, 232, 224); fill-opacity: 1;\"/></g><g class=\"point\"><path d=\"M0,0Z\" style=\"vector-effect: none; opacity: 1; stroke-width: 0px; fill: rgb(75, 232, 224); fill-opacity: 1;\"/></g><g class=\"point\"><path d=\"M0,0Z\" style=\"vector-effect: none; opacity: 1; stroke-width: 0px; fill: rgb(75, 232, 224); fill-opacity: 1;\"/></g><g class=\"point\"><path d=\"M508.96,174.6V174.3H513.28V174.6Z\" style=\"vector-effect: none; opacity: 1; stroke-width: 0px; fill: rgb(75, 232, 224); fill-opacity: 1;\"/></g></g></g></g></g><g class=\"overplot\"/><path class=\"xlines-above crisp\" d=\"M0,0\" style=\"fill: none;\"/><path class=\"ylines-above crisp\" d=\"M0,0\" style=\"fill: none;\"/><g class=\"overlines-above\"/><g class=\"xaxislayer-above\"><g class=\"xtick\"><text text-anchor=\"middle\" x=\"0\" y=\"433\" transform=\"translate(96.8,0)\" style=\"font-family: 'Open Sans', verdana, arial, sans-serif; font-size: 12px; fill: rgb(68, 68, 68); fill-opacity: 1; white-space: pre; opacity: 1;\">20</text></g><g class=\"xtick\"><text text-anchor=\"middle\" x=\"0\" y=\"433\" style=\"font-family: 'Open Sans', verdana, arial, sans-serif; font-size: 12px; fill: rgb(68, 68, 68); fill-opacity: 1; white-space: pre; opacity: 1;\" transform=\"translate(192.78,0)\">40</text></g><g class=\"xtick\"><text text-anchor=\"middle\" x=\"0\" y=\"433\" style=\"font-family: 'Open Sans', verdana, arial, sans-serif; font-size: 12px; fill: rgb(68, 68, 68); fill-opacity: 1; white-space: pre; opacity: 1;\" transform=\"translate(288.77,0)\">60</text></g><g class=\"xtick\"><text text-anchor=\"middle\" x=\"0\" y=\"433\" style=\"font-family: 'Open Sans', verdana, arial, sans-serif; font-size: 12px; fill: rgb(68, 68, 68); fill-opacity: 1; white-space: pre; opacity: 1;\" transform=\"translate(384.75,0)\">80</text></g><g class=\"xtick\"><text text-anchor=\"middle\" x=\"0\" y=\"433\" style=\"font-family: 'Open Sans', verdana, arial, sans-serif; font-size: 12px; fill: rgb(68, 68, 68); fill-opacity: 1; white-space: pre; opacity: 1;\" transform=\"translate(480.74,0)\">100</text></g><g class=\"xtick\"><text text-anchor=\"middle\" x=\"0\" y=\"433\" style=\"font-family: 'Open Sans', verdana, arial, sans-serif; font-size: 12px; fill: rgb(68, 68, 68); fill-opacity: 1; white-space: pre; opacity: 1;\" transform=\"translate(576.72,0)\">120</text></g></g><g class=\"yaxislayer-above\"><g class=\"ytick\"><text text-anchor=\"end\" x=\"79\" y=\"4.199999999999999\" transform=\"translate(0,420)\" style=\"font-family: 'Open Sans', verdana, arial, sans-serif; font-size: 12px; fill: rgb(68, 68, 68); fill-opacity: 1; white-space: pre; opacity: 1;\">0</text></g><g class=\"ytick\"><text text-anchor=\"end\" x=\"79\" y=\"4.199999999999999\" style=\"font-family: 'Open Sans', verdana, arial, sans-serif; font-size: 12px; fill: rgb(68, 68, 68); fill-opacity: 1; white-space: pre; opacity: 1;\" transform=\"translate(0,365.23)\">0.02</text></g><g class=\"ytick\"><text text-anchor=\"end\" x=\"79\" y=\"4.199999999999999\" style=\"font-family: 'Open Sans', verdana, arial, sans-serif; font-size: 12px; fill: rgb(68, 68, 68); fill-opacity: 1; white-space: pre; opacity: 1;\" transform=\"translate(0,310.45)\">0.04</text></g><g class=\"ytick\"><text text-anchor=\"end\" x=\"79\" y=\"4.199999999999999\" style=\"font-family: 'Open Sans', verdana, arial, sans-serif; font-size: 12px; fill: rgb(68, 68, 68); fill-opacity: 1; white-space: pre; opacity: 1;\" transform=\"translate(0,255.68)\">0.06</text></g></g><g class=\"overaxes-above\"/></g><g class=\"subplot x2y2\"><g class=\"layer-subplot\"><g class=\"shapelayer\"/><g class=\"imagelayer\"/></g><g class=\"minor-gridlayer\"><g class=\"x2\"/><g class=\"y2\"/></g><g class=\"gridlayer\"><g class=\"x2\"/><g class=\"y2\"><path class=\"y2grid crisp\" transform=\"translate(0,179.82999999999998)\" d=\"M80,0h513.52\" style=\"stroke: rgb(238, 238, 238); stroke-opacity: 1; stroke-width: 1px;\"/><path class=\"y2grid crisp\" transform=\"translate(0,125.05)\" d=\"M80,0h513.52\" style=\"stroke: rgb(238, 238, 238); stroke-opacity: 1; stroke-width: 1px;\"/><path class=\"y2grid crisp\" transform=\"translate(0,70.28)\" d=\"M80,0h513.52\" style=\"stroke: rgb(238, 238, 238); stroke-opacity: 1; stroke-width: 1px;\"/></g></g><g class=\"zerolinelayer\"><path class=\"y2zl zl crisp\" transform=\"translate(0,234.6)\" d=\"M80,0h513.52\" style=\"stroke: rgb(68, 68, 68); stroke-opacity: 1; stroke-width: 1px;\"/></g><g class=\"layer-between\"><g class=\"shapelayer\"/><g class=\"imagelayer\"/></g><path class=\"xlines-below\"/><path class=\"ylines-below\"/><g class=\"overlines-below\"/><g class=\"xaxislayer-below\"/><g class=\"yaxislayer-below\"/><g class=\"overaxes-below\"/><g class=\"plot\" transform=\"translate(80,60)\" clip-path=\"url(#clip5a9258x2y2plot)\"><g class=\"barlayer mlayer\"><g class=\"trace bars\" style=\"opacity: 1;\"><g class=\"points\"><g class=\"point\"><path d=\"M0.24,174.6V111.65H4.56V174.6Z\" style=\"vector-effect: none; opacity: 1; stroke-width: 0px; fill: rgb(75, 154, 199); fill-opacity: 1;\"/></g><g class=\"point\"><path d=\"M5.04,174.6V103.3H9.36V174.6Z\" style=\"vector-effect: none; opacity: 1; stroke-width: 0px; fill: rgb(75, 154, 199); fill-opacity: 1;\"/></g><g class=\"point\"><path d=\"M9.84,174.6V95.43H14.16V174.6Z\" style=\"vector-effect: none; opacity: 1; stroke-width: 0px; fill: rgb(75, 154, 199); fill-opacity: 1;\"/></g><g class=\"point\"><path d=\"M14.64,174.6V89.02H18.96V174.6Z\" style=\"vector-effect: none; opacity: 1; stroke-width: 0px; fill: rgb(75, 154, 199); fill-opacity: 1;\"/></g><g class=\"point\"><path d=\"M19.44,174.6V81.82H23.76V174.6Z\" style=\"vector-effect: none; opacity: 1; stroke-width: 0px; fill: rgb(75, 154, 199); fill-opacity: 1;\"/></g><g class=\"point\"><path d=\"M24.24,174.6V76H28.56V174.6Z\" style=\"vector-effect: none; opacity: 1; stroke-width: 0px; fill: rgb(75, 154, 199); fill-opacity: 1;\"/></g><g class=\"point\"><path d=\"M29.04,174.6V69.67H33.35V174.6Z\" style=\"vector-effect: none; opacity: 1; stroke-width: 0px; fill: rgb(75, 154, 199); fill-opacity: 1;\"/></g><g class=\"point\"><path d=\"M33.83,174.6V63.96H38.15V174.6Z\" style=\"vector-effect: none; opacity: 1; stroke-width: 0px; fill: rgb(75, 154, 199); fill-opacity: 1;\"/></g><g class=\"point\"><path d=\"M38.63,174.6V58.27H42.95V174.6Z\" style=\"vector-effect: none; opacity: 1; stroke-width: 0px; fill: rgb(75, 154, 199); fill-opacity: 1;\"/></g><g class=\"point\"><path d=\"M43.43,174.6V55.02H47.75V174.6Z\" style=\"vector-effect: none; opacity: 1; stroke-width: 0px; fill: rgb(75, 154, 199); fill-opacity: 1;\"/></g><g class=\"point\"><path d=\"M48.23,174.6V52.9H52.55V174.6Z\" style=\"vector-effect: none; opacity: 1; stroke-width: 0px; fill: rgb(75, 154, 199); fill-opacity: 1;\"/></g><g class=\"point\"><path d=\"M53.03,174.6V49.83H57.35V174.6Z\" style=\"vector-effect: none; opacity: 1; stroke-width: 0px; fill: rgb(75, 154, 199); fill-opacity: 1;\"/></g><g class=\"point\"><path d=\"M57.83,174.6V52.4H62.15V174.6Z\" style=\"vector-effect: none; opacity: 1; stroke-width: 0px; fill: rgb(75, 154, 199); fill-opacity: 1;\"/></g><g class=\"point\"><path d=\"M62.63,174.6V49.4H66.95V174.6Z\" style=\"vector-effect: none; opacity: 1; stroke-width: 0px; fill: rgb(75, 154, 199); fill-opacity: 1;\"/></g><g class=\"point\"><path d=\"M67.43,174.6V55.34H71.75V174.6Z\" style=\"vector-effect: none; opacity: 1; stroke-width: 0px; fill: rgb(75, 154, 199); fill-opacity: 1;\"/></g><g class=\"point\"><path d=\"M72.23,174.6V57.16H76.55V174.6Z\" style=\"vector-effect: none; opacity: 1; stroke-width: 0px; fill: rgb(75, 154, 199); fill-opacity: 1;\"/></g><g class=\"point\"><path d=\"M77.03,174.6V64.05H81.35V174.6Z\" style=\"vector-effect: none; opacity: 1; stroke-width: 0px; fill: rgb(75, 154, 199); fill-opacity: 1;\"/></g><g class=\"point\"><path d=\"M81.83,174.6V68.47H86.15V174.6Z\" style=\"vector-effect: none; opacity: 1; stroke-width: 0px; fill: rgb(75, 154, 199); fill-opacity: 1;\"/></g><g class=\"point\"><path d=\"M86.63,174.6V73.64H90.95V174.6Z\" style=\"vector-effect: none; opacity: 1; stroke-width: 0px; fill: rgb(75, 154, 199); fill-opacity: 1;\"/></g><g class=\"point\"><path d=\"M91.43,174.6V80.29H95.75V174.6Z\" style=\"vector-effect: none; opacity: 1; stroke-width: 0px; fill: rgb(75, 154, 199); fill-opacity: 1;\"/></g><g class=\"point\"><path d=\"M96.23,174.6V89.06H100.54V174.6Z\" style=\"vector-effect: none; opacity: 1; stroke-width: 0px; fill: rgb(75, 154, 199); fill-opacity: 1;\"/></g><g class=\"point\"><path d=\"M101.02,174.6V95.47H105.34V174.6Z\" style=\"vector-effect: none; opacity: 1; stroke-width: 0px; fill: rgb(75, 154, 199); fill-opacity: 1;\"/></g><g class=\"point\"><path d=\"M105.82,174.6V102.84H110.14V174.6Z\" style=\"vector-effect: none; opacity: 1; stroke-width: 0px; fill: rgb(75, 154, 199); fill-opacity: 1;\"/></g><g class=\"point\"><path d=\"M110.62,174.6V111.39H114.94V174.6Z\" style=\"vector-effect: none; opacity: 1; stroke-width: 0px; fill: rgb(75, 154, 199); fill-opacity: 1;\"/></g><g class=\"point\"><path d=\"M115.42,174.6V117.81H119.74V174.6Z\" style=\"vector-effect: none; opacity: 1; stroke-width: 0px; fill: rgb(75, 154, 199); fill-opacity: 1;\"/></g><g class=\"point\"><path d=\"M120.22,174.6V125.28H124.54V174.6Z\" style=\"vector-effect: none; opacity: 1; stroke-width: 0px; fill: rgb(75, 154, 199); fill-opacity: 1;\"/></g><g class=\"point\"><path d=\"M125.02,174.6V131.15H129.34V174.6Z\" style=\"vector-effect: none; opacity: 1; stroke-width: 0px; fill: rgb(75, 154, 199); fill-opacity: 1;\"/></g><g class=\"point\"><path d=\"M129.82,174.6V137.06H134.14V174.6Z\" style=\"vector-effect: none; opacity: 1; stroke-width: 0px; fill: rgb(75, 154, 199); fill-opacity: 1;\"/></g><g class=\"point\"><path d=\"M134.62,174.6V142.71H138.94V174.6Z\" style=\"vector-effect: none; opacity: 1; stroke-width: 0px; fill: rgb(75, 154, 199); fill-opacity: 1;\"/></g><g class=\"point\"><path d=\"M139.42,174.6V148.13H143.74V174.6Z\" style=\"vector-effect: none; opacity: 1; stroke-width: 0px; fill: rgb(75, 154, 199); fill-opacity: 1;\"/></g><g class=\"point\"><path d=\"M144.22,174.6V152.36H148.54V174.6Z\" style=\"vector-effect: none; opacity: 1; stroke-width: 0px; fill: rgb(75, 154, 199); fill-opacity: 1;\"/></g><g class=\"point\"><path d=\"M149.02,174.6V155.9H153.34V174.6Z\" style=\"vector-effect: none; opacity: 1; stroke-width: 0px; fill: rgb(75, 154, 199); fill-opacity: 1;\"/></g><g class=\"point\"><path d=\"M153.82,174.6V160.13H158.14V174.6Z\" style=\"vector-effect: none; opacity: 1; stroke-width: 0px; fill: rgb(75, 154, 199); fill-opacity: 1;\"/></g><g class=\"point\"><path d=\"M158.62,174.6V162.61H162.93V174.6Z\" style=\"vector-effect: none; opacity: 1; stroke-width: 0px; fill: rgb(75, 154, 199); fill-opacity: 1;\"/></g><g class=\"point\"><path d=\"M163.41,174.6V164.82H167.73V174.6Z\" style=\"vector-effect: none; opacity: 1; stroke-width: 0px; fill: rgb(75, 154, 199); fill-opacity: 1;\"/></g><g class=\"point\"><path d=\"M168.21,174.6V166.33H172.53V174.6Z\" style=\"vector-effect: none; opacity: 1; stroke-width: 0px; fill: rgb(75, 154, 199); fill-opacity: 1;\"/></g><g class=\"point\"><path d=\"M173.01,174.6V168.94H177.33V174.6Z\" style=\"vector-effect: none; opacity: 1; stroke-width: 0px; fill: rgb(75, 154, 199); fill-opacity: 1;\"/></g><g class=\"point\"><path d=\"M177.81,174.6V170.05H182.13V174.6Z\" style=\"vector-effect: none; opacity: 1; stroke-width: 0px; fill: rgb(75, 154, 199); fill-opacity: 1;\"/></g><g class=\"point\"><path d=\"M182.61,174.6V171.13H186.93V174.6Z\" style=\"vector-effect: none; opacity: 1; stroke-width: 0px; fill: rgb(75, 154, 199); fill-opacity: 1;\"/></g><g class=\"point\"><path d=\"M187.41,174.6V172.1H191.73V174.6Z\" style=\"vector-effect: none; opacity: 1; stroke-width: 0px; fill: rgb(75, 154, 199); fill-opacity: 1;\"/></g><g class=\"point\"><path d=\"M192.21,174.6V172.5H196.53V174.6Z\" style=\"vector-effect: none; opacity: 1; stroke-width: 0px; fill: rgb(75, 154, 199); fill-opacity: 1;\"/></g><g class=\"point\"><path d=\"M197.01,174.6V173.16H201.33V174.6Z\" style=\"vector-effect: none; opacity: 1; stroke-width: 0px; fill: rgb(75, 154, 199); fill-opacity: 1;\"/></g><g class=\"point\"><path d=\"M201.81,174.6V173.46H206.13V174.6Z\" style=\"vector-effect: none; opacity: 1; stroke-width: 0px; fill: rgb(75, 154, 199); fill-opacity: 1;\"/></g><g class=\"point\"><path d=\"M206.61,174.6V173.76H210.93V174.6Z\" style=\"vector-effect: none; opacity: 1; stroke-width: 0px; fill: rgb(75, 154, 199); fill-opacity: 1;\"/></g><g class=\"point\"><path d=\"M211.41,174.6V173.98H215.73V174.6Z\" style=\"vector-effect: none; opacity: 1; stroke-width: 0px; fill: rgb(75, 154, 199); fill-opacity: 1;\"/></g><g class=\"point\"><path d=\"M216.21,174.6V174.1H220.53V174.6Z\" style=\"vector-effect: none; opacity: 1; stroke-width: 0px; fill: rgb(75, 154, 199); fill-opacity: 1;\"/></g><g class=\"point\"><path d=\"M221.01,174.6V174.31H225.32V174.6Z\" style=\"vector-effect: none; opacity: 1; stroke-width: 0px; fill: rgb(75, 154, 199); fill-opacity: 1;\"/></g><g class=\"point\"><path d=\"M225.8,174.6V174.34H230.12V174.6Z\" style=\"vector-effect: none; opacity: 1; stroke-width: 0px; fill: rgb(75, 154, 199); fill-opacity: 1;\"/></g><g class=\"point\"><path d=\"M230.6,174.6V174.46H234.92V174.6Z\" style=\"vector-effect: none; opacity: 1; stroke-width: 0px; fill: rgb(75, 154, 199); fill-opacity: 1;\"/></g><g class=\"point\"><path d=\"M235.4,174.6V174.51H239.72V174.6Z\" style=\"vector-effect: none; opacity: 1; stroke-width: 0px; fill: rgb(75, 154, 199); fill-opacity: 1;\"/></g><g class=\"point\"><path d=\"M240.2,174.6V174.55H244.52V174.6Z\" style=\"vector-effect: none; opacity: 1; stroke-width: 0px; fill: rgb(75, 154, 199); fill-opacity: 1;\"/></g><g class=\"point\"><path d=\"M245,174.6V174.58H249.32V174.6Z\" style=\"vector-effect: none; opacity: 1; stroke-width: 0px; fill: rgb(75, 154, 199); fill-opacity: 1;\"/></g><g class=\"point\"><path d=\"M249.8,174.6V174.59H254.12V174.6Z\" style=\"vector-effect: none; opacity: 1; stroke-width: 0px; fill: rgb(75, 154, 199); fill-opacity: 1;\"/></g><g class=\"point\"><path d=\"M254.6,174.6V174.58H258.92V174.6Z\" style=\"vector-effect: none; opacity: 1; stroke-width: 0px; fill: rgb(75, 154, 199); fill-opacity: 1;\"/></g><g class=\"point\"><path d=\"M0,0Z\" style=\"vector-effect: none; opacity: 1; stroke-width: 0px; fill: rgb(75, 154, 199); fill-opacity: 1;\"/></g><g class=\"point\"><path d=\"M264.2,174.6V174.59H268.52V174.6Z\" style=\"vector-effect: none; opacity: 1; stroke-width: 0px; fill: rgb(75, 154, 199); fill-opacity: 1;\"/></g><g class=\"point\"><path d=\"M269,174.6V174.59H273.32V174.6Z\" style=\"vector-effect: none; opacity: 1; stroke-width: 0px; fill: rgb(75, 154, 199); fill-opacity: 1;\"/></g><g class=\"point\"><path d=\"M0,0Z\" style=\"vector-effect: none; opacity: 1; stroke-width: 0px; fill: rgb(75, 154, 199); fill-opacity: 1;\"/></g><g class=\"point\"><path d=\"M0,0Z\" style=\"vector-effect: none; opacity: 1; stroke-width: 0px; fill: rgb(75, 154, 199); fill-opacity: 1;\"/></g><g class=\"point\"><path d=\"M0,0Z\" style=\"vector-effect: none; opacity: 1; stroke-width: 0px; fill: rgb(75, 154, 199); fill-opacity: 1;\"/></g><g class=\"point\"><path d=\"M288.2,174.6V174.59H292.51V174.6Z\" style=\"vector-effect: none; opacity: 1; stroke-width: 0px; fill: rgb(75, 154, 199); fill-opacity: 1;\"/></g><g class=\"point\"><path d=\"M0,0Z\" style=\"vector-effect: none; opacity: 1; stroke-width: 0px; fill: rgb(75, 154, 199); fill-opacity: 1;\"/></g><g class=\"point\"><path d=\"M297.79,174.6V174.59H302.11V174.6Z\" style=\"vector-effect: none; opacity: 1; stroke-width: 0px; fill: rgb(75, 154, 199); fill-opacity: 1;\"/></g></g></g></g></g><g class=\"overplot\"/><path class=\"xlines-above crisp\" d=\"M0,0\" style=\"fill: none;\"/><path class=\"ylines-above crisp\" d=\"M0,0\" style=\"fill: none;\"/><g class=\"overlines-above\"/><g class=\"xaxislayer-above\"/><g class=\"yaxislayer-above\"><g class=\"y2tick\"><text text-anchor=\"end\" x=\"79\" y=\"4.199999999999999\" transform=\"translate(0,234.6)\" style=\"font-family: 'Open Sans', verdana, arial, sans-serif; font-size: 12px; fill: rgb(68, 68, 68); fill-opacity: 1; white-space: pre; opacity: 1;\">0</text></g><g class=\"y2tick\"><text text-anchor=\"end\" x=\"79\" y=\"4.199999999999999\" style=\"font-family: 'Open Sans', verdana, arial, sans-serif; font-size: 12px; fill: rgb(68, 68, 68); fill-opacity: 1; white-space: pre; opacity: 1;\" transform=\"translate(0,179.82999999999998)\">0.02</text></g><g class=\"y2tick\"><text text-anchor=\"end\" x=\"79\" y=\"4.199999999999999\" style=\"font-family: 'Open Sans', verdana, arial, sans-serif; font-size: 12px; fill: rgb(68, 68, 68); fill-opacity: 1; white-space: pre; opacity: 1;\" transform=\"translate(0,125.05)\">0.04</text></g><g class=\"y2tick\"><text text-anchor=\"end\" x=\"79\" y=\"4.199999999999999\" style=\"font-family: 'Open Sans', verdana, arial, sans-serif; font-size: 12px; fill: rgb(68, 68, 68); fill-opacity: 1; white-space: pre; opacity: 1;\" transform=\"translate(0,70.28)\">0.06</text></g></g><g class=\"overaxes-above\"/></g></g><g class=\"polarlayer\"/><g class=\"smithlayer\"/><g class=\"ternarylayer\"/><g class=\"geolayer\"/><g class=\"funnelarealayer\"/><g class=\"pielayer\"/><g class=\"iciclelayer\"/><g class=\"treemaplayer\"/><g class=\"sunburstlayer\"/><g class=\"glimages\"/><defs id=\"topdefs-5a9258\"><g class=\"clips\"/><clipPath id=\"legend5a9258\"><rect width=\"74\" height=\"67\" x=\"0\" y=\"0\"/></clipPath></defs><g class=\"layer-above\"><g class=\"imagelayer\"/><g class=\"shapelayer\"/></g><g class=\"infolayer\"><g class=\"legend\" pointer-events=\"all\" transform=\"translate(614.48,60)\"><rect class=\"bg\" shape-rendering=\"crispEdges\" width=\"74\" height=\"67\" x=\"0\" y=\"0\" style=\"stroke: rgb(68, 68, 68); stroke-opacity: 1; fill: rgb(255, 255, 255); fill-opacity: 1; stroke-width: 0px;\"/><g class=\"scrollbox\" transform=\"\" clip-path=\"url(#legend5a9258)\"><text class=\"legendtitletext\" text-anchor=\"start\" x=\"2\" y=\"18.2\" style=\"font-family: 'Open Sans', verdana, arial, sans-serif; font-size: 14px; fill: rgb(68, 68, 68); fill-opacity: 1; white-space: pre;\">converted</text><g class=\"groups\" transform=\"\"><g class=\"traces\" transform=\"translate(0,32.7)\" style=\"opacity: 1;\"><text class=\"legendtext\" text-anchor=\"start\" x=\"40\" y=\"4.680000000000001\" style=\"font-family: 'Open Sans', verdana, arial, sans-serif; font-size: 12px; fill: rgb(68, 68, 68); fill-opacity: 1; white-space: pre;\">0</text><g class=\"layers\" style=\"opacity: 1;\"><g class=\"legendfill\"/><g class=\"legendlines\"/><g class=\"legendsymbols\"><g class=\"legendpoints\"><path class=\"legendundefined\" d=\"M6,6H-6V-6H6Z\" transform=\"translate(20,0)\" style=\"stroke-width: 0px; fill: rgb(75, 154, 199); fill-opacity: 1;\"/></g></g></g><rect class=\"legendtoggle\" x=\"0\" y=\"-9.5\" width=\"47.640625\" height=\"19\" style=\"fill: rgb(0, 0, 0); fill-opacity: 0;\"/></g></g><g class=\"groups\" transform=\"\"><g class=\"traces\" transform=\"translate(0,51.7)\" style=\"opacity: 1;\"><text class=\"legendtext\" text-anchor=\"start\" x=\"40\" y=\"4.680000000000001\" style=\"font-family: 'Open Sans', verdana, arial, sans-serif; font-size: 12px; fill: rgb(68, 68, 68); fill-opacity: 1; white-space: pre;\">1</text><g class=\"layers\" style=\"opacity: 1;\"><g class=\"legendfill\"/><g class=\"legendlines\"/><g class=\"legendsymbols\"><g class=\"legendpoints\"><path class=\"legendundefined\" d=\"M6,6H-6V-6H6Z\" transform=\"translate(20,0)\" style=\"stroke-width: 0px; fill: rgb(75, 232, 224); fill-opacity: 1;\"/></g></g></g><rect class=\"legendtoggle\" x=\"0\" y=\"-9.5\" width=\"47.640625\" height=\"19\" style=\"fill: rgb(0, 0, 0); fill-opacity: 0;\"/></g></g></g><rect class=\"scrollbar\" rx=\"20\" ry=\"3\" width=\"0\" height=\"0\" x=\"0\" y=\"0\" style=\"fill: rgb(128, 139, 164); fill-opacity: 1;\"/></g><g class=\"g-gtitle\"/><g class=\"g-xtitle\"><text class=\"xtitle\" x=\"336.76\" y=\"472\" text-anchor=\"middle\" style=\"font-family: 'Open Sans', verdana, arial, sans-serif; font-size: 14px; fill: rgb(68, 68, 68); opacity: 1; white-space: pre;\">age</text></g><g class=\"g-x2title\"/><g class=\"g-ytitle\"><text class=\"ytitle\" transform=\"rotate(-90,42,332.7)\" x=\"42\" y=\"332.7\" text-anchor=\"middle\" style=\"font-family: 'Open Sans', verdana, arial, sans-serif; font-size: 14px; fill: rgb(68, 68, 68); opacity: 1; white-space: pre;\">probability</text></g><g class=\"g-y2title\"><text class=\"y2title\" transform=\"rotate(-90,42,147.3)\" x=\"42\" y=\"147.3\" text-anchor=\"middle\" style=\"font-family: 'Open Sans', verdana, arial, sans-serif; font-size: 14px; fill: rgb(68, 68, 68); opacity: 1; white-space: pre;\">probability</text></g><g class=\"annotation\" data-index=\"0\" style=\"opacity: 1;\"><g class=\"annotation-text-g\" transform=\"rotate(90,603.02,332.70000000000005)\"><g class=\"cursor-pointer\" transform=\"translate(563,323)\"><rect class=\"bg\" x=\"0.5\" y=\"0.5\" width=\"80\" height=\"18\" style=\"stroke-width: 1px; stroke: rgb(0, 0, 0); stroke-opacity: 0; fill: rgb(0, 0, 0); fill-opacity: 0;\"/><text class=\"annotation-text\" text-anchor=\"middle\" x=\"40.65625\" y=\"14\" style=\"font-family: 'Open Sans', verdana, arial, sans-serif; font-size: 12px; fill: rgb(68, 68, 68); fill-opacity: 1; white-space: pre;\">converted=1</text></g></g></g><g class=\"annotation\" data-index=\"1\" style=\"opacity: 1;\"><g class=\"annotation-text-g\" transform=\"rotate(90,603.02,147.29999999999998)\"><g class=\"cursor-pointer\" transform=\"translate(563,138)\"><rect class=\"bg\" x=\"0.5\" y=\"0.5\" width=\"80\" height=\"18\" style=\"stroke-width: 1px; stroke: rgb(0, 0, 0); stroke-opacity: 0; fill: rgb(0, 0, 0); fill-opacity: 0;\"/><text class=\"annotation-text\" text-anchor=\"middle\" x=\"40.65625\" y=\"14\" style=\"font-family: 'Open Sans', verdana, arial, sans-serif; font-size: 12px; fill: rgb(68, 68, 68); fill-opacity: 1; white-space: pre;\">converted=0</text></g></g></g></g></svg>"
     },
     "metadata": {},
     "output_type": "display_data"
    }
   ],
   "execution_count": 60
  },
  {
   "metadata": {},
   "cell_type": "markdown",
   "source": "Comme remarqué sur le descriptif du dataset plus haut, on observe des valeurs d'age extrêmes (>100 ans) et peu representée, sur 280 000 valeurs on peut négliger leur influence et les conserver."
  },
  {
   "metadata": {
    "ExecuteTime": {
     "end_time": "2024-08-10T15:18:40.778192Z",
     "start_time": "2024-08-10T15:18:39.859025Z"
    }
   },
   "cell_type": "code",
   "source": "display_distribution(num_features[3])",
   "outputs": [
    {
     "data": {
      "image/svg+xml": "<svg class=\"main-svg\" xmlns=\"http://www.w3.org/2000/svg\" xmlns:xlink=\"http://www.w3.org/1999/xlink\" width=\"700\" height=\"500\" style=\"\" viewBox=\"0 0 700 500\"><rect x=\"0\" y=\"0\" width=\"700\" height=\"500\" style=\"fill: rgb(255, 255, 255); fill-opacity: 1;\"/><defs id=\"defs-ce18dc\"><g class=\"clips\"><clipPath id=\"clipce18dcxyplot\" class=\"plotclip\"><rect width=\"513.52\" height=\"174.6\"/></clipPath><clipPath id=\"clipce18dcx2y2plot\" class=\"plotclip\"><rect width=\"513.52\" height=\"174.6\"/></clipPath><clipPath class=\"axesclip\" id=\"clipce18dcx\"><rect x=\"80\" y=\"0\" width=\"513.52\" height=\"500\"/></clipPath><clipPath class=\"axesclip\" id=\"clipce18dcy\"><rect x=\"0\" y=\"245.4\" width=\"700\" height=\"174.6\"/></clipPath><clipPath class=\"axesclip\" id=\"clipce18dcxy\"><rect x=\"80\" y=\"245.4\" width=\"513.52\" height=\"174.6\"/></clipPath><clipPath class=\"axesclip\" id=\"clipce18dcy2\"><rect x=\"0\" y=\"60\" width=\"700\" height=\"174.6\"/></clipPath><clipPath class=\"axesclip\" id=\"clipce18dcxy2\"><rect x=\"80\" y=\"60\" width=\"513.52\" height=\"174.6\"/></clipPath><clipPath class=\"axesclip\" id=\"clipce18dcx2\"><rect x=\"80\" y=\"0\" width=\"513.52\" height=\"500\"/></clipPath><clipPath class=\"axesclip\" id=\"clipce18dcx2y\"><rect x=\"80\" y=\"245.4\" width=\"513.52\" height=\"174.6\"/></clipPath><clipPath class=\"axesclip\" id=\"clipce18dcx2y2\"><rect x=\"80\" y=\"60\" width=\"513.52\" height=\"174.6\"/></clipPath></g><g class=\"gradients\"/><g class=\"patterns\"/></defs><g class=\"bglayer\"/><g class=\"layer-below\"><g class=\"imagelayer\"/><g class=\"shapelayer\"/></g><g class=\"cartesianlayer\"><g class=\"subplot xy\"><g class=\"layer-subplot\"><g class=\"shapelayer\"/><g class=\"imagelayer\"/></g><g class=\"minor-gridlayer\"><g class=\"x\"/><g class=\"y\"/></g><g class=\"gridlayer\"><g class=\"x\"/><g class=\"y\"><path class=\"ygrid crisp\" transform=\"translate(0,386.78999999999996)\" d=\"M80,0h513.52\" style=\"stroke: rgb(238, 238, 238); stroke-opacity: 1; stroke-width: 1px;\"/><path class=\"ygrid crisp\" transform=\"translate(0,353.58000000000004)\" d=\"M80,0h513.52\" style=\"stroke: rgb(238, 238, 238); stroke-opacity: 1; stroke-width: 1px;\"/><path class=\"ygrid crisp\" transform=\"translate(0,320.37)\" d=\"M80,0h513.52\" style=\"stroke: rgb(238, 238, 238); stroke-opacity: 1; stroke-width: 1px;\"/><path class=\"ygrid crisp\" transform=\"translate(0,287.16)\" d=\"M80,0h513.52\" style=\"stroke: rgb(238, 238, 238); stroke-opacity: 1; stroke-width: 1px;\"/><path class=\"ygrid crisp\" transform=\"translate(0,253.95000000000002)\" d=\"M80,0h513.52\" style=\"stroke: rgb(238, 238, 238); stroke-opacity: 1; stroke-width: 1px;\"/></g></g><g class=\"zerolinelayer\"><path class=\"yzl zl crisp\" transform=\"translate(0,420)\" d=\"M80,0h513.52\" style=\"stroke: rgb(68, 68, 68); stroke-opacity: 1; stroke-width: 1px;\"/></g><g class=\"layer-between\"><g class=\"shapelayer\"/><g class=\"imagelayer\"/></g><path class=\"xlines-below\"/><path class=\"ylines-below\"/><g class=\"overlines-below\"/><g class=\"xaxislayer-below\"/><g class=\"yaxislayer-below\"/><g class=\"overaxes-below\"/><g class=\"plot\" transform=\"translate(80,245.4)\" clip-path=\"url(#clipce18dcxyplot)\"><g class=\"barlayer mlayer\"><g class=\"trace bars\" style=\"opacity: 1;\"><g class=\"points\"><g class=\"point\"><path d=\"M8.56,174.6V109.12H162.61V174.6Z\" style=\"vector-effect: none; opacity: 1; stroke-width: 0px; fill: rgb(75, 232, 224); fill-opacity: 1;\"/></g><g class=\"point\"><path d=\"M179.73,174.6V73.85H333.79V174.6Z\" style=\"vector-effect: none; opacity: 1; stroke-width: 0px; fill: rgb(75, 232, 224); fill-opacity: 1;\"/></g><g class=\"point\"><path d=\"M350.91,174.6V8.73H504.96V174.6Z\" style=\"vector-effect: none; opacity: 1; stroke-width: 0px; fill: rgb(75, 232, 224); fill-opacity: 1;\"/></g></g></g></g></g><g class=\"overplot\"/><path class=\"xlines-above crisp\" d=\"M0,0\" style=\"fill: none;\"/><path class=\"ylines-above crisp\" d=\"M0,0\" style=\"fill: none;\"/><g class=\"overlines-above\"/><g class=\"xaxislayer-above\"><g class=\"xtick\"><text text-anchor=\"middle\" x=\"0\" y=\"433\" transform=\"translate(165.59,0)\" style=\"font-family: 'Open Sans', verdana, arial, sans-serif; font-size: 12px; fill: rgb(68, 68, 68); fill-opacity: 1; white-space: pre; opacity: 1;\">Direct</text></g><g class=\"xtick\"><text text-anchor=\"middle\" x=\"0\" y=\"433\" transform=\"translate(336.76,0)\" style=\"font-family: 'Open Sans', verdana, arial, sans-serif; font-size: 12px; fill: rgb(68, 68, 68); fill-opacity: 1; white-space: pre; opacity: 1;\">Ads</text></g><g class=\"xtick\"><text text-anchor=\"middle\" x=\"0\" y=\"433\" transform=\"translate(507.93,0)\" style=\"font-family: 'Open Sans', verdana, arial, sans-serif; font-size: 12px; fill: rgb(68, 68, 68); fill-opacity: 1; white-space: pre; opacity: 1;\">Seo</text></g></g><g class=\"yaxislayer-above\"><g class=\"ytick\"><text text-anchor=\"end\" x=\"79\" y=\"4.199999999999999\" transform=\"translate(0,420)\" style=\"font-family: 'Open Sans', verdana, arial, sans-serif; font-size: 12px; fill: rgb(68, 68, 68); fill-opacity: 1; white-space: pre; opacity: 1;\">0</text></g><g class=\"ytick\"><text text-anchor=\"end\" x=\"79\" y=\"4.199999999999999\" style=\"font-family: 'Open Sans', verdana, arial, sans-serif; font-size: 12px; fill: rgb(68, 68, 68); fill-opacity: 1; white-space: pre; opacity: 1;\" transform=\"translate(0,386.78999999999996)\">0.1</text></g><g class=\"ytick\"><text text-anchor=\"end\" x=\"79\" y=\"4.199999999999999\" style=\"font-family: 'Open Sans', verdana, arial, sans-serif; font-size: 12px; fill: rgb(68, 68, 68); fill-opacity: 1; white-space: pre; opacity: 1;\" transform=\"translate(0,353.58000000000004)\">0.2</text></g><g class=\"ytick\"><text text-anchor=\"end\" x=\"79\" y=\"4.199999999999999\" style=\"font-family: 'Open Sans', verdana, arial, sans-serif; font-size: 12px; fill: rgb(68, 68, 68); fill-opacity: 1; white-space: pre; opacity: 1;\" transform=\"translate(0,320.37)\">0.3</text></g><g class=\"ytick\"><text text-anchor=\"end\" x=\"79\" y=\"4.199999999999999\" style=\"font-family: 'Open Sans', verdana, arial, sans-serif; font-size: 12px; fill: rgb(68, 68, 68); fill-opacity: 1; white-space: pre; opacity: 1;\" transform=\"translate(0,287.16)\">0.4</text></g><g class=\"ytick\"><text text-anchor=\"end\" x=\"79\" y=\"4.199999999999999\" style=\"font-family: 'Open Sans', verdana, arial, sans-serif; font-size: 12px; fill: rgb(68, 68, 68); fill-opacity: 1; white-space: pre; opacity: 1;\" transform=\"translate(0,253.95000000000002)\">0.5</text></g></g><g class=\"overaxes-above\"/></g><g class=\"subplot x2y2\"><g class=\"layer-subplot\"><g class=\"shapelayer\"/><g class=\"imagelayer\"/></g><g class=\"minor-gridlayer\"><g class=\"x2\"/><g class=\"y2\"/></g><g class=\"gridlayer\"><g class=\"x2\"/><g class=\"y2\"><path class=\"y2grid crisp\" transform=\"translate(0,201.39)\" d=\"M80,0h513.52\" style=\"stroke: rgb(238, 238, 238); stroke-opacity: 1; stroke-width: 1px;\"/><path class=\"y2grid crisp\" transform=\"translate(0,168.18)\" d=\"M80,0h513.52\" style=\"stroke: rgb(238, 238, 238); stroke-opacity: 1; stroke-width: 1px;\"/><path class=\"y2grid crisp\" transform=\"translate(0,134.97)\" d=\"M80,0h513.52\" style=\"stroke: rgb(238, 238, 238); stroke-opacity: 1; stroke-width: 1px;\"/><path class=\"y2grid crisp\" transform=\"translate(0,101.75999999999999)\" d=\"M80,0h513.52\" style=\"stroke: rgb(238, 238, 238); stroke-opacity: 1; stroke-width: 1px;\"/><path class=\"y2grid crisp\" transform=\"translate(0,68.55)\" d=\"M80,0h513.52\" style=\"stroke: rgb(238, 238, 238); stroke-opacity: 1; stroke-width: 1px;\"/></g></g><g class=\"zerolinelayer\"><path class=\"y2zl zl crisp\" transform=\"translate(0,234.6)\" d=\"M80,0h513.52\" style=\"stroke: rgb(68, 68, 68); stroke-opacity: 1; stroke-width: 1px;\"/></g><g class=\"layer-between\"><g class=\"shapelayer\"/><g class=\"imagelayer\"/></g><path class=\"xlines-below\"/><path class=\"ylines-below\"/><g class=\"overlines-below\"/><g class=\"xaxislayer-below\"/><g class=\"yaxislayer-below\"/><g class=\"overaxes-below\"/><g class=\"plot\" transform=\"translate(80,60)\" clip-path=\"url(#clipce18dcx2y2plot)\"><g class=\"barlayer mlayer\"><g class=\"trace bars\" style=\"opacity: 1;\"><g class=\"points\"><g class=\"point\"><path d=\"M8.56,174.6V98.31H162.61V174.6Z\" style=\"vector-effect: none; opacity: 1; stroke-width: 0px; fill: rgb(75, 154, 199); fill-opacity: 1;\"/></g><g class=\"point\"><path d=\"M179.73,174.6V81.45H333.79V174.6Z\" style=\"vector-effect: none; opacity: 1; stroke-width: 0px; fill: rgb(75, 154, 199); fill-opacity: 1;\"/></g><g class=\"point\"><path d=\"M350.91,174.6V11.94H504.96V174.6Z\" style=\"vector-effect: none; opacity: 1; stroke-width: 0px; fill: rgb(75, 154, 199); fill-opacity: 1;\"/></g></g></g></g></g><g class=\"overplot\"/><path class=\"xlines-above crisp\" d=\"M0,0\" style=\"fill: none;\"/><path class=\"ylines-above crisp\" d=\"M0,0\" style=\"fill: none;\"/><g class=\"overlines-above\"/><g class=\"xaxislayer-above\"/><g class=\"yaxislayer-above\"><g class=\"y2tick\"><text text-anchor=\"end\" x=\"79\" y=\"4.199999999999999\" transform=\"translate(0,234.6)\" style=\"font-family: 'Open Sans', verdana, arial, sans-serif; font-size: 12px; fill: rgb(68, 68, 68); fill-opacity: 1; white-space: pre; opacity: 1;\">0</text></g><g class=\"y2tick\"><text text-anchor=\"end\" x=\"79\" y=\"4.199999999999999\" style=\"font-family: 'Open Sans', verdana, arial, sans-serif; font-size: 12px; fill: rgb(68, 68, 68); fill-opacity: 1; white-space: pre; opacity: 1;\" transform=\"translate(0,201.39)\">0.1</text></g><g class=\"y2tick\"><text text-anchor=\"end\" x=\"79\" y=\"4.199999999999999\" style=\"font-family: 'Open Sans', verdana, arial, sans-serif; font-size: 12px; fill: rgb(68, 68, 68); fill-opacity: 1; white-space: pre; opacity: 1;\" transform=\"translate(0,168.18)\">0.2</text></g><g class=\"y2tick\"><text text-anchor=\"end\" x=\"79\" y=\"4.199999999999999\" style=\"font-family: 'Open Sans', verdana, arial, sans-serif; font-size: 12px; fill: rgb(68, 68, 68); fill-opacity: 1; white-space: pre; opacity: 1;\" transform=\"translate(0,134.97)\">0.3</text></g><g class=\"y2tick\"><text text-anchor=\"end\" x=\"79\" y=\"4.199999999999999\" style=\"font-family: 'Open Sans', verdana, arial, sans-serif; font-size: 12px; fill: rgb(68, 68, 68); fill-opacity: 1; white-space: pre; opacity: 1;\" transform=\"translate(0,101.75999999999999)\">0.4</text></g><g class=\"y2tick\"><text text-anchor=\"end\" x=\"79\" y=\"4.199999999999999\" style=\"font-family: 'Open Sans', verdana, arial, sans-serif; font-size: 12px; fill: rgb(68, 68, 68); fill-opacity: 1; white-space: pre; opacity: 1;\" transform=\"translate(0,68.55)\">0.5</text></g></g><g class=\"overaxes-above\"/></g></g><g class=\"polarlayer\"/><g class=\"smithlayer\"/><g class=\"ternarylayer\"/><g class=\"geolayer\"/><g class=\"funnelarealayer\"/><g class=\"pielayer\"/><g class=\"iciclelayer\"/><g class=\"treemaplayer\"/><g class=\"sunburstlayer\"/><g class=\"glimages\"/><defs id=\"topdefs-ce18dc\"><g class=\"clips\"/><clipPath id=\"legendce18dc\"><rect width=\"74\" height=\"67\" x=\"0\" y=\"0\"/></clipPath></defs><g class=\"layer-above\"><g class=\"imagelayer\"/><g class=\"shapelayer\"/></g><g class=\"infolayer\"><g class=\"legend\" pointer-events=\"all\" transform=\"translate(614.48,60)\"><rect class=\"bg\" shape-rendering=\"crispEdges\" width=\"74\" height=\"67\" x=\"0\" y=\"0\" style=\"stroke: rgb(68, 68, 68); stroke-opacity: 1; fill: rgb(255, 255, 255); fill-opacity: 1; stroke-width: 0px;\"/><g class=\"scrollbox\" transform=\"\" clip-path=\"url(#legendce18dc)\"><text class=\"legendtitletext\" text-anchor=\"start\" x=\"2\" y=\"18.2\" style=\"font-family: 'Open Sans', verdana, arial, sans-serif; font-size: 14px; fill: rgb(68, 68, 68); fill-opacity: 1; white-space: pre;\">converted</text><g class=\"groups\" transform=\"\"><g class=\"traces\" transform=\"translate(0,32.7)\" style=\"opacity: 1;\"><text class=\"legendtext\" text-anchor=\"start\" x=\"40\" y=\"4.680000000000001\" style=\"font-family: 'Open Sans', verdana, arial, sans-serif; font-size: 12px; fill: rgb(68, 68, 68); fill-opacity: 1; white-space: pre;\">0</text><g class=\"layers\" style=\"opacity: 1;\"><g class=\"legendfill\"/><g class=\"legendlines\"/><g class=\"legendsymbols\"><g class=\"legendpoints\"><path class=\"legendundefined\" d=\"M6,6H-6V-6H6Z\" transform=\"translate(20,0)\" style=\"stroke-width: 0px; fill: rgb(75, 154, 199); fill-opacity: 1;\"/></g></g></g><rect class=\"legendtoggle\" x=\"0\" y=\"-9.5\" width=\"47.640625\" height=\"19\" style=\"fill: rgb(0, 0, 0); fill-opacity: 0;\"/></g></g><g class=\"groups\" transform=\"\"><g class=\"traces\" transform=\"translate(0,51.7)\" style=\"opacity: 1;\"><text class=\"legendtext\" text-anchor=\"start\" x=\"40\" y=\"4.680000000000001\" style=\"font-family: 'Open Sans', verdana, arial, sans-serif; font-size: 12px; fill: rgb(68, 68, 68); fill-opacity: 1; white-space: pre;\">1</text><g class=\"layers\" style=\"opacity: 1;\"><g class=\"legendfill\"/><g class=\"legendlines\"/><g class=\"legendsymbols\"><g class=\"legendpoints\"><path class=\"legendundefined\" d=\"M6,6H-6V-6H6Z\" transform=\"translate(20,0)\" style=\"stroke-width: 0px; fill: rgb(75, 232, 224); fill-opacity: 1;\"/></g></g></g><rect class=\"legendtoggle\" x=\"0\" y=\"-9.5\" width=\"47.640625\" height=\"19\" style=\"fill: rgb(0, 0, 0); fill-opacity: 0;\"/></g></g></g><rect class=\"scrollbar\" rx=\"20\" ry=\"3\" width=\"0\" height=\"0\" x=\"0\" y=\"0\" style=\"fill: rgb(128, 139, 164); fill-opacity: 1;\"/></g><g class=\"g-gtitle\"/><g class=\"g-xtitle\"><text class=\"xtitle\" x=\"336.76\" y=\"472\" text-anchor=\"middle\" style=\"font-family: 'Open Sans', verdana, arial, sans-serif; font-size: 14px; fill: rgb(68, 68, 68); opacity: 1; white-space: pre;\">source</text></g><g class=\"g-x2title\"/><g class=\"g-ytitle\"><text class=\"ytitle\" transform=\"rotate(-90,42,332.7)\" x=\"42\" y=\"332.7\" text-anchor=\"middle\" style=\"font-family: 'Open Sans', verdana, arial, sans-serif; font-size: 14px; fill: rgb(68, 68, 68); opacity: 1; white-space: pre;\">probability</text></g><g class=\"g-y2title\"><text class=\"y2title\" transform=\"rotate(-90,42,147.3)\" x=\"42\" y=\"147.3\" text-anchor=\"middle\" style=\"font-family: 'Open Sans', verdana, arial, sans-serif; font-size: 14px; fill: rgb(68, 68, 68); opacity: 1; white-space: pre;\">probability</text></g><g class=\"annotation\" data-index=\"0\" style=\"opacity: 1;\"><g class=\"annotation-text-g\" transform=\"rotate(90,603.02,332.70000000000005)\"><g class=\"cursor-pointer\" transform=\"translate(563,323)\"><rect class=\"bg\" x=\"0.5\" y=\"0.5\" width=\"80\" height=\"18\" style=\"stroke-width: 1px; stroke: rgb(0, 0, 0); stroke-opacity: 0; fill: rgb(0, 0, 0); fill-opacity: 0;\"/><text class=\"annotation-text\" text-anchor=\"middle\" x=\"40.65625\" y=\"14\" style=\"font-family: 'Open Sans', verdana, arial, sans-serif; font-size: 12px; fill: rgb(68, 68, 68); fill-opacity: 1; white-space: pre;\">converted=1</text></g></g></g><g class=\"annotation\" data-index=\"1\" style=\"opacity: 1;\"><g class=\"annotation-text-g\" transform=\"rotate(90,603.02,147.29999999999998)\"><g class=\"cursor-pointer\" transform=\"translate(563,138)\"><rect class=\"bg\" x=\"0.5\" y=\"0.5\" width=\"80\" height=\"18\" style=\"stroke-width: 1px; stroke: rgb(0, 0, 0); stroke-opacity: 0; fill: rgb(0, 0, 0); fill-opacity: 0;\"/><text class=\"annotation-text\" text-anchor=\"middle\" x=\"40.65625\" y=\"14\" style=\"font-family: 'Open Sans', verdana, arial, sans-serif; font-size: 12px; fill: rgb(68, 68, 68); fill-opacity: 1; white-space: pre;\">converted=0</text></g></g></g></g></svg>"
     },
     "metadata": {},
     "output_type": "display_data"
    }
   ],
   "execution_count": 9
  },
  {
   "metadata": {},
   "cell_type": "markdown",
   "source": "La majorité des visiteurs, qu'ils convertissent ou non, arrivent principalement grâce au référencement naturel (SEO). Il est logique que la publicité attire plus de visiteurs sur le site que la recherche directe de l'URL par l'utilisateur. Cependant, le fait que la publicité génère moins de trafic que le référencement naturel suggère que soit la stratégie publicitaire pourrait être améliorée, soit que leur travail de référencement naturel est particulièrement efficace."
  },
  {
   "metadata": {
    "ExecuteTime": {
     "end_time": "2024-08-10T15:18:41.625224Z",
     "start_time": "2024-08-10T15:18:40.779759Z"
    }
   },
   "cell_type": "code",
   "source": "display_distribution(num_features[4])",
   "outputs": [
    {
     "data": {
      "image/svg+xml": "<svg class=\"main-svg\" xmlns=\"http://www.w3.org/2000/svg\" xmlns:xlink=\"http://www.w3.org/1999/xlink\" width=\"700\" height=\"500\" style=\"\" viewBox=\"0 0 700 500\"><rect x=\"0\" y=\"0\" width=\"700\" height=\"500\" style=\"fill: rgb(255, 255, 255); fill-opacity: 1;\"/><defs id=\"defs-df79b1\"><g class=\"clips\"><clipPath id=\"clipdf79b1xyplot\" class=\"plotclip\"><rect width=\"513.52\" height=\"174.6\"/></clipPath><clipPath id=\"clipdf79b1x2y2plot\" class=\"plotclip\"><rect width=\"513.52\" height=\"174.6\"/></clipPath><clipPath class=\"axesclip\" id=\"clipdf79b1x\"><rect x=\"80\" y=\"0\" width=\"513.52\" height=\"500\"/></clipPath><clipPath class=\"axesclip\" id=\"clipdf79b1y\"><rect x=\"0\" y=\"245.4\" width=\"700\" height=\"174.6\"/></clipPath><clipPath class=\"axesclip\" id=\"clipdf79b1xy\"><rect x=\"80\" y=\"245.4\" width=\"513.52\" height=\"174.6\"/></clipPath><clipPath class=\"axesclip\" id=\"clipdf79b1y2\"><rect x=\"0\" y=\"60\" width=\"700\" height=\"174.6\"/></clipPath><clipPath class=\"axesclip\" id=\"clipdf79b1xy2\"><rect x=\"80\" y=\"60\" width=\"513.52\" height=\"174.6\"/></clipPath><clipPath class=\"axesclip\" id=\"clipdf79b1x2\"><rect x=\"80\" y=\"0\" width=\"513.52\" height=\"500\"/></clipPath><clipPath class=\"axesclip\" id=\"clipdf79b1x2y\"><rect x=\"80\" y=\"245.4\" width=\"513.52\" height=\"174.6\"/></clipPath><clipPath class=\"axesclip\" id=\"clipdf79b1x2y2\"><rect x=\"80\" y=\"60\" width=\"513.52\" height=\"174.6\"/></clipPath></g><g class=\"gradients\"/><g class=\"patterns\"/></defs><g class=\"bglayer\"/><g class=\"layer-below\"><g class=\"imagelayer\"/><g class=\"shapelayer\"/></g><g class=\"cartesianlayer\"><g class=\"subplot xy\"><g class=\"layer-subplot\"><g class=\"shapelayer\"/><g class=\"imagelayer\"/></g><g class=\"minor-gridlayer\"><g class=\"x\"/><g class=\"y\"/></g><g class=\"gridlayer\"><g class=\"x\"/><g class=\"y\"><path class=\"ygrid crisp\" transform=\"translate(0,362.23)\" d=\"M80,0h513.52\" style=\"stroke: rgb(238, 238, 238); stroke-opacity: 1; stroke-width: 1px;\"/><path class=\"ygrid crisp\" transform=\"translate(0,304.46000000000004)\" d=\"M80,0h513.52\" style=\"stroke: rgb(238, 238, 238); stroke-opacity: 1; stroke-width: 1px;\"/><path class=\"ygrid crisp\" transform=\"translate(0,246.69)\" d=\"M80,0h513.52\" style=\"stroke: rgb(238, 238, 238); stroke-opacity: 1; stroke-width: 1px;\"/></g></g><g class=\"zerolinelayer\"><path class=\"yzl zl crisp\" transform=\"translate(0,420)\" d=\"M80,0h513.52\" style=\"stroke: rgb(68, 68, 68); stroke-opacity: 1; stroke-width: 1px;\"/></g><g class=\"layer-between\"><g class=\"shapelayer\"/><g class=\"imagelayer\"/></g><path class=\"xlines-below\"/><path class=\"ylines-below\"/><g class=\"overlines-below\"/><g class=\"xaxislayer-below\"/><g class=\"yaxislayer-below\"/><g class=\"overaxes-below\"/><g class=\"plot\" transform=\"translate(80,245.4)\" clip-path=\"url(#clipdf79b1xyplot)\"><g class=\"barlayer mlayer\"><g class=\"trace bars\" style=\"opacity: 1;\"><g class=\"points\"><g class=\"point\"><path d=\"M18.59,174.6V173.47H34.53V174.6Z\" style=\"vector-effect: none; opacity: 1; stroke-width: 0px; fill: rgb(75, 232, 224); fill-opacity: 1;\"/></g><g class=\"point\"><path d=\"M36.3,174.6V173.22H52.24V174.6Z\" style=\"vector-effect: none; opacity: 1; stroke-width: 0px; fill: rgb(75, 232, 224); fill-opacity: 1;\"/></g><g class=\"point\"><path d=\"M54.01,174.6V170.95H69.94V174.6Z\" style=\"vector-effect: none; opacity: 1; stroke-width: 0px; fill: rgb(75, 232, 224); fill-opacity: 1;\"/></g><g class=\"point\"><path d=\"M71.72,174.6V168.18H87.65V174.6Z\" style=\"vector-effect: none; opacity: 1; stroke-width: 0px; fill: rgb(75, 232, 224); fill-opacity: 1;\"/></g><g class=\"point\"><path d=\"M89.42,174.6V162.77H105.36V174.6Z\" style=\"vector-effect: none; opacity: 1; stroke-width: 0px; fill: rgb(75, 232, 224); fill-opacity: 1;\"/></g><g class=\"point\"><path d=\"M107.13,174.6V157.11H123.07V174.6Z\" style=\"vector-effect: none; opacity: 1; stroke-width: 0px; fill: rgb(75, 232, 224); fill-opacity: 1;\"/></g><g class=\"point\"><path d=\"M124.84,174.6V144.27H140.78V174.6Z\" style=\"vector-effect: none; opacity: 1; stroke-width: 0px; fill: rgb(75, 232, 224); fill-opacity: 1;\"/></g><g class=\"point\"><path d=\"M142.55,174.6V128.79H158.48V174.6Z\" style=\"vector-effect: none; opacity: 1; stroke-width: 0px; fill: rgb(75, 232, 224); fill-opacity: 1;\"/></g><g class=\"point\"><path d=\"M160.25,174.6V118.97H176.19V174.6Z\" style=\"vector-effect: none; opacity: 1; stroke-width: 0px; fill: rgb(75, 232, 224); fill-opacity: 1;\"/></g><g class=\"point\"><path d=\"M177.96,174.6V100.97H193.9V174.6Z\" style=\"vector-effect: none; opacity: 1; stroke-width: 0px; fill: rgb(75, 232, 224); fill-opacity: 1;\"/></g><g class=\"point\"><path d=\"M195.67,174.6V74.92H211.61V174.6Z\" style=\"vector-effect: none; opacity: 1; stroke-width: 0px; fill: rgb(75, 232, 224); fill-opacity: 1;\"/></g><g class=\"point\"><path d=\"M213.38,174.6V62.08H229.31V174.6Z\" style=\"vector-effect: none; opacity: 1; stroke-width: 0px; fill: rgb(75, 232, 224); fill-opacity: 1;\"/></g><g class=\"point\"><path d=\"M231.08,174.6V55.41H247.02V174.6Z\" style=\"vector-effect: none; opacity: 1; stroke-width: 0px; fill: rgb(75, 232, 224); fill-opacity: 1;\"/></g><g class=\"point\"><path d=\"M248.79,174.6V63.21H264.73V174.6Z\" style=\"vector-effect: none; opacity: 1; stroke-width: 0px; fill: rgb(75, 232, 224); fill-opacity: 1;\"/></g><g class=\"point\"><path d=\"M266.5,174.6V65.61H282.44V174.6Z\" style=\"vector-effect: none; opacity: 1; stroke-width: 0px; fill: rgb(75, 232, 224); fill-opacity: 1;\"/></g><g class=\"point\"><path d=\"M284.21,174.6V85.74H300.14V174.6Z\" style=\"vector-effect: none; opacity: 1; stroke-width: 0px; fill: rgb(75, 232, 224); fill-opacity: 1;\"/></g><g class=\"point\"><path d=\"M301.91,174.6V95.56H317.85V174.6Z\" style=\"vector-effect: none; opacity: 1; stroke-width: 0px; fill: rgb(75, 232, 224); fill-opacity: 1;\"/></g><g class=\"point\"><path d=\"M319.62,174.6V111.67H335.56V174.6Z\" style=\"vector-effect: none; opacity: 1; stroke-width: 0px; fill: rgb(75, 232, 224); fill-opacity: 1;\"/></g><g class=\"point\"><path d=\"M337.33,174.6V127.91H353.27V174.6Z\" style=\"vector-effect: none; opacity: 1; stroke-width: 0px; fill: rgb(75, 232, 224); fill-opacity: 1;\"/></g><g class=\"point\"><path d=\"M355.04,174.6V141.12H370.97V174.6Z\" style=\"vector-effect: none; opacity: 1; stroke-width: 0px; fill: rgb(75, 232, 224); fill-opacity: 1;\"/></g><g class=\"point\"><path d=\"M372.74,174.6V154.21H388.68V174.6Z\" style=\"vector-effect: none; opacity: 1; stroke-width: 0px; fill: rgb(75, 232, 224); fill-opacity: 1;\"/></g><g class=\"point\"><path d=\"M390.45,174.6V162.14H406.39V174.6Z\" style=\"vector-effect: none; opacity: 1; stroke-width: 0px; fill: rgb(75, 232, 224); fill-opacity: 1;\"/></g><g class=\"point\"><path d=\"M408.16,174.6V169.57H424.1V174.6Z\" style=\"vector-effect: none; opacity: 1; stroke-width: 0px; fill: rgb(75, 232, 224); fill-opacity: 1;\"/></g><g class=\"point\"><path d=\"M425.87,174.6V170.32H441.8V174.6Z\" style=\"vector-effect: none; opacity: 1; stroke-width: 0px; fill: rgb(75, 232, 224); fill-opacity: 1;\"/></g><g class=\"point\"><path d=\"M443.58,174.6V172.71H459.51V174.6Z\" style=\"vector-effect: none; opacity: 1; stroke-width: 0px; fill: rgb(75, 232, 224); fill-opacity: 1;\"/></g><g class=\"point\"><path d=\"M461.28,174.6V173.72H477.22V174.6Z\" style=\"vector-effect: none; opacity: 1; stroke-width: 0px; fill: rgb(75, 232, 224); fill-opacity: 1;\"/></g><g class=\"point\"><path d=\"M478.99,174.6V174.47H494.93V174.6Z\" style=\"vector-effect: none; opacity: 1; stroke-width: 0px; fill: rgb(75, 232, 224); fill-opacity: 1;\"/></g><g class=\"point\"><path d=\"M496.7,174.6V174.35H512.63V174.6Z\" style=\"vector-effect: none; opacity: 1; stroke-width: 0px; fill: rgb(75, 232, 224); fill-opacity: 1;\"/></g></g></g></g></g><g class=\"overplot\"/><path class=\"xlines-above crisp\" d=\"M0,0\" style=\"fill: none;\"/><path class=\"ylines-above crisp\" d=\"M0,0\" style=\"fill: none;\"/><g class=\"overlines-above\"/><g class=\"xaxislayer-above\"><g class=\"xtick\"><text text-anchor=\"middle\" x=\"0\" y=\"433\" transform=\"translate(159.68,0)\" style=\"font-family: 'Open Sans', verdana, arial, sans-serif; font-size: 12px; fill: rgb(68, 68, 68); fill-opacity: 1; white-space: pre; opacity: 1;\">5</text></g><g class=\"xtick\"><text text-anchor=\"middle\" x=\"0\" y=\"433\" style=\"font-family: 'Open Sans', verdana, arial, sans-serif; font-size: 12px; fill: rgb(68, 68, 68); fill-opacity: 1; white-space: pre; opacity: 1;\" transform=\"translate(248.22,0)\">10</text></g><g class=\"xtick\"><text text-anchor=\"middle\" x=\"0\" y=\"433\" style=\"font-family: 'Open Sans', verdana, arial, sans-serif; font-size: 12px; fill: rgb(68, 68, 68); fill-opacity: 1; white-space: pre; opacity: 1;\" transform=\"translate(336.76,0)\">15</text></g><g class=\"xtick\"><text text-anchor=\"middle\" x=\"0\" y=\"433\" style=\"font-family: 'Open Sans', verdana, arial, sans-serif; font-size: 12px; fill: rgb(68, 68, 68); fill-opacity: 1; white-space: pre; opacity: 1;\" transform=\"translate(425.3,0)\">20</text></g><g class=\"xtick\"><text text-anchor=\"middle\" x=\"0\" y=\"433\" style=\"font-family: 'Open Sans', verdana, arial, sans-serif; font-size: 12px; fill: rgb(68, 68, 68); fill-opacity: 1; white-space: pre; opacity: 1;\" transform=\"translate(513.8399999999999,0)\">25</text></g></g><g class=\"yaxislayer-above\"><g class=\"ytick\"><text text-anchor=\"end\" x=\"79\" y=\"4.199999999999999\" transform=\"translate(0,420)\" style=\"font-family: 'Open Sans', verdana, arial, sans-serif; font-size: 12px; fill: rgb(68, 68, 68); fill-opacity: 1; white-space: pre; opacity: 1;\">0</text></g><g class=\"ytick\"><text text-anchor=\"end\" x=\"79\" y=\"4.199999999999999\" style=\"font-family: 'Open Sans', verdana, arial, sans-serif; font-size: 12px; fill: rgb(68, 68, 68); fill-opacity: 1; white-space: pre; opacity: 1;\" transform=\"translate(0,362.23)\">0.05</text></g><g class=\"ytick\"><text text-anchor=\"end\" x=\"79\" y=\"4.199999999999999\" style=\"font-family: 'Open Sans', verdana, arial, sans-serif; font-size: 12px; fill: rgb(68, 68, 68); fill-opacity: 1; white-space: pre; opacity: 1;\" transform=\"translate(0,304.46000000000004)\">0.1</text></g><g class=\"ytick\"><text text-anchor=\"end\" x=\"79\" y=\"4.199999999999999\" style=\"font-family: 'Open Sans', verdana, arial, sans-serif; font-size: 12px; fill: rgb(68, 68, 68); fill-opacity: 1; white-space: pre; opacity: 1;\" transform=\"translate(0,246.69)\">0.15</text></g></g><g class=\"overaxes-above\"/></g><g class=\"subplot x2y2\"><g class=\"layer-subplot\"><g class=\"shapelayer\"/><g class=\"imagelayer\"/></g><g class=\"minor-gridlayer\"><g class=\"x2\"/><g class=\"y2\"/></g><g class=\"gridlayer\"><g class=\"x2\"/><g class=\"y2\"><path class=\"y2grid crisp\" transform=\"translate(0,176.82999999999998)\" d=\"M80,0h513.52\" style=\"stroke: rgb(238, 238, 238); stroke-opacity: 1; stroke-width: 1px;\"/><path class=\"y2grid crisp\" transform=\"translate(0,119.06)\" d=\"M80,0h513.52\" style=\"stroke: rgb(238, 238, 238); stroke-opacity: 1; stroke-width: 1px;\"/><path class=\"y2grid crisp\" transform=\"translate(0,61.29)\" d=\"M80,0h513.52\" style=\"stroke: rgb(238, 238, 238); stroke-opacity: 1; stroke-width: 1px;\"/></g></g><g class=\"zerolinelayer\"><path class=\"y2zl zl crisp\" transform=\"translate(0,234.6)\" d=\"M80,0h513.52\" style=\"stroke: rgb(68, 68, 68); stroke-opacity: 1; stroke-width: 1px;\"/></g><g class=\"layer-between\"><g class=\"shapelayer\"/><g class=\"imagelayer\"/></g><path class=\"xlines-below\"/><path class=\"ylines-below\"/><g class=\"overlines-below\"/><g class=\"xaxislayer-below\"/><g class=\"yaxislayer-below\"/><g class=\"overaxes-below\"/><g class=\"plot\" transform=\"translate(80,60)\" clip-path=\"url(#clipdf79b1x2y2plot)\"><g class=\"barlayer mlayer\"><g class=\"trace bars\" style=\"opacity: 1;\"><g class=\"points\"><g class=\"point\"><path d=\"M0.89,174.6V20.9H16.82V174.6Z\" style=\"vector-effect: none; opacity: 1; stroke-width: 0px; fill: rgb(75, 154, 199); fill-opacity: 1;\"/></g><g class=\"point\"><path d=\"M18.59,174.6V8.73H34.53V174.6Z\" style=\"vector-effect: none; opacity: 1; stroke-width: 0px; fill: rgb(75, 154, 199); fill-opacity: 1;\"/></g><g class=\"point\"><path d=\"M36.3,174.6V9.08H52.24V174.6Z\" style=\"vector-effect: none; opacity: 1; stroke-width: 0px; fill: rgb(75, 154, 199); fill-opacity: 1;\"/></g><g class=\"point\"><path d=\"M54.01,174.6V19.84H69.94V174.6Z\" style=\"vector-effect: none; opacity: 1; stroke-width: 0px; fill: rgb(75, 154, 199); fill-opacity: 1;\"/></g><g class=\"point\"><path d=\"M71.72,174.6V37.82H87.65V174.6Z\" style=\"vector-effect: none; opacity: 1; stroke-width: 0px; fill: rgb(75, 154, 199); fill-opacity: 1;\"/></g><g class=\"point\"><path d=\"M89.42,174.6V60.89H105.36V174.6Z\" style=\"vector-effect: none; opacity: 1; stroke-width: 0px; fill: rgb(75, 154, 199); fill-opacity: 1;\"/></g><g class=\"point\"><path d=\"M107.13,174.6V86.61H123.07V174.6Z\" style=\"vector-effect: none; opacity: 1; stroke-width: 0px; fill: rgb(75, 154, 199); fill-opacity: 1;\"/></g><g class=\"point\"><path d=\"M124.84,174.6V109.46H140.78V174.6Z\" style=\"vector-effect: none; opacity: 1; stroke-width: 0px; fill: rgb(75, 154, 199); fill-opacity: 1;\"/></g><g class=\"point\"><path d=\"M142.55,174.6V130.1H158.48V174.6Z\" style=\"vector-effect: none; opacity: 1; stroke-width: 0px; fill: rgb(75, 154, 199); fill-opacity: 1;\"/></g><g class=\"point\"><path d=\"M160.25,174.6V145.78H176.19V174.6Z\" style=\"vector-effect: none; opacity: 1; stroke-width: 0px; fill: rgb(75, 154, 199); fill-opacity: 1;\"/></g><g class=\"point\"><path d=\"M177.96,174.6V156.72H193.9V174.6Z\" style=\"vector-effect: none; opacity: 1; stroke-width: 0px; fill: rgb(75, 154, 199); fill-opacity: 1;\"/></g><g class=\"point\"><path d=\"M195.67,174.6V164.36H211.61V174.6Z\" style=\"vector-effect: none; opacity: 1; stroke-width: 0px; fill: rgb(75, 154, 199); fill-opacity: 1;\"/></g><g class=\"point\"><path d=\"M213.38,174.6V169.16H229.31V174.6Z\" style=\"vector-effect: none; opacity: 1; stroke-width: 0px; fill: rgb(75, 154, 199); fill-opacity: 1;\"/></g><g class=\"point\"><path d=\"M231.08,174.6V171.81H247.02V174.6Z\" style=\"vector-effect: none; opacity: 1; stroke-width: 0px; fill: rgb(75, 154, 199); fill-opacity: 1;\"/></g><g class=\"point\"><path d=\"M248.79,174.6V173.3H264.73V174.6Z\" style=\"vector-effect: none; opacity: 1; stroke-width: 0px; fill: rgb(75, 154, 199); fill-opacity: 1;\"/></g><g class=\"point\"><path d=\"M266.5,174.6V174.05H282.44V174.6Z\" style=\"vector-effect: none; opacity: 1; stroke-width: 0px; fill: rgb(75, 154, 199); fill-opacity: 1;\"/></g><g class=\"point\"><path d=\"M284.21,174.6V174.34H300.14V174.6Z\" style=\"vector-effect: none; opacity: 1; stroke-width: 0px; fill: rgb(75, 154, 199); fill-opacity: 1;\"/></g><g class=\"point\"><path d=\"M301.91,174.6V174.5H317.85V174.6Z\" style=\"vector-effect: none; opacity: 1; stroke-width: 0px; fill: rgb(75, 154, 199); fill-opacity: 1;\"/></g><g class=\"point\"><path d=\"M319.62,174.6V174.57H335.56V174.6Z\" style=\"vector-effect: none; opacity: 1; stroke-width: 0px; fill: rgb(75, 154, 199); fill-opacity: 1;\"/></g><g class=\"point\"><path d=\"M0,0Z\" style=\"vector-effect: none; opacity: 1; stroke-width: 0px; fill: rgb(75, 154, 199); fill-opacity: 1;\"/></g></g></g></g></g><g class=\"overplot\"/><path class=\"xlines-above crisp\" d=\"M0,0\" style=\"fill: none;\"/><path class=\"ylines-above crisp\" d=\"M0,0\" style=\"fill: none;\"/><g class=\"overlines-above\"/><g class=\"xaxislayer-above\"/><g class=\"yaxislayer-above\"><g class=\"y2tick\"><text text-anchor=\"end\" x=\"79\" y=\"4.199999999999999\" transform=\"translate(0,234.6)\" style=\"font-family: 'Open Sans', verdana, arial, sans-serif; font-size: 12px; fill: rgb(68, 68, 68); fill-opacity: 1; white-space: pre; opacity: 1;\">0</text></g><g class=\"y2tick\"><text text-anchor=\"end\" x=\"79\" y=\"4.199999999999999\" style=\"font-family: 'Open Sans', verdana, arial, sans-serif; font-size: 12px; fill: rgb(68, 68, 68); fill-opacity: 1; white-space: pre; opacity: 1;\" transform=\"translate(0,176.82999999999998)\">0.05</text></g><g class=\"y2tick\"><text text-anchor=\"end\" x=\"79\" y=\"4.199999999999999\" style=\"font-family: 'Open Sans', verdana, arial, sans-serif; font-size: 12px; fill: rgb(68, 68, 68); fill-opacity: 1; white-space: pre; opacity: 1;\" transform=\"translate(0,119.06)\">0.1</text></g><g class=\"y2tick\"><text text-anchor=\"end\" x=\"79\" y=\"4.199999999999999\" style=\"font-family: 'Open Sans', verdana, arial, sans-serif; font-size: 12px; fill: rgb(68, 68, 68); fill-opacity: 1; white-space: pre; opacity: 1;\" transform=\"translate(0,61.29)\">0.15</text></g></g><g class=\"overaxes-above\"/></g></g><g class=\"polarlayer\"/><g class=\"smithlayer\"/><g class=\"ternarylayer\"/><g class=\"geolayer\"/><g class=\"funnelarealayer\"/><g class=\"pielayer\"/><g class=\"iciclelayer\"/><g class=\"treemaplayer\"/><g class=\"sunburstlayer\"/><g class=\"glimages\"/><defs id=\"topdefs-df79b1\"><g class=\"clips\"/><clipPath id=\"legenddf79b1\"><rect width=\"74\" height=\"67\" x=\"0\" y=\"0\"/></clipPath></defs><g class=\"layer-above\"><g class=\"imagelayer\"/><g class=\"shapelayer\"/></g><g class=\"infolayer\"><g class=\"legend\" pointer-events=\"all\" transform=\"translate(614.48,60)\"><rect class=\"bg\" shape-rendering=\"crispEdges\" width=\"74\" height=\"67\" x=\"0\" y=\"0\" style=\"stroke: rgb(68, 68, 68); stroke-opacity: 1; fill: rgb(255, 255, 255); fill-opacity: 1; stroke-width: 0px;\"/><g class=\"scrollbox\" transform=\"\" clip-path=\"url(#legenddf79b1)\"><text class=\"legendtitletext\" text-anchor=\"start\" x=\"2\" y=\"18.2\" style=\"font-family: 'Open Sans', verdana, arial, sans-serif; font-size: 14px; fill: rgb(68, 68, 68); fill-opacity: 1; white-space: pre;\">converted</text><g class=\"groups\" transform=\"\"><g class=\"traces\" transform=\"translate(0,32.7)\" style=\"opacity: 1;\"><text class=\"legendtext\" text-anchor=\"start\" x=\"40\" y=\"4.680000000000001\" style=\"font-family: 'Open Sans', verdana, arial, sans-serif; font-size: 12px; fill: rgb(68, 68, 68); fill-opacity: 1; white-space: pre;\">0</text><g class=\"layers\" style=\"opacity: 1;\"><g class=\"legendfill\"/><g class=\"legendlines\"/><g class=\"legendsymbols\"><g class=\"legendpoints\"><path class=\"legendundefined\" d=\"M6,6H-6V-6H6Z\" transform=\"translate(20,0)\" style=\"stroke-width: 0px; fill: rgb(75, 154, 199); fill-opacity: 1;\"/></g></g></g><rect class=\"legendtoggle\" x=\"0\" y=\"-9.5\" width=\"47.640625\" height=\"19\" style=\"fill: rgb(0, 0, 0); fill-opacity: 0;\"/></g></g><g class=\"groups\" transform=\"\"><g class=\"traces\" transform=\"translate(0,51.7)\" style=\"opacity: 1;\"><text class=\"legendtext\" text-anchor=\"start\" x=\"40\" y=\"4.680000000000001\" style=\"font-family: 'Open Sans', verdana, arial, sans-serif; font-size: 12px; fill: rgb(68, 68, 68); fill-opacity: 1; white-space: pre;\">1</text><g class=\"layers\" style=\"opacity: 1;\"><g class=\"legendfill\"/><g class=\"legendlines\"/><g class=\"legendsymbols\"><g class=\"legendpoints\"><path class=\"legendundefined\" d=\"M6,6H-6V-6H6Z\" transform=\"translate(20,0)\" style=\"stroke-width: 0px; fill: rgb(75, 232, 224); fill-opacity: 1;\"/></g></g></g><rect class=\"legendtoggle\" x=\"0\" y=\"-9.5\" width=\"47.640625\" height=\"19\" style=\"fill: rgb(0, 0, 0); fill-opacity: 0;\"/></g></g></g><rect class=\"scrollbar\" rx=\"20\" ry=\"3\" width=\"0\" height=\"0\" x=\"0\" y=\"0\" style=\"fill: rgb(128, 139, 164); fill-opacity: 1;\"/></g><g class=\"g-gtitle\"/><g class=\"g-xtitle\"><text class=\"xtitle\" x=\"336.76\" y=\"472\" text-anchor=\"middle\" style=\"font-family: 'Open Sans', verdana, arial, sans-serif; font-size: 14px; fill: rgb(68, 68, 68); opacity: 1; white-space: pre;\">total_pages_visited</text></g><g class=\"g-x2title\"/><g class=\"g-ytitle\"><text class=\"ytitle\" transform=\"rotate(-90,42,332.7)\" x=\"42\" y=\"332.7\" text-anchor=\"middle\" style=\"font-family: 'Open Sans', verdana, arial, sans-serif; font-size: 14px; fill: rgb(68, 68, 68); opacity: 1; white-space: pre;\">probability</text></g><g class=\"g-y2title\"><text class=\"y2title\" transform=\"rotate(-90,42,147.3)\" x=\"42\" y=\"147.3\" text-anchor=\"middle\" style=\"font-family: 'Open Sans', verdana, arial, sans-serif; font-size: 14px; fill: rgb(68, 68, 68); opacity: 1; white-space: pre;\">probability</text></g><g class=\"annotation\" data-index=\"0\" style=\"opacity: 1;\"><g class=\"annotation-text-g\" transform=\"rotate(90,603.02,332.70000000000005)\"><g class=\"cursor-pointer\" transform=\"translate(563,323)\"><rect class=\"bg\" x=\"0.5\" y=\"0.5\" width=\"80\" height=\"18\" style=\"stroke-width: 1px; stroke: rgb(0, 0, 0); stroke-opacity: 0; fill: rgb(0, 0, 0); fill-opacity: 0;\"/><text class=\"annotation-text\" text-anchor=\"middle\" x=\"40.65625\" y=\"14\" style=\"font-family: 'Open Sans', verdana, arial, sans-serif; font-size: 12px; fill: rgb(68, 68, 68); fill-opacity: 1; white-space: pre;\">converted=1</text></g></g></g><g class=\"annotation\" data-index=\"1\" style=\"opacity: 1;\"><g class=\"annotation-text-g\" transform=\"rotate(90,603.02,147.29999999999998)\"><g class=\"cursor-pointer\" transform=\"translate(563,138)\"><rect class=\"bg\" x=\"0.5\" y=\"0.5\" width=\"80\" height=\"18\" style=\"stroke-width: 1px; stroke: rgb(0, 0, 0); stroke-opacity: 0; fill: rgb(0, 0, 0); fill-opacity: 0;\"/><text class=\"annotation-text\" text-anchor=\"middle\" x=\"40.65625\" y=\"14\" style=\"font-family: 'Open Sans', verdana, arial, sans-serif; font-size: 12px; fill: rgb(68, 68, 68); fill-opacity: 1; white-space: pre;\">converted=0</text></g></g></g></g></svg>"
     },
     "metadata": {},
     "output_type": "display_data"
    }
   ],
   "execution_count": 10
  },
  {
   "metadata": {},
   "cell_type": "markdown",
   "source": "On devine une tendance d'augmentation de la conversion face au nombre de visite. "
  },
  {
   "cell_type": "markdown",
   "metadata": {
    "colab_type": "text",
    "id": "70MwsoCS3QD5"
   },
   "source": "# Construction du modèle"
  },
  {
   "cell_type": "markdown",
   "metadata": {
    "colab_type": "text",
    "id": "dPh1qPTf3wZU"
   },
   "source": [
    "## Choisissez les variables à utiliser dans le modèle, et créez des ensembles d'apprentissage et de test\n",
    "**D'après l'EDA, nous savons que la caractéristique la plus utile est total_pages_visited. Nous allons donc créer un modèle de base en utilisant d'abord uniquement cette caractéristique : dans les cellules suivantes, nous effectuerons des prétraitements et entraînerons une simple régression logistique univariée.**"
   ]
  },
  {
   "cell_type": "code",
   "metadata": {
    "colab": {},
    "colab_type": "code",
    "id": "sjEHMGoY3kMB",
    "ExecuteTime": {
     "end_time": "2024-08-10T15:18:41.632068Z",
     "start_time": "2024-08-10T15:18:41.628734Z"
    }
   },
   "source": [
    "features_list = ['total_pages_visited']\n",
    "numeric_indices = [0]\n",
    "categorical_indices = []\n",
    "target_variable = 'converted'"
   ],
   "outputs": [],
   "execution_count": 11
  },
  {
   "cell_type": "code",
   "metadata": {
    "colab": {
     "base_uri": "https://localhost:8080/",
     "height": 50
    },
    "colab_type": "code",
    "id": "SV5E9KMs4xcq",
    "outputId": "9d1ed76e-e82e-45e7-f3e5-6d47962caa5a",
    "ExecuteTime": {
     "end_time": "2024-08-10T15:18:41.639330Z",
     "start_time": "2024-08-10T15:18:41.633706Z"
    }
   },
   "source": [
    "X = data.loc[:, features_list]\n",
    "Y = data.loc[:, target_variable]\n",
    "\n",
    "print('Variables explicatives : ', X.columns)\n",
    "print()"
   ],
   "outputs": [
    {
     "name": "stdout",
     "output_type": "stream",
     "text": [
      "Variables explicatives :  Index(['total_pages_visited'], dtype='object')\n",
      "\n"
     ]
    }
   ],
   "execution_count": 12
  },
  {
   "metadata": {},
   "cell_type": "markdown",
   "source": [
    "La majorité des visiteurs sont situés aux US et UK, il est très probable les fondateurs du site soit anglophones. Du moins que le site ne soit pas destiné ou adapté à un public chinois.\n",
    "\n",
    "En effet, les pays européens et US semblent avoir des meilleures conversions qu'en Chine.\n",
    "\n",
    "Pour quelles raisons ? Une hypothèse serait la barrière de la langue."
   ]
  },
  {
   "cell_type": "code",
   "metadata": {
    "colab": {
     "base_uri": "https://localhost:8080/",
     "height": 67
    },
    "colab_type": "code",
    "id": "W8K5DQEvvQgl",
    "outputId": "d280ebc9-4d4b-4723-b9fe-32513f898abc",
    "ExecuteTime": {
     "end_time": "2024-08-10T15:18:41.681779Z",
     "start_time": "2024-08-10T15:18:41.640842Z"
    }
   },
   "source": [
    "# Diviser le jeu de données en ensemble d'entraînement et ensemble de test\n",
    "print(\"Division du jeu de données en ensemble d'entraînement et de test...\")\n",
    "X_train, X_test, Y_train, Y_test = train_test_split(X, Y, test_size=0.1, random_state=0)\n",
    "print(\"...Terminé.\")\n",
    "print()"
   ],
   "outputs": [
    {
     "name": "stdout",
     "output_type": "stream",
     "text": [
      "Division du jeu de données en ensemble d'entraînement et de test...\n",
      "...Terminé.\n",
      "\n"
     ]
    }
   ],
   "execution_count": 13
  },
  {
   "cell_type": "markdown",
   "metadata": {
    "colab_type": "text",
    "id": "7b_aU7ij7K3Q"
   },
   "source": "## Pipeline d'entraînement"
  },
  {
   "metadata": {},
   "cell_type": "code",
   "outputs": [
    {
     "name": "stdout",
     "output_type": "stream",
     "text": [
      "Encodage des caractéristiques catégorielles et normalisation des caractéristiques numériques...\n",
      "...Terminé.\n",
      "[[-0.26070136]\n",
      " [ 0.93728655]\n",
      " [-0.85969532]\n",
      " [-0.56019834]\n",
      " [-0.26070136]]\n"
     ]
    }
   ],
   "execution_count": 14,
   "source": [
    "# Mettez ici tous les prétraitements\n",
    "print(\"Encodage des caractéristiques catégorielles et normalisation des caractéristiques numériques...\")\n",
    "\n",
    "featureencoder = StandardScaler()\n",
    "X_train = featureencoder.fit_transform(X_train)\n",
    "print(\"...Terminé.\")\n",
    "print(X_train[0:5, :])"
   ]
  },
  {
   "metadata": {},
   "cell_type": "code",
   "outputs": [
    {
     "name": "stdout",
     "output_type": "stream",
     "text": [
      "Entraînement du modèle...\n",
      "...Terminé.\n"
     ]
    }
   ],
   "execution_count": 15,
   "source": [
    "# Entraînement du modèle\n",
    "print(\"Entraînement du modèle...\")\n",
    "classifier = LogisticRegression()\n",
    "classifier.fit(X_train, Y_train)\n",
    "print(\"...Terminé.\")"
   ]
  },
  {
   "metadata": {},
   "cell_type": "code",
   "outputs": [
    {
     "name": "stdout",
     "output_type": "stream",
     "text": [
      "Prédictions sur l'ensemble d'entraînement...\n",
      "...Terminé.\n",
      "[0 0 0 ... 0 0 0]\n",
      "\n"
     ]
    }
   ],
   "execution_count": 16,
   "source": [
    "# Prédictions sur l'ensemble d'entraînement\n",
    "print(\"Prédictions sur l'ensemble d'entraînement...\")\n",
    "Y_train_pred = classifier.predict(X_train)\n",
    "print(\"...Terminé.\")\n",
    "print(Y_train_pred)\n",
    "print()"
   ]
  },
  {
   "metadata": {},
   "cell_type": "markdown",
   "source": "## Test pipeline"
  },
  {
   "metadata": {},
   "cell_type": "code",
   "outputs": [
    {
     "name": "stdout",
     "output_type": "stream",
     "text": [
      "Encodage des caractéristiques catégorielles et normalisation des caractéristiques numériques...\n",
      "...Terminé\n",
      "[[ 0.63778957]\n",
      " [ 0.03879562]\n",
      " [-0.26070136]\n",
      " [-0.26070136]\n",
      " [ 0.63778957]]\n"
     ]
    }
   ],
   "execution_count": 17,
   "source": [
    "# Utilisez X_test, et les mêmes prétraitements que dans le pipeline d'entraînement,\n",
    "# mais appelez la méthode \"transform()\" au lieu de la méthode \"fit_transform\" (voir exemple ci-dessous)\n",
    "\n",
    "print(\"Encodage des caractéristiques catégorielles et normalisation des caractéristiques numériques...\")\n",
    "\n",
    "X_test = featureencoder.transform(X_test)\n",
    "print(\"...Terminé\")\n",
    "print(X_test[0:5, :])"
   ]
  },
  {
   "metadata": {},
   "cell_type": "code",
   "outputs": [
    {
     "name": "stdout",
     "output_type": "stream",
     "text": [
      "Prédictions sur l'ensemble de test...\n",
      "...Terminé.\n",
      "[0 0 0 ... 0 0 0]\n",
      "\n"
     ]
    }
   ],
   "execution_count": 18,
   "source": [
    "# Prédictions sur l'ensemble de test\n",
    "print(\"Prédictions sur l'ensemble de test...\")\n",
    "Y_test_pred = classifier.predict(X_test)\n",
    "print(\"...Terminé.\")\n",
    "print(Y_test_pred)\n",
    "print()"
   ]
  },
  {
   "metadata": {},
   "cell_type": "markdown",
   "source": "## Évaluation des performances"
  },
  {
   "metadata": {},
   "cell_type": "code",
   "outputs": [
    {
     "name": "stdout",
     "output_type": "stream",
     "text": [
      "f1-score sur l'ensemble d'entraînement :  0.6938517686692869\n",
      "f1-score sur l'ensemble de test :  0.7060240963855423\n"
     ]
    }
   ],
   "execution_count": 19,
   "source": [
    "# ATTENTION : Utilisez le même score que celui qui sera utilisé par Kaggle !\n",
    "# Ici, le f1-score sera utilisé pour évaluer les performances sur le tableau de bord\n",
    "print(\"f1-score sur l'ensemble d'entraînement : \", f1_score(Y_train, Y_train_pred))\n",
    "print(\"f1-score sur l'ensemble de test : \", f1_score(Y_test, Y_test_pred))"
   ]
  },
  {
   "metadata": {},
   "cell_type": "markdown",
   "source": [
    "<div style=\"margin-left: 50px; >\n",
    "<br>\n",
    "Rappel\n",
    "\n",
    "\n",
    "<span style=\"font-size: 14px\">\n",
    "\n",
    "\n",
    "Le F1-score est calculé à partir des valeurs de True Positive (TP), False Positive (FP) et False Negative (FN).\n",
    "\n",
    "- <strong>True Positive (TP)</strong> : Le nombre d'échantillons positifs correctement classés.\n",
    "- <strong>False Positive (FP)</strong> : Le nombre d'échantillons négatifs incorrectement classés comme positifs.\n",
    "- <strong>False Negative (FN)</strong> : Le nombre d'échantillons positifs incorrectement classés comme négatifs.\n",
    "\n",
    "La précision (precision) est définie comme le rapport entre TP et la somme de TP et FP :\n",
    "\n",
    "$$ Precision = \\frac{TP}{TP + FP} $$\n",
    "\n",
    "Le rappel (recall) est défini comme le rapport entre TP et la somme de TP et FN :\n",
    "\n",
    "$$ Recall = \\frac{TP}{TP + FN} $$\n",
    "\n",
    "Le F1-score est la moyenne harmonique de la précision et du rappel, calculée comme suit :\n",
    "\n",
    "$$ F1 = 2 \\times \\frac{Precision \\times Recall}{Precision + Recall} $$\n",
    "\n",
    "Le F1-score prend en compte à la fois la précision et le rappel, ce qui en fait une mesure utile pour évaluer la performance d'un modèle de classification, surtout lorsque les classes sont déséquilibrées.\n",
    "\n",
    "</span>\n",
    "</div>"
   ]
  },
  {
   "metadata": {},
   "cell_type": "code",
   "outputs": [
    {
     "name": "stdout",
     "output_type": "stream",
     "text": [
      "Matrice de confusion sur l'ensemble d'entraînement : \n",
      "[[246817   1082]\n",
      " [  3280   4943]]\n",
      "\n",
      "Matrice de confusion sur l'ensemble de test : \n",
      "[[27384   117]\n",
      " [  371   586]]\n",
      "\n"
     ]
    }
   ],
   "execution_count": 20,
   "source": [
    "# Vous pouvez également vérifier plus de critères de performance pour mieux comprendre ce que fait votre modèle\n",
    "print(\"Matrice de confusion sur l'ensemble d'entraînement : \")\n",
    "print(confusion_matrix(Y_train, Y_train_pred))\n",
    "print()\n",
    "print(\"Matrice de confusion sur l'ensemble de test : \")\n",
    "print(confusion_matrix(Y_test, Y_test_pred))\n",
    "print()"
   ]
  },
  {
   "metadata": {},
   "cell_type": "markdown",
   "source": [
    "\n",
    "**Notre modèle de référence atteint un f1-score de presque 70%. Vous êtes maintenant libre d'affiner votre modèle et d'essayer de battre ce score ! 🚀🚀**"
   ]
  },
  {
   "metadata": {},
   "cell_type": "markdown",
   "source": [
    "# Entraînement du meilleur classificateur sur toutes les données et utilisation pour effectuer des prédictions sur X_without_labels\n",
    "**Avant de faire des prédictions sur le fichier conversion_data_test.csv, entraînons notre modèle sur TOUTES les données qui étaient dans conversion_data_train.csv. Parfois cela permet de réaliser de légères améliorations de score, car nous utilisons plus d'exemples pour entraîner le modèle.**"
   ]
  },
  {
   "cell_type": "code",
   "metadata": {
    "colab": {
     "base_uri": "https://localhost:8080/",
     "height": 154
    },
    "colab_type": "code",
    "id": "M14RHUadzE2p",
    "outputId": "abcfcfec-9461-4579-adbd-f23270f984eb",
    "ExecuteTime": {
     "end_time": "2024-08-10T15:18:42.468876Z",
     "start_time": "2024-08-10T15:18:42.221829Z"
    }
   },
   "source": [
    "# Concaténation de nos ensembles d'entraînement et de test pour entraîner le meilleur classifieur sur toutes les données avec des étiquettes\n",
    "X = np.append(X_train, X_test, axis=0)\n",
    "Y = np.append(Y_train, Y_test)\n",
    "\n",
    "classifier.fit(X, Y)"
   ],
   "outputs": [
    {
     "data": {
      "text/plain": [
       "LogisticRegression()"
      ],
      "text/html": [
       "<style>#sk-container-id-1 {color: black;}#sk-container-id-1 pre{padding: 0;}#sk-container-id-1 div.sk-toggleable {background-color: white;}#sk-container-id-1 label.sk-toggleable__label {cursor: pointer;display: block;width: 100%;margin-bottom: 0;padding: 0.3em;box-sizing: border-box;text-align: center;}#sk-container-id-1 label.sk-toggleable__label-arrow:before {content: \"▸\";float: left;margin-right: 0.25em;color: #696969;}#sk-container-id-1 label.sk-toggleable__label-arrow:hover:before {color: black;}#sk-container-id-1 div.sk-estimator:hover label.sk-toggleable__label-arrow:before {color: black;}#sk-container-id-1 div.sk-toggleable__content {max-height: 0;max-width: 0;overflow: hidden;text-align: left;background-color: #f0f8ff;}#sk-container-id-1 div.sk-toggleable__content pre {margin: 0.2em;color: black;border-radius: 0.25em;background-color: #f0f8ff;}#sk-container-id-1 input.sk-toggleable__control:checked~div.sk-toggleable__content {max-height: 200px;max-width: 100%;overflow: auto;}#sk-container-id-1 input.sk-toggleable__control:checked~label.sk-toggleable__label-arrow:before {content: \"▾\";}#sk-container-id-1 div.sk-estimator input.sk-toggleable__control:checked~label.sk-toggleable__label {background-color: #d4ebff;}#sk-container-id-1 div.sk-label input.sk-toggleable__control:checked~label.sk-toggleable__label {background-color: #d4ebff;}#sk-container-id-1 input.sk-hidden--visually {border: 0;clip: rect(1px 1px 1px 1px);clip: rect(1px, 1px, 1px, 1px);height: 1px;margin: -1px;overflow: hidden;padding: 0;position: absolute;width: 1px;}#sk-container-id-1 div.sk-estimator {font-family: monospace;background-color: #f0f8ff;border: 1px dotted black;border-radius: 0.25em;box-sizing: border-box;margin-bottom: 0.5em;}#sk-container-id-1 div.sk-estimator:hover {background-color: #d4ebff;}#sk-container-id-1 div.sk-parallel-item::after {content: \"\";width: 100%;border-bottom: 1px solid gray;flex-grow: 1;}#sk-container-id-1 div.sk-label:hover label.sk-toggleable__label {background-color: #d4ebff;}#sk-container-id-1 div.sk-serial::before {content: \"\";position: absolute;border-left: 1px solid gray;box-sizing: border-box;top: 0;bottom: 0;left: 50%;z-index: 0;}#sk-container-id-1 div.sk-serial {display: flex;flex-direction: column;align-items: center;background-color: white;padding-right: 0.2em;padding-left: 0.2em;position: relative;}#sk-container-id-1 div.sk-item {position: relative;z-index: 1;}#sk-container-id-1 div.sk-parallel {display: flex;align-items: stretch;justify-content: center;background-color: white;position: relative;}#sk-container-id-1 div.sk-item::before, #sk-container-id-1 div.sk-parallel-item::before {content: \"\";position: absolute;border-left: 1px solid gray;box-sizing: border-box;top: 0;bottom: 0;left: 50%;z-index: -1;}#sk-container-id-1 div.sk-parallel-item {display: flex;flex-direction: column;z-index: 1;position: relative;background-color: white;}#sk-container-id-1 div.sk-parallel-item:first-child::after {align-self: flex-end;width: 50%;}#sk-container-id-1 div.sk-parallel-item:last-child::after {align-self: flex-start;width: 50%;}#sk-container-id-1 div.sk-parallel-item:only-child::after {width: 0;}#sk-container-id-1 div.sk-dashed-wrapped {border: 1px dashed gray;margin: 0 0.4em 0.5em 0.4em;box-sizing: border-box;padding-bottom: 0.4em;background-color: white;}#sk-container-id-1 div.sk-label label {font-family: monospace;font-weight: bold;display: inline-block;line-height: 1.2em;}#sk-container-id-1 div.sk-label-container {text-align: center;}#sk-container-id-1 div.sk-container {/* jupyter's `normalize.less` sets `[hidden] { display: none; }` but bootstrap.min.css set `[hidden] { display: none !important; }` so we also need the `!important` here to be able to override the default hidden behavior on the sphinx rendered scikit-learn.org. See: https://github.com/scikit-learn/scikit-learn/issues/21755 */display: inline-block !important;position: relative;}#sk-container-id-1 div.sk-text-repr-fallback {display: none;}</style><div id=\"sk-container-id-1\" class=\"sk-top-container\"><div class=\"sk-text-repr-fallback\"><pre>LogisticRegression()</pre><b>In a Jupyter environment, please rerun this cell to show the HTML representation or trust the notebook. <br />On GitHub, the HTML representation is unable to render, please try loading this page with nbviewer.org.</b></div><div class=\"sk-container\" hidden><div class=\"sk-item\"><div class=\"sk-estimator sk-toggleable\"><input class=\"sk-toggleable__control sk-hidden--visually\" id=\"sk-estimator-id-1\" type=\"checkbox\" checked><label for=\"sk-estimator-id-1\" class=\"sk-toggleable__label sk-toggleable__label-arrow\">LogisticRegression</label><div class=\"sk-toggleable__content\"><pre>LogisticRegression()</pre></div></div></div></div></div>"
      ]
     },
     "execution_count": 21,
     "metadata": {},
     "output_type": "execute_result"
    }
   ],
   "execution_count": 21
  },
  {
   "cell_type": "code",
   "metadata": {
    "colab": {
     "base_uri": "https://localhost:8080/",
     "height": 151
    },
    "colab_type": "code",
    "id": "Tr4CEaPzzbP-",
    "outputId": "f0d1c8ed-be4b-4974-d7b9-f23a49344d9d",
    "ExecuteTime": {
     "end_time": "2024-08-10T15:18:42.500562Z",
     "start_time": "2024-08-10T15:18:42.471276Z"
    }
   },
   "source": [
    "# Lecture des données sans étiquettes\n",
    "data_without_labels = pd.read_csv('conversion_data_test.csv')\n",
    "print('Ensemble de prédiction (sans étiquettes) :', data_without_labels.shape)\n",
    "\n",
    "# Attention : vérifiez la cohérence de la liste des caractéristiques (doit être la même que les caractéristiques \n",
    "# utilisées par votre meilleur classificateur)\n",
    "features_list = ['total_pages_visited']\n",
    "X_without_labels = data_without_labels.loc[:, features_list]\n",
    "\n",
    "# Conversion des DataFrames pandas en tableaux numpy avant d'utiliser scikit-learn\n",
    "print(\"Conversion des DataFrames pandas en tableaux numpy...\")\n",
    "X_without_labels = X_without_labels.values\n",
    "print(\"...Terminé\")\n",
    "\n",
    "print(X_without_labels[0:5, :])"
   ],
   "outputs": [
    {
     "name": "stdout",
     "output_type": "stream",
     "text": [
      "Ensemble de prédiction (sans étiquettes) : (31620, 5)\n",
      "Conversion des DataFrames pandas en tableaux numpy...\n",
      "...Terminé\n",
      "[[16]\n",
      " [ 5]\n",
      " [ 1]\n",
      " [ 6]\n",
      " [ 3]]\n"
     ]
    }
   ],
   "execution_count": 22
  },
  {
   "cell_type": "code",
   "metadata": {
    "colab": {
     "base_uri": "https://localhost:8080/",
     "height": 134
    },
    "colab_type": "code",
    "id": "LoUISfsT0HMR",
    "outputId": "e42dc389-5e77-4e13-ccbc-1fef4aa2c0ca",
    "ExecuteTime": {
     "end_time": "2024-08-10T15:18:42.508864Z",
     "start_time": "2024-08-10T15:18:42.502932Z"
    }
   },
   "source": [
    "# ATTENTION: METTEZ ICI LE MÊME PRÉ-TRAITEMENT QUE POUR VOTRE ENSEMBLE DE TEST\n",
    "# VÉRIFIEZ QUE VOUS UTILISEZ X_without_labels\n",
    "print(\n",
    "    \"Encodage des caractéristiques catégorielles et normalisation (standardisation) des caractéristiques numériques....\")\n",
    "\n",
    "X_without_labels = featureencoder.transform(X_without_labels)\n",
    "print(\"...Terminé\")\n",
    "print(X_without_labels[0:5, :])"
   ],
   "outputs": [
    {
     "name": "stdout",
     "output_type": "stream",
     "text": [
      "Encodage des caractéristiques catégorielles et normalisation (standardisation) des caractéristiques numériques....\n",
      "...Terminé\n",
      "[[ 3.33326238]\n",
      " [ 0.03879562]\n",
      " [-1.15919229]\n",
      " [ 0.3382926 ]\n",
      " [-0.56019834]]\n"
     ]
    }
   ],
   "execution_count": 23
  },
  {
   "cell_type": "code",
   "metadata": {
    "colab": {},
    "colab_type": "code",
    "id": "7DuWSEHuwEQJ",
    "ExecuteTime": {
     "end_time": "2024-08-10T15:18:42.542816Z",
     "start_time": "2024-08-10T15:18:42.510919Z"
    }
   },
   "source": [
    "# Faire des prédictions et les enregistrer dans un fichier\n",
    "# ATTENTION : ASSUREZ-VOUS QUE LE FICHIER EST UN CSV AVEC UNE SEULE COLONNE NOMMÉE 'converted' ET SANS INDEX !\n",
    "# ATTENTION : LE NOM DU FICHIER DOIT AVOIR LE FORMAT 'conversion_data_test_predictions_[name].csv'\n",
    "# où [name] est le nom de votre équipe/modèle séparé par un '-'\n",
    "# Par exemple : [name] = MELCHIOR-model1\n",
    "data = {\n",
    "    'converted': classifier.predict(X_without_labels)\n",
    "}\n",
    "\n",
    "Y_predictions = pd.DataFrame(columns=['converted'], data=data)\n",
    "Y_predictions.to_csv('conversion_data_test_predictions_EXAMPLE.csv', index=False)"
   ],
   "outputs": [],
   "execution_count": 24
  },
  {
   "cell_type": "markdown",
   "metadata": {},
   "source": [
    "## Analyser les coefficients et interpréter le résultat\n",
    "**Dans ce modèle, nous n'avons entraîné qu'avec une seule caractéristique (total_pages_visited), donc il n'y a pas d'analyse à faire sur l'importance des caractéristiques 🤔**\n",
    "\n",
    "**Une fois que vous avez inclus plus de caractéristiques dans votre modèle, prenez le temps d'analyser les paramètres du modèle et essayez de trouver certains leviers d'action pour améliorer le taux de conversion de la newsletter 😎😎**"
   ]
  },
  {
   "cell_type": "markdown",
   "metadata": {},
   "source": "# ESSAI DE MON PREMIER MODÈLE"
  },
  {
   "cell_type": "markdown",
   "metadata": {},
   "source": "# Régression logistique "
  },
  {
   "cell_type": "markdown",
   "metadata": {},
   "source": "Régression logistique avec toutes les colonnes du jeu de données dans la liste des caractéristiques :"
  },
  {
   "cell_type": "code",
   "metadata": {
    "ExecuteTime": {
     "end_time": "2024-08-10T15:18:42.704904Z",
     "start_time": "2024-08-10T15:18:42.545325Z"
    }
   },
   "source": [
    "data = pd.read_csv('conversion_data_train.csv')\n",
    "print(\"Jeu de données avec les étiquettes (notre ensemble d'apprentissage + test):\", data.shape)"
   ],
   "outputs": [
    {
     "name": "stdout",
     "output_type": "stream",
     "text": [
      "Jeu de données avec les étiquettes (notre ensemble d'apprentissage + test): (284580, 6)\n"
     ]
    }
   ],
   "execution_count": 25
  },
  {
   "cell_type": "code",
   "metadata": {
    "ExecuteTime": {
     "end_time": "2024-08-10T15:18:42.715449Z",
     "start_time": "2024-08-10T15:18:42.706598Z"
    }
   },
   "source": [
    "data.head()"
   ],
   "outputs": [
    {
     "data": {
      "text/plain": [
       "   country  age  new_user  source  total_pages_visited  converted\n",
       "0    China   22         1  Direct                    2          0\n",
       "1       UK   21         1     Ads                    3          0\n",
       "2  Germany   20         0     Seo                   14          1\n",
       "3       US   23         1     Seo                    3          0\n",
       "4       US   28         1  Direct                    3          0"
      ],
      "text/html": [
       "<div>\n",
       "<style scoped>\n",
       "    .dataframe tbody tr th:only-of-type {\n",
       "        vertical-align: middle;\n",
       "    }\n",
       "\n",
       "    .dataframe tbody tr th {\n",
       "        vertical-align: top;\n",
       "    }\n",
       "\n",
       "    .dataframe thead th {\n",
       "        text-align: right;\n",
       "    }\n",
       "</style>\n",
       "<table border=\"1\" class=\"dataframe\">\n",
       "  <thead>\n",
       "    <tr style=\"text-align: right;\">\n",
       "      <th></th>\n",
       "      <th>country</th>\n",
       "      <th>age</th>\n",
       "      <th>new_user</th>\n",
       "      <th>source</th>\n",
       "      <th>total_pages_visited</th>\n",
       "      <th>converted</th>\n",
       "    </tr>\n",
       "  </thead>\n",
       "  <tbody>\n",
       "    <tr>\n",
       "      <th>0</th>\n",
       "      <td>China</td>\n",
       "      <td>22</td>\n",
       "      <td>1</td>\n",
       "      <td>Direct</td>\n",
       "      <td>2</td>\n",
       "      <td>0</td>\n",
       "    </tr>\n",
       "    <tr>\n",
       "      <th>1</th>\n",
       "      <td>UK</td>\n",
       "      <td>21</td>\n",
       "      <td>1</td>\n",
       "      <td>Ads</td>\n",
       "      <td>3</td>\n",
       "      <td>0</td>\n",
       "    </tr>\n",
       "    <tr>\n",
       "      <th>2</th>\n",
       "      <td>Germany</td>\n",
       "      <td>20</td>\n",
       "      <td>0</td>\n",
       "      <td>Seo</td>\n",
       "      <td>14</td>\n",
       "      <td>1</td>\n",
       "    </tr>\n",
       "    <tr>\n",
       "      <th>3</th>\n",
       "      <td>US</td>\n",
       "      <td>23</td>\n",
       "      <td>1</td>\n",
       "      <td>Seo</td>\n",
       "      <td>3</td>\n",
       "      <td>0</td>\n",
       "    </tr>\n",
       "    <tr>\n",
       "      <th>4</th>\n",
       "      <td>US</td>\n",
       "      <td>28</td>\n",
       "      <td>1</td>\n",
       "      <td>Direct</td>\n",
       "      <td>3</td>\n",
       "      <td>0</td>\n",
       "    </tr>\n",
       "  </tbody>\n",
       "</table>\n",
       "</div>"
      ]
     },
     "execution_count": 26,
     "metadata": {},
     "output_type": "execute_result"
    }
   ],
   "execution_count": 26
  },
  {
   "cell_type": "code",
   "metadata": {
    "ExecuteTime": {
     "end_time": "2024-08-10T15:18:42.737437Z",
     "start_time": "2024-08-10T15:18:42.717078Z"
    }
   },
   "source": [
    "# Le jeu de données est assez grand, créez un échantillon de celui-ci avant de réaliser des visualisations !\n",
    "data_sample = data.sample(10000)"
   ],
   "outputs": [],
   "execution_count": 27
  },
  {
   "cell_type": "code",
   "metadata": {
    "ExecuteTime": {
     "end_time": "2024-08-10T15:18:42.912292Z",
     "start_time": "2024-08-10T15:18:42.739270Z"
    }
   },
   "source": [
    "# Statistiques de base\n",
    "print(\"Nombre de lignes : {}\".format(data.shape[0]))\n",
    "print()\n",
    "\n",
    "print(\"Nombre de colonnes : {}\".format(data.shape[1]))\n",
    "print()\n",
    "\n",
    "print(\"Affichage du jeu de données : \")\n",
    "display(data.head())\n",
    "print()\n",
    "\n",
    "print(\"Statistiques de base : \")\n",
    "data_desc = data.describe(include='all')\n",
    "display(data_desc)\n",
    "print()\n",
    "\n",
    "print(\"Pourcentage de valeurs manquantes : \")\n",
    "display(100*data.isnull().sum()/data.shape[0])"
   ],
   "outputs": [
    {
     "name": "stdout",
     "output_type": "stream",
     "text": [
      "Nombre de lignes : 284580\n",
      "\n",
      "Nombre de colonnes : 6\n",
      "\n",
      "Affichage du jeu de données : \n"
     ]
    },
    {
     "data": {
      "text/plain": [
       "   country  age  new_user  source  total_pages_visited  converted\n",
       "0    China   22         1  Direct                    2          0\n",
       "1       UK   21         1     Ads                    3          0\n",
       "2  Germany   20         0     Seo                   14          1\n",
       "3       US   23         1     Seo                    3          0\n",
       "4       US   28         1  Direct                    3          0"
      ],
      "text/html": [
       "<div>\n",
       "<style scoped>\n",
       "    .dataframe tbody tr th:only-of-type {\n",
       "        vertical-align: middle;\n",
       "    }\n",
       "\n",
       "    .dataframe tbody tr th {\n",
       "        vertical-align: top;\n",
       "    }\n",
       "\n",
       "    .dataframe thead th {\n",
       "        text-align: right;\n",
       "    }\n",
       "</style>\n",
       "<table border=\"1\" class=\"dataframe\">\n",
       "  <thead>\n",
       "    <tr style=\"text-align: right;\">\n",
       "      <th></th>\n",
       "      <th>country</th>\n",
       "      <th>age</th>\n",
       "      <th>new_user</th>\n",
       "      <th>source</th>\n",
       "      <th>total_pages_visited</th>\n",
       "      <th>converted</th>\n",
       "    </tr>\n",
       "  </thead>\n",
       "  <tbody>\n",
       "    <tr>\n",
       "      <th>0</th>\n",
       "      <td>China</td>\n",
       "      <td>22</td>\n",
       "      <td>1</td>\n",
       "      <td>Direct</td>\n",
       "      <td>2</td>\n",
       "      <td>0</td>\n",
       "    </tr>\n",
       "    <tr>\n",
       "      <th>1</th>\n",
       "      <td>UK</td>\n",
       "      <td>21</td>\n",
       "      <td>1</td>\n",
       "      <td>Ads</td>\n",
       "      <td>3</td>\n",
       "      <td>0</td>\n",
       "    </tr>\n",
       "    <tr>\n",
       "      <th>2</th>\n",
       "      <td>Germany</td>\n",
       "      <td>20</td>\n",
       "      <td>0</td>\n",
       "      <td>Seo</td>\n",
       "      <td>14</td>\n",
       "      <td>1</td>\n",
       "    </tr>\n",
       "    <tr>\n",
       "      <th>3</th>\n",
       "      <td>US</td>\n",
       "      <td>23</td>\n",
       "      <td>1</td>\n",
       "      <td>Seo</td>\n",
       "      <td>3</td>\n",
       "      <td>0</td>\n",
       "    </tr>\n",
       "    <tr>\n",
       "      <th>4</th>\n",
       "      <td>US</td>\n",
       "      <td>28</td>\n",
       "      <td>1</td>\n",
       "      <td>Direct</td>\n",
       "      <td>3</td>\n",
       "      <td>0</td>\n",
       "    </tr>\n",
       "  </tbody>\n",
       "</table>\n",
       "</div>"
      ]
     },
     "metadata": {},
     "output_type": "display_data"
    },
    {
     "name": "stdout",
     "output_type": "stream",
     "text": [
      "\n",
      "Statistiques de base : \n"
     ]
    },
    {
     "data": {
      "text/plain": [
       "       country            age       new_user  source  total_pages_visited  \\\n",
       "count   284580  284580.000000  284580.000000  284580        284580.000000   \n",
       "unique       4            NaN            NaN       3                  NaN   \n",
       "top         US            NaN            NaN     Seo                  NaN   \n",
       "freq    160124            NaN            NaN  139477                  NaN   \n",
       "mean       NaN      30.564203       0.685452     NaN             4.873252   \n",
       "std        NaN       8.266789       0.464336     NaN             3.341995   \n",
       "min        NaN      17.000000       0.000000     NaN             1.000000   \n",
       "25%        NaN      24.000000       0.000000     NaN             2.000000   \n",
       "50%        NaN      30.000000       1.000000     NaN             4.000000   \n",
       "75%        NaN      36.000000       1.000000     NaN             7.000000   \n",
       "max        NaN     123.000000       1.000000     NaN            29.000000   \n",
       "\n",
       "            converted  \n",
       "count   284580.000000  \n",
       "unique            NaN  \n",
       "top               NaN  \n",
       "freq              NaN  \n",
       "mean         0.032258  \n",
       "std          0.176685  \n",
       "min          0.000000  \n",
       "25%          0.000000  \n",
       "50%          0.000000  \n",
       "75%          0.000000  \n",
       "max          1.000000  "
      ],
      "text/html": [
       "<div>\n",
       "<style scoped>\n",
       "    .dataframe tbody tr th:only-of-type {\n",
       "        vertical-align: middle;\n",
       "    }\n",
       "\n",
       "    .dataframe tbody tr th {\n",
       "        vertical-align: top;\n",
       "    }\n",
       "\n",
       "    .dataframe thead th {\n",
       "        text-align: right;\n",
       "    }\n",
       "</style>\n",
       "<table border=\"1\" class=\"dataframe\">\n",
       "  <thead>\n",
       "    <tr style=\"text-align: right;\">\n",
       "      <th></th>\n",
       "      <th>country</th>\n",
       "      <th>age</th>\n",
       "      <th>new_user</th>\n",
       "      <th>source</th>\n",
       "      <th>total_pages_visited</th>\n",
       "      <th>converted</th>\n",
       "    </tr>\n",
       "  </thead>\n",
       "  <tbody>\n",
       "    <tr>\n",
       "      <th>count</th>\n",
       "      <td>284580</td>\n",
       "      <td>284580.000000</td>\n",
       "      <td>284580.000000</td>\n",
       "      <td>284580</td>\n",
       "      <td>284580.000000</td>\n",
       "      <td>284580.000000</td>\n",
       "    </tr>\n",
       "    <tr>\n",
       "      <th>unique</th>\n",
       "      <td>4</td>\n",
       "      <td>NaN</td>\n",
       "      <td>NaN</td>\n",
       "      <td>3</td>\n",
       "      <td>NaN</td>\n",
       "      <td>NaN</td>\n",
       "    </tr>\n",
       "    <tr>\n",
       "      <th>top</th>\n",
       "      <td>US</td>\n",
       "      <td>NaN</td>\n",
       "      <td>NaN</td>\n",
       "      <td>Seo</td>\n",
       "      <td>NaN</td>\n",
       "      <td>NaN</td>\n",
       "    </tr>\n",
       "    <tr>\n",
       "      <th>freq</th>\n",
       "      <td>160124</td>\n",
       "      <td>NaN</td>\n",
       "      <td>NaN</td>\n",
       "      <td>139477</td>\n",
       "      <td>NaN</td>\n",
       "      <td>NaN</td>\n",
       "    </tr>\n",
       "    <tr>\n",
       "      <th>mean</th>\n",
       "      <td>NaN</td>\n",
       "      <td>30.564203</td>\n",
       "      <td>0.685452</td>\n",
       "      <td>NaN</td>\n",
       "      <td>4.873252</td>\n",
       "      <td>0.032258</td>\n",
       "    </tr>\n",
       "    <tr>\n",
       "      <th>std</th>\n",
       "      <td>NaN</td>\n",
       "      <td>8.266789</td>\n",
       "      <td>0.464336</td>\n",
       "      <td>NaN</td>\n",
       "      <td>3.341995</td>\n",
       "      <td>0.176685</td>\n",
       "    </tr>\n",
       "    <tr>\n",
       "      <th>min</th>\n",
       "      <td>NaN</td>\n",
       "      <td>17.000000</td>\n",
       "      <td>0.000000</td>\n",
       "      <td>NaN</td>\n",
       "      <td>1.000000</td>\n",
       "      <td>0.000000</td>\n",
       "    </tr>\n",
       "    <tr>\n",
       "      <th>25%</th>\n",
       "      <td>NaN</td>\n",
       "      <td>24.000000</td>\n",
       "      <td>0.000000</td>\n",
       "      <td>NaN</td>\n",
       "      <td>2.000000</td>\n",
       "      <td>0.000000</td>\n",
       "    </tr>\n",
       "    <tr>\n",
       "      <th>50%</th>\n",
       "      <td>NaN</td>\n",
       "      <td>30.000000</td>\n",
       "      <td>1.000000</td>\n",
       "      <td>NaN</td>\n",
       "      <td>4.000000</td>\n",
       "      <td>0.000000</td>\n",
       "    </tr>\n",
       "    <tr>\n",
       "      <th>75%</th>\n",
       "      <td>NaN</td>\n",
       "      <td>36.000000</td>\n",
       "      <td>1.000000</td>\n",
       "      <td>NaN</td>\n",
       "      <td>7.000000</td>\n",
       "      <td>0.000000</td>\n",
       "    </tr>\n",
       "    <tr>\n",
       "      <th>max</th>\n",
       "      <td>NaN</td>\n",
       "      <td>123.000000</td>\n",
       "      <td>1.000000</td>\n",
       "      <td>NaN</td>\n",
       "      <td>29.000000</td>\n",
       "      <td>1.000000</td>\n",
       "    </tr>\n",
       "  </tbody>\n",
       "</table>\n",
       "</div>"
      ]
     },
     "metadata": {},
     "output_type": "display_data"
    },
    {
     "name": "stdout",
     "output_type": "stream",
     "text": [
      "\n",
      "Pourcentage de valeurs manquantes : \n"
     ]
    },
    {
     "data": {
      "text/plain": [
       "country                0.0\n",
       "age                    0.0\n",
       "new_user               0.0\n",
       "source                 0.0\n",
       "total_pages_visited    0.0\n",
       "converted              0.0\n",
       "dtype: float64"
      ]
     },
     "metadata": {},
     "output_type": "display_data"
    }
   ],
   "execution_count": 28
  },
  {
   "cell_type": "code",
   "metadata": {
    "ExecuteTime": {
     "end_time": "2024-08-10T15:18:42.934466Z",
     "start_time": "2024-08-10T15:18:42.914063Z"
    }
   },
   "source": [
    "# En ayant recours à la méthode 'loc', nous filtrons les données pour éliminer les valeurs aberrantes au niveau de la colonne 'age'.\n",
    "# Les valeurs aberrantes sont déterminées en utilisant la moyenne et l'écart type de 'age'.\n",
    "# Les observations dont 'age' est plus de 4 écarts types au-dessus de la moyenne (c'est-à-dire des valeurs extrêmement élevées) seront supprimées.\n",
    "data = data.loc[data['age'] < (data['age'].mean())+(data['age'].std()*4)]"
   ],
   "outputs": [],
   "execution_count": 29
  },
  {
   "cell_type": "code",
   "metadata": {
    "ExecuteTime": {
     "end_time": "2024-08-10T15:18:42.944661Z",
     "start_time": "2024-08-10T15:18:42.936052Z"
    }
   },
   "source": [
    "data.info"
   ],
   "outputs": [
    {
     "data": {
      "text/plain": [
       "<bound method DataFrame.info of         country  age  new_user  source  total_pages_visited  converted\n",
       "0         China   22         1  Direct                    2          0\n",
       "1            UK   21         1     Ads                    3          0\n",
       "2       Germany   20         0     Seo                   14          1\n",
       "3            US   23         1     Seo                    3          0\n",
       "4            US   28         1  Direct                    3          0\n",
       "...         ...  ...       ...     ...                  ...        ...\n",
       "284575       US   36         1     Ads                    1          0\n",
       "284576       US   31         1     Seo                    2          0\n",
       "284577       US   41         1     Seo                    5          0\n",
       "284578       US   31         1  Direct                    4          0\n",
       "284579       US   26         0     Ads                    3          0\n",
       "\n",
       "[284515 rows x 6 columns]>"
      ]
     },
     "execution_count": 30,
     "metadata": {},
     "output_type": "execute_result"
    }
   ],
   "execution_count": 30
  },
  {
   "cell_type": "code",
   "metadata": {
    "ExecuteTime": {
     "end_time": "2024-08-10T15:18:42.950210Z",
     "start_time": "2024-08-10T15:18:42.946490Z"
    }
   },
   "source": [
    "# Liste des caractéristiques à considérer pour nos prédictions\n",
    "features_list = ['country','age','new_user','source','total_pages_visited']\n",
    "\n",
    "# Variable cible que nous souhaitons prédire\n",
    "target_variable = 'converted'"
   ],
   "outputs": [],
   "execution_count": 31
  },
  {
   "cell_type": "code",
   "metadata": {
    "ExecuteTime": {
     "end_time": "2024-08-10T15:18:42.971444Z",
     "start_time": "2024-08-10T15:18:42.954350Z"
    }
   },
   "source": [
    "# Ici, nous définissons nos variables explicatives (c'est-à-dire nos caractéristiques) et notre variable de sortie (la cible).\n",
    "# 'loc' est une fonction qui nous permet de sélectionner des données par étiquette. Ici nous sélectionnons toutes les lignes (:) pour les colonnes dans 'features_list' et 'target_variable'.\n",
    "\n",
    "X = data.loc[:, features_list]  # Variables explicatives\n",
    "Y = data.loc[:, target_variable]  # Variable à prédire\n",
    "\n",
    "# Ensuite, nous imprimons les noms des variables explicatives pour la vérification\n",
    "print('Variables explicatives : ', X.columns)\n",
    "print()"
   ],
   "outputs": [
    {
     "name": "stdout",
     "output_type": "stream",
     "text": [
      "Variables explicatives :  Index(['country', 'age', 'new_user', 'source', 'total_pages_visited'], dtype='object')\n",
      "\n"
     ]
    }
   ],
   "execution_count": 32
  },
  {
   "cell_type": "code",
   "metadata": {
    "ExecuteTime": {
     "end_time": "2024-08-10T15:18:43.015077Z",
     "start_time": "2024-08-10T15:18:42.973323Z"
    }
   },
   "source": [
    "# Afin d'évaluer la performance de notre modèle, nous le divisons en deux sous-ensembles \"Train\" et \"Test\".\n",
    "# L'ensemble \"Train\" sera utilisé pour entraîner le modèle, tandis que l'ensemble \"Test\" servira à évaluer sa performance.\n",
    "# 'train_test_split' est une fonction qui fait exactement cela, le paramètre 'test_size=0.1' signifie que 10% des données seront utilisées pour le test.\n",
    "\n",
    "# Le paramètre 'random_state' est utilisé pour assurer que la division soit toujours la même.\n",
    "\n",
    "print(\"Diviser le dataset en ensemble d'entraînement et de test...\")\n",
    "X_train, X_test, Y_train, Y_test = train_test_split(X, Y, test_size=0.1, random_state=0)\n",
    "print(\"...Terminé.\")\n",
    "print()"
   ],
   "outputs": [
    {
     "name": "stdout",
     "output_type": "stream",
     "text": [
      "Diviser le dataset en ensemble d'entraînement et de test...\n",
      "...Terminé.\n",
      "\n"
     ]
    }
   ],
   "execution_count": 33
  },
  {
   "cell_type": "code",
   "metadata": {
    "ExecuteTime": {
     "end_time": "2024-08-10T15:18:43.288305Z",
     "start_time": "2024-08-10T15:18:43.016613Z"
    }
   },
   "source": [
    "# Ici, nous effectuons le prétraitement des données avant de les introduire dans le modèle.\n",
    "# C'est une étape très importante en Machine Learning.\n",
    "\n",
    "print(\"Encodage des caractéristiques catégorielles et standardisation des caractéristiques numériques...\")\n",
    "\n",
    "# Nous définissons nos caractéristiques numériques\n",
    "numeric_features = ['age', 'new_user', 'total_pages_visited']\n",
    "\n",
    "# Pour nos variables numériques, nous utiliserons un `StandardScaler` qui standardise les caractéristiques en supprimant la moyenne et en choisissant l'écart type unitaire.\n",
    "\n",
    "numeric_transformer = Pipeline(steps=[\n",
    "    ('scaler', StandardScaler())\n",
    "])\n",
    "\n",
    "# Nous définissons nos caractéristiques catégoriques\n",
    "categorical_features = ['country', 'source']\n",
    "\n",
    "# Pour ces variables catégorielles, nous utiliserons un `OneHotEncoder` qui transforme chaque valeur catégorielle en une nouvelle colonne et assigne une valeur binaire 1 ou 0.\n",
    "\n",
    "categorical_transformer = Pipeline(\n",
    "    steps=[\n",
    "        ('encoder', OneHotEncoder(drop='first')) # la première colonne sera supprimée pour éviter de créer des corrélations entre les caractéristiques\n",
    "    ])\n",
    "\n",
    "# Ensuite, nous appliquons ces transformations à nos caractéristiques en utilisant le `ColumnTransformer`.\n",
    "\n",
    "preprocessor = ColumnTransformer(\n",
    "    transformers=[\n",
    "        ('cat', categorical_transformer, categorical_features),\n",
    "        ('num', numeric_transformer, numeric_features),\n",
    "    ])\n",
    "\n",
    "# Enfin, nous appliquons ces transformations à notre jeu de données d'entraînement.\n",
    "X_train = preprocessor.fit_transform(X_train)\n",
    "\n",
    "print(\"...Terminé!\")\n",
    "print(X_train[0:5, :])  # On affiche les 5 premières lignes de notre jeu de données d'entraînement transformé pour la vérification."
   ],
   "outputs": [
    {
     "name": "stdout",
     "output_type": "stream",
     "text": [
      "Encodage des caractéristiques catégorielles et standardisation des caractéristiques numériques...\n",
      "...Terminé!\n",
      "[[ 0.          1.          0.          0.          1.         -1.15899784\n",
      "   0.67788086  0.0377522 ]\n",
      " [ 0.          1.          0.          0.          1.         -0.43107853\n",
      "   0.67788086  0.3368716 ]\n",
      " [ 0.          0.          1.          1.          0.          1.02476009\n",
      "   0.67788086 -0.85960601]\n",
      " [ 0.          0.          0.          1.          0.          0.1755209\n",
      "   0.67788086  0.0377522 ]\n",
      " [ 0.          0.          1.          0.          0.         -0.30975864\n",
      "  -1.47518547  0.0377522 ]]\n"
     ]
    }
   ],
   "execution_count": 34
  },
  {
   "cell_type": "code",
   "metadata": {
    "ExecuteTime": {
     "end_time": "2024-08-10T15:18:43.828716Z",
     "start_time": "2024-08-10T15:18:43.299221Z"
    }
   },
   "source": [
    "# Ici, nous entrainons le modèle avec nos données d'entraînement.\n",
    "# Nous avons choisi d'utiliser une Régression Logistique pour notre classification qui est représentée par la variable 'classifier'.\n",
    "\n",
    "print(\"Entraînement du modèle...\")\n",
    "# Création d'une instance de la classe LogisticRegression\n",
    "classifier = LogisticRegression()\n",
    "# Utilisation de l'instance créée pour entraîner le modèle sur nos données\n",
    "classifier.fit(X_train, Y_train)\n",
    "print(\"...Terminé.\")\n",
    "\n",
    "# Note : L'apprentissage du modèle est effectué lorsque nous appelons la méthode 'fit()' avec nos données d'entraînement comme paramètres."
   ],
   "outputs": [
    {
     "name": "stdout",
     "output_type": "stream",
     "text": [
      "Entraînement du modèle...\n",
      "...Terminé.\n"
     ]
    }
   ],
   "execution_count": 35
  },
  {
   "cell_type": "code",
   "metadata": {
    "ExecuteTime": {
     "end_time": "2024-08-10T15:18:43.840639Z",
     "start_time": "2024-08-10T15:18:43.830939Z"
    }
   },
   "source": [
    "# Ici nous faisons des prédictions sur notre ensemble d'entraînement pour vérifier comment le modèle fonctionne sur celui-ci.\n",
    "print(\"Prédictions sur l'ensemble d'entraînement...\")\n",
    "# Nous utilisons la méthode 'predict' de notre classificateur pour faire les prédictions sur les données d'entraînement\n",
    "Y_train_pred = classifier.predict(X_train)\n",
    "print(\"...Terminé.\")\n",
    "print(Y_train_pred)  # On affiche les prédictions réalisées\n",
    "print()"
   ],
   "outputs": [
    {
     "name": "stdout",
     "output_type": "stream",
     "text": [
      "Prédictions sur l'ensemble d'entraînement...\n",
      "...Terminé.\n",
      "[0 0 0 ... 0 0 0]\n",
      "\n"
     ]
    }
   ],
   "execution_count": 36
  },
  {
   "cell_type": "code",
   "metadata": {
    "ExecuteTime": {
     "end_time": "2024-08-10T15:18:43.881761Z",
     "start_time": "2024-08-10T15:18:43.842565Z"
    }
   },
   "source": [
    "# Pour notre ensemble de test, nous appliquons les mêmes prétraitements que pour l'ensemble d'entraînement. \n",
    "\n",
    "print(\"Encodage des caractéristiques catégorielles et standardisation des caractéristiques numériques...\")\n",
    "\n",
    "# Nous utilisons la méthode 'transform' et non pas 'fit_transform' car nous n'avons pas besoin d'apprendre les paramètres (moyenne, écart-type, etc.) de nos données, nous utilisons donc ceux qui ont été appris sur l'ensemble d'entraînement.\n",
    "X_test = preprocessor.transform(X_test)\n",
    "print(\"...Terminé.\")\n",
    "\n",
    "# Nous imprimons les 5 premières lignes pour vérification\n",
    "print(X_test[0:5, :])"
   ],
   "outputs": [
    {
     "name": "stdout",
     "output_type": "stream",
     "text": [
      "Encodage des caractéristiques catégorielles et standardisation des caractéristiques numériques...\n",
      "...Terminé.\n",
      "[[ 1.          0.          0.          0.          1.          0.66080044\n",
      "  -1.47518547 -0.85960601]\n",
      " [ 0.          0.          0.          1.          0.          0.05420101\n",
      "  -1.47518547  0.635991  ]\n",
      " [ 1.          0.          0.          0.          1.          0.05420101\n",
      "   0.67788086 -0.56048661]\n",
      " [ 0.          0.          0.          0.          0.         -0.30975864\n",
      "   0.67788086  0.3368716 ]\n",
      " [ 0.          0.          0.          1.          0.         -1.64427738\n",
      "  -1.47518547  0.0377522 ]]\n"
     ]
    }
   ],
   "execution_count": 37
  },
  {
   "cell_type": "code",
   "metadata": {
    "ExecuteTime": {
     "end_time": "2024-08-10T15:18:43.890160Z",
     "start_time": "2024-08-10T15:18:43.884113Z"
    }
   },
   "source": [
    "# Prédictions sur l'ensemble de test\n",
    "print(\"Prédictions sur l'ensemble de test...\")\n",
    "Y_test_pred = classifier.predict(X_test)\n",
    "print(\"...Fait.\")\n",
    "print(Y_test_pred)\n",
    "print()"
   ],
   "outputs": [
    {
     "name": "stdout",
     "output_type": "stream",
     "text": [
      "Prédictions sur l'ensemble de test...\n",
      "...Fait.\n",
      "[0 0 0 ... 0 0 0]\n",
      "\n"
     ]
    }
   ],
   "execution_count": 38
  },
  {
   "cell_type": "code",
   "metadata": {
    "ExecuteTime": {
     "end_time": "2024-08-10T15:18:44.054878Z",
     "start_time": "2024-08-10T15:18:43.892070Z"
    }
   },
   "source": [
    "# AVERTISSEMENT : Utilisez le même score que celui qui sera utilisé par Kaggle !\n",
    "# Ici, le f1-score sera utilisé pour évaluer les performances sur le tableau de classement.\n",
    "print(\"f1-score sur l'ensemble d'entraînement : \", f1_score(Y_train, Y_train_pred))\n",
    "print(\"f1-score sur l'ensemble de test : \", f1_score(Y_test, Y_test_pred))"
   ],
   "outputs": [
    {
     "name": "stdout",
     "output_type": "stream",
     "text": [
      "f1-score sur l'ensemble d'entraînement :  0.7627639668537823\n",
      "f1-score sur l'ensemble de test :  0.771712158808933\n"
     ]
    }
   ],
   "execution_count": 39
  },
  {
   "cell_type": "code",
   "metadata": {
    "ExecuteTime": {
     "end_time": "2024-08-10T15:18:44.124617Z",
     "start_time": "2024-08-10T15:18:44.056641Z"
    }
   },
   "source": [
    "# Vous pouvez également vérifier d'autres mesures de performance pour mieux comprendre ce que fait votre modèle\n",
    "print(\"Matrice de confusion sur l'ensemble d'entraînement : \")\n",
    "print(confusion_matrix(Y_train, Y_train_pred))\n",
    "print()\n",
    "print(\"Matrice de confusion sur l'ensemble de test : \")\n",
    "print(confusion_matrix(Y_test, Y_test_pred))\n",
    "print()"
   ],
   "outputs": [
    {
     "name": "stdout",
     "output_type": "stream",
     "text": [
      "Matrice de confusion sur l'ensemble d'entraînement : \n",
      "[[246806    969]\n",
      " [  2581   5707]]\n",
      "\n",
      "Matrice de confusion sur l'ensemble de test : \n",
      "[[27462   100]\n",
      " [  268   622]]\n",
      "\n"
     ]
    }
   ],
   "execution_count": 40
  },
  {
   "cell_type": "code",
   "metadata": {
    "ExecuteTime": {
     "end_time": "2024-08-10T15:18:44.969180Z",
     "start_time": "2024-08-10T15:18:44.126491Z"
    }
   },
   "source": [
    "# Concaténez nos ensembles d'entraînement et de test pour entraîner votre meilleur classificateur sur toutes les données avec des étiquettes\n",
    "X = np.append(X_train, X_test, axis=0)\n",
    "Y = np.append(Y_train, Y_test)\n",
    "\n",
    "classifier.fit(X, Y)"
   ],
   "outputs": [
    {
     "data": {
      "text/plain": [
       "LogisticRegression()"
      ],
      "text/html": [
       "<style>#sk-container-id-2 {color: black;}#sk-container-id-2 pre{padding: 0;}#sk-container-id-2 div.sk-toggleable {background-color: white;}#sk-container-id-2 label.sk-toggleable__label {cursor: pointer;display: block;width: 100%;margin-bottom: 0;padding: 0.3em;box-sizing: border-box;text-align: center;}#sk-container-id-2 label.sk-toggleable__label-arrow:before {content: \"▸\";float: left;margin-right: 0.25em;color: #696969;}#sk-container-id-2 label.sk-toggleable__label-arrow:hover:before {color: black;}#sk-container-id-2 div.sk-estimator:hover label.sk-toggleable__label-arrow:before {color: black;}#sk-container-id-2 div.sk-toggleable__content {max-height: 0;max-width: 0;overflow: hidden;text-align: left;background-color: #f0f8ff;}#sk-container-id-2 div.sk-toggleable__content pre {margin: 0.2em;color: black;border-radius: 0.25em;background-color: #f0f8ff;}#sk-container-id-2 input.sk-toggleable__control:checked~div.sk-toggleable__content {max-height: 200px;max-width: 100%;overflow: auto;}#sk-container-id-2 input.sk-toggleable__control:checked~label.sk-toggleable__label-arrow:before {content: \"▾\";}#sk-container-id-2 div.sk-estimator input.sk-toggleable__control:checked~label.sk-toggleable__label {background-color: #d4ebff;}#sk-container-id-2 div.sk-label input.sk-toggleable__control:checked~label.sk-toggleable__label {background-color: #d4ebff;}#sk-container-id-2 input.sk-hidden--visually {border: 0;clip: rect(1px 1px 1px 1px);clip: rect(1px, 1px, 1px, 1px);height: 1px;margin: -1px;overflow: hidden;padding: 0;position: absolute;width: 1px;}#sk-container-id-2 div.sk-estimator {font-family: monospace;background-color: #f0f8ff;border: 1px dotted black;border-radius: 0.25em;box-sizing: border-box;margin-bottom: 0.5em;}#sk-container-id-2 div.sk-estimator:hover {background-color: #d4ebff;}#sk-container-id-2 div.sk-parallel-item::after {content: \"\";width: 100%;border-bottom: 1px solid gray;flex-grow: 1;}#sk-container-id-2 div.sk-label:hover label.sk-toggleable__label {background-color: #d4ebff;}#sk-container-id-2 div.sk-serial::before {content: \"\";position: absolute;border-left: 1px solid gray;box-sizing: border-box;top: 0;bottom: 0;left: 50%;z-index: 0;}#sk-container-id-2 div.sk-serial {display: flex;flex-direction: column;align-items: center;background-color: white;padding-right: 0.2em;padding-left: 0.2em;position: relative;}#sk-container-id-2 div.sk-item {position: relative;z-index: 1;}#sk-container-id-2 div.sk-parallel {display: flex;align-items: stretch;justify-content: center;background-color: white;position: relative;}#sk-container-id-2 div.sk-item::before, #sk-container-id-2 div.sk-parallel-item::before {content: \"\";position: absolute;border-left: 1px solid gray;box-sizing: border-box;top: 0;bottom: 0;left: 50%;z-index: -1;}#sk-container-id-2 div.sk-parallel-item {display: flex;flex-direction: column;z-index: 1;position: relative;background-color: white;}#sk-container-id-2 div.sk-parallel-item:first-child::after {align-self: flex-end;width: 50%;}#sk-container-id-2 div.sk-parallel-item:last-child::after {align-self: flex-start;width: 50%;}#sk-container-id-2 div.sk-parallel-item:only-child::after {width: 0;}#sk-container-id-2 div.sk-dashed-wrapped {border: 1px dashed gray;margin: 0 0.4em 0.5em 0.4em;box-sizing: border-box;padding-bottom: 0.4em;background-color: white;}#sk-container-id-2 div.sk-label label {font-family: monospace;font-weight: bold;display: inline-block;line-height: 1.2em;}#sk-container-id-2 div.sk-label-container {text-align: center;}#sk-container-id-2 div.sk-container {/* jupyter's `normalize.less` sets `[hidden] { display: none; }` but bootstrap.min.css set `[hidden] { display: none !important; }` so we also need the `!important` here to be able to override the default hidden behavior on the sphinx rendered scikit-learn.org. See: https://github.com/scikit-learn/scikit-learn/issues/21755 */display: inline-block !important;position: relative;}#sk-container-id-2 div.sk-text-repr-fallback {display: none;}</style><div id=\"sk-container-id-2\" class=\"sk-top-container\"><div class=\"sk-text-repr-fallback\"><pre>LogisticRegression()</pre><b>In a Jupyter environment, please rerun this cell to show the HTML representation or trust the notebook. <br />On GitHub, the HTML representation is unable to render, please try loading this page with nbviewer.org.</b></div><div class=\"sk-container\" hidden><div class=\"sk-item\"><div class=\"sk-estimator sk-toggleable\"><input class=\"sk-toggleable__control sk-hidden--visually\" id=\"sk-estimator-id-2\" type=\"checkbox\" checked><label for=\"sk-estimator-id-2\" class=\"sk-toggleable__label sk-toggleable__label-arrow\">LogisticRegression</label><div class=\"sk-toggleable__content\"><pre>LogisticRegression()</pre></div></div></div></div></div>"
      ]
     },
     "execution_count": 41,
     "metadata": {},
     "output_type": "execute_result"
    }
   ],
   "execution_count": 41
  },
  {
   "cell_type": "code",
   "metadata": {
    "ExecuteTime": {
     "end_time": "2024-08-10T15:18:45.006754Z",
     "start_time": "2024-08-10T15:18:44.972384Z"
    }
   },
   "source": [
    "# Lecture des données sans étiquettes\n",
    "data_without_labels = pd.read_csv('conversion_data_test.csv')\n",
    "print('Ensemble de prédiction (sans étiquettes) :', data_without_labels.shape)\n",
    "\n",
    "# Attention : vérifiez la cohérence de la liste des caractéristiques (doit être la même que les caractéristiques \n",
    "# utilisées par votre meilleur classificateur)\n",
    "features_list = ['country', 'age', 'new_user', 'source', 'total_pages_visited']\n",
    "X_without_labels = data_without_labels.loc[:, features_list]\n",
    "\n",
    "# Conversion des DataFrames pandas en tableaux numpy avant d'utiliser scikit-learn\n",
    "print(\"Conversion des DataFrames pandas en tableaux numpy...\")\n",
    "# X_without_labels = X_without_labels.values\n",
    "print(\"...Fait\")\n",
    "\n",
    "print(X_without_labels[0:5])"
   ],
   "outputs": [
    {
     "name": "stdout",
     "output_type": "stream",
     "text": [
      "Ensemble de prédiction (sans étiquettes) : (31620, 5)\n",
      "Conversion des DataFrames pandas en tableaux numpy...\n",
      "...Fait\n",
      "  country  age  new_user  source  total_pages_visited\n",
      "0      UK   28         0     Seo                   16\n",
      "1      UK   22         1  Direct                    5\n",
      "2   China   32         1     Seo                    1\n",
      "3      US   32         1     Ads                    6\n",
      "4   China   25         0     Seo                    3\n"
     ]
    }
   ],
   "execution_count": 42
  },
  {
   "cell_type": "code",
   "metadata": {
    "ExecuteTime": {
     "end_time": "2024-08-10T15:18:45.052707Z",
     "start_time": "2024-08-10T15:18:45.009124Z"
    }
   },
   "source": [
    "# ATTENTION : METTEZ ICI LE MÊME PRÉTRAITEMENT QUE POUR VOTRE ENSEMBLE DE TEST\n",
    "# VÉRIFIEZ QUE VOUS UTILISEZ X_without_labels\n",
    "print(\"Encodage des caractéristiques catégorielles et normalisation des caractéristiques numériques...\")\n",
    "\n",
    "X_without_labels = preprocessor.transform(X_without_labels)\n",
    "print(\"...Fait\")\n",
    "print(X_without_labels[0:5])\n"
   ],
   "outputs": [
    {
     "name": "stdout",
     "output_type": "stream",
     "text": [
      "Encodage des caractéristiques catégorielles et normalisation des caractéristiques numériques...\n",
      "...Fait\n",
      "[[ 0.          1.          0.          0.          1.         -0.30975864\n",
      "  -1.47518547  3.32806563]\n",
      " [ 0.          1.          0.          1.          0.         -1.03767795\n",
      "   0.67788086  0.0377522 ]\n",
      " [ 0.          0.          0.          0.          1.          0.1755209\n",
      "   0.67788086 -1.15872542]\n",
      " [ 0.          0.          1.          0.          0.          0.1755209\n",
      "   0.67788086  0.3368716 ]\n",
      " [ 0.          0.          0.          0.          1.         -0.6737183\n",
      "  -1.47518547 -0.56048661]]\n"
     ]
    }
   ],
   "execution_count": 43
  },
  {
   "cell_type": "code",
   "metadata": {
    "ExecuteTime": {
     "end_time": "2024-08-10T15:18:45.082323Z",
     "start_time": "2024-08-10T15:18:45.055158Z"
    }
   },
   "source": [
    "# Faire des prédictions et les exporter dans un fichier\n",
    "# ATTENTION : ASSUREZ-VOUS QUE LE FICHIER EST UN CSV AVEC UNE COLONNE NOMMÉE 'converted' ET PAS D'INDEX !\n",
    "# ATTENTION : LE NOM DU FICHIER DOIT AVOIR LE FORMAT 'conversion_data_test_predictions_[nom].csv'\n",
    "# où [nom] est le nom de votre équipe/modèle séparé par un '-'\n",
    "# Par exemple : [nom] = MELCHIOR-model1\n",
    "data = {\n",
    "    'converted': classifier.predict(X_without_labels)\n",
    "}\n",
    "\n",
    "Y_predictions = pd.DataFrame(columns=['converted'], data=data)\n",
    "Y_predictions.to_csv('conversion_data_test_predictions_melchior-model1.csv', index=False)"
   ],
   "outputs": [],
   "execution_count": 44
  },
  {
   "cell_type": "markdown",
   "metadata": {},
   "source": "# Arbre de décision"
  },
  {
   "cell_type": "code",
   "metadata": {
    "ExecuteTime": {
     "end_time": "2024-08-10T15:18:45.258210Z",
     "start_time": "2024-08-10T15:18:45.084681Z"
    }
   },
   "source": [
    "data = pd.read_csv('conversion_data_train.csv')\n",
    "print(\"Ensemble avec des étiquettes (notre train+test) :\", data.shape)"
   ],
   "outputs": [
    {
     "name": "stdout",
     "output_type": "stream",
     "text": [
      "Ensemble avec des étiquettes (notre train+test) : (284580, 6)\n"
     ]
    }
   ],
   "execution_count": 45
  },
  {
   "cell_type": "code",
   "metadata": {
    "ExecuteTime": {
     "end_time": "2024-08-10T15:18:45.267716Z",
     "start_time": "2024-08-10T15:18:45.259737Z"
    }
   },
   "source": [
    "data.head()"
   ],
   "outputs": [
    {
     "data": {
      "text/plain": [
       "   country  age  new_user  source  total_pages_visited  converted\n",
       "0    China   22         1  Direct                    2          0\n",
       "1       UK   21         1     Ads                    3          0\n",
       "2  Germany   20         0     Seo                   14          1\n",
       "3       US   23         1     Seo                    3          0\n",
       "4       US   28         1  Direct                    3          0"
      ],
      "text/html": [
       "<div>\n",
       "<style scoped>\n",
       "    .dataframe tbody tr th:only-of-type {\n",
       "        vertical-align: middle;\n",
       "    }\n",
       "\n",
       "    .dataframe tbody tr th {\n",
       "        vertical-align: top;\n",
       "    }\n",
       "\n",
       "    .dataframe thead th {\n",
       "        text-align: right;\n",
       "    }\n",
       "</style>\n",
       "<table border=\"1\" class=\"dataframe\">\n",
       "  <thead>\n",
       "    <tr style=\"text-align: right;\">\n",
       "      <th></th>\n",
       "      <th>country</th>\n",
       "      <th>age</th>\n",
       "      <th>new_user</th>\n",
       "      <th>source</th>\n",
       "      <th>total_pages_visited</th>\n",
       "      <th>converted</th>\n",
       "    </tr>\n",
       "  </thead>\n",
       "  <tbody>\n",
       "    <tr>\n",
       "      <th>0</th>\n",
       "      <td>China</td>\n",
       "      <td>22</td>\n",
       "      <td>1</td>\n",
       "      <td>Direct</td>\n",
       "      <td>2</td>\n",
       "      <td>0</td>\n",
       "    </tr>\n",
       "    <tr>\n",
       "      <th>1</th>\n",
       "      <td>UK</td>\n",
       "      <td>21</td>\n",
       "      <td>1</td>\n",
       "      <td>Ads</td>\n",
       "      <td>3</td>\n",
       "      <td>0</td>\n",
       "    </tr>\n",
       "    <tr>\n",
       "      <th>2</th>\n",
       "      <td>Germany</td>\n",
       "      <td>20</td>\n",
       "      <td>0</td>\n",
       "      <td>Seo</td>\n",
       "      <td>14</td>\n",
       "      <td>1</td>\n",
       "    </tr>\n",
       "    <tr>\n",
       "      <th>3</th>\n",
       "      <td>US</td>\n",
       "      <td>23</td>\n",
       "      <td>1</td>\n",
       "      <td>Seo</td>\n",
       "      <td>3</td>\n",
       "      <td>0</td>\n",
       "    </tr>\n",
       "    <tr>\n",
       "      <th>4</th>\n",
       "      <td>US</td>\n",
       "      <td>28</td>\n",
       "      <td>1</td>\n",
       "      <td>Direct</td>\n",
       "      <td>3</td>\n",
       "      <td>0</td>\n",
       "    </tr>\n",
       "  </tbody>\n",
       "</table>\n",
       "</div>"
      ]
     },
     "execution_count": 46,
     "metadata": {},
     "output_type": "execute_result"
    }
   ],
   "execution_count": 46
  },
  {
   "cell_type": "code",
   "metadata": {
    "ExecuteTime": {
     "end_time": "2024-08-10T15:18:45.282360Z",
     "start_time": "2024-08-10T15:18:45.269540Z"
    }
   },
   "source": [
    "# L'ensemble de données est assez grand : vous devez créer un échantillon de l'ensemble de données avant de faire des visualisations !\n",
    "data_sample = data.sample(10000)"
   ],
   "outputs": [],
   "execution_count": 47
  },
  {
   "cell_type": "code",
   "metadata": {
    "ExecuteTime": {
     "end_time": "2024-08-10T15:18:45.286991Z",
     "start_time": "2024-08-10T15:18:45.283779Z"
    }
   },
   "source": [
    "features_list = ['country','age','new_user','source','total_pages_visited']\n",
    "target_variable = 'converted'"
   ],
   "outputs": [],
   "execution_count": 48
  },
  {
   "cell_type": "code",
   "metadata": {
    "ExecuteTime": {
     "end_time": "2024-08-10T15:18:45.296833Z",
     "start_time": "2024-08-10T15:18:45.288417Z"
    }
   },
   "source": [
    "X = data.loc[:, features_list]\n",
    "Y = data.loc[:, target_variable]\n",
    "\n",
    "print('Variables explicatoires: ', X.columns)\n",
    "print()"
   ],
   "outputs": [
    {
     "name": "stdout",
     "output_type": "stream",
     "text": [
      "Variables explicatoires:  Index(['country', 'age', 'new_user', 'source', 'total_pages_visited'], dtype='object')\n",
      "\n"
     ]
    }
   ],
   "execution_count": 49
  },
  {
   "cell_type": "code",
   "metadata": {
    "ExecuteTime": {
     "end_time": "2024-08-10T15:18:45.330188Z",
     "start_time": "2024-08-10T15:18:45.298249Z"
    }
   },
   "source": [
    "# Diviser le jeu de données en jeu d'apprentissage et jeu de test \n",
    "print(\"Division en jeux d'entraînement et de test...\")\n",
    "X_train, X_test, Y_train, Y_test = train_test_split(X, Y, test_size=0.1, random_state=0)\n",
    "print(\"...Terminé.\")\n",
    "print()"
   ],
   "outputs": [
    {
     "name": "stdout",
     "output_type": "stream",
     "text": [
      "Division en jeux d'entraînement et de test...\n",
      "...Terminé.\n",
      "\n"
     ]
    }
   ],
   "execution_count": 50
  },
  {
   "cell_type": "code",
   "metadata": {
    "ExecuteTime": {
     "end_time": "2024-08-10T15:18:45.336943Z",
     "start_time": "2024-08-10T15:18:45.331605Z"
    }
   },
   "source": [
    "# Mettez ici tous les prétraitements\n",
    "print(\"Encodage des caractéristiques catégorielles et normalisation des caractéristiques numériques...\")\n",
    "\n",
    "numeric_features = ['age', 'new_user', 'total_pages_visited']\n",
    "numeric_transformer = Pipeline(steps=[\n",
    "    ('scaler', StandardScaler())\n",
    "])\n",
    "\n",
    "categorical_features = ['country', 'source']\n",
    "categorical_transformer = Pipeline(\n",
    "    steps=[\n",
    "        ('encoder', OneHotEncoder(drop='first'))\n",
    "        # la première colonne sera supprimée pour éviter de créer des corrélations entre les caractéristiques\n",
    "    ])\n",
    "\n",
    "preprocessor = ColumnTransformer(\n",
    "    transformers=[\n",
    "        ('cat', categorical_transformer, categorical_features),\n",
    "        ('num', numeric_transformer, numeric_features)\n",
    "    ]\n",
    ")"
   ],
   "outputs": [
    {
     "name": "stdout",
     "output_type": "stream",
     "text": [
      "Encodage des caractéristiques catégorielles et normalisation des caractéristiques numériques...\n"
     ]
    }
   ],
   "execution_count": 51
  },
  {
   "cell_type": "code",
   "metadata": {
    "ExecuteTime": {
     "end_time": "2024-08-10T15:18:45.651158Z",
     "start_time": "2024-08-10T15:18:45.338477Z"
    }
   },
   "source": [
    "# Prétraitements sur l'ensemble d'entrainement\n",
    "print(\"Réalisation de prétraitements sur l'ensemble d'entraînement...\")\n",
    "print(X_train.head())\n",
    "X_train = preprocessor.fit_transform(X_train)\n",
    "print(\"...Fait.\")\n",
    "print(\n",
    "    X_train[0:5]\n",
    ")  # Il FAUT utiliser cette syntaxe car X_train est désormais un tableau numpy et non plus un DataFrame pandas\n",
    "print()\n",
    "\n",
    "# Prétraitements sur l'ensemble de test\n",
    "print(\"Réalisation de prétraitements sur l'ensemble de test...\")\n",
    "print(X_test.head())\n",
    "X_test = preprocessor.transform(\n",
    "    X_test\n",
    ")  # Ne refaites pas le fit !! L'ensemble de test est utilisé pour valider les décisions\n",
    "# que nous avons prises en fonction de l'ensemble d'entraînement, par conséquent, nous ne pouvons appliquer que des transformations qui ont été paramétrées à l'aide de l'ensemble d'entraînement.\n",
    "# Sinon cela crée ce qu'on appelle une fuite de l'ensemble de test qui introduira un biais dans tous vos résultats.\n",
    "print(\"...Fait.\")\n",
    "print(\n",
    "    X_test[0:5, :]\n",
    ")  # Il FAUT utiliser cette syntaxe car X_test est désormais un tableau numpy et non plus un DataFrame pandas\n",
    "print()"
   ],
   "outputs": [
    {
     "name": "stdout",
     "output_type": "stream",
     "text": [
      "Réalisation de prétraitements sur l'ensemble d'entraînement...\n",
      "       country  age  new_user  source  total_pages_visited\n",
      "206830   China   23         0  Direct                    4\n",
      "238315      US   25         1  Direct                    8\n",
      "255325      US   32         1     Seo                    2\n",
      "106283      US   37         1     Seo                    3\n",
      "46283       UK   24         1  Direct                    4\n",
      "...Fait.\n",
      "[[ 0.          0.          0.          1.          0.         -0.91516278\n",
      "  -1.47729174 -0.26070136]\n",
      " [ 0.          0.          1.          1.          0.         -0.67320988\n",
      "   0.67691437  0.93728655]\n",
      " [ 0.          0.          1.          0.          1.          0.17362526\n",
      "   0.67691437 -0.85969532]\n",
      " [ 0.          0.          1.          0.          1.          0.7785075\n",
      "   0.67691437 -0.56019834]\n",
      " [ 0.          1.          0.          1.          0.         -0.79418633\n",
      "   0.67691437 -0.26070136]]\n",
      "\n",
      "Réalisation de prétraitements sur l'ensemble de test...\n",
      "        country  age  new_user source  total_pages_visited\n",
      "149371       US   20         1    Ads                    7\n",
      "221325       US   31         1    Seo                    5\n",
      "14016        US   28         0    Seo                    4\n",
      "257982  Germany   25         1    Ads                    4\n",
      "59983        US   44         0    Ads                    7\n",
      "...Fait.\n",
      "[[ 0.          0.          1.          0.          0.         -1.27809213\n",
      "   0.67691437  0.63778957]\n",
      " [ 0.          0.          1.          0.          1.          0.05264881\n",
      "   0.67691437  0.03879562]\n",
      " [ 0.          0.          1.          0.          1.         -0.31028053\n",
      "  -1.47729174 -0.26070136]\n",
      " [ 1.          0.          0.          0.          0.         -0.67320988\n",
      "   0.67691437 -0.26070136]\n",
      " [ 0.          0.          1.          0.          0.          1.62534265\n",
      "  -1.47729174  0.63778957]]\n",
      "\n"
     ]
    }
   ],
   "execution_count": 52
  },
  {
   "cell_type": "code",
   "metadata": {
    "ExecuteTime": {
     "end_time": "2024-08-10T15:19:13.040697Z",
     "start_time": "2024-08-10T15:18:45.653371Z"
    }
   },
   "source": [
    "# Effectuer une recherche sur grille\n",
    "print(\"Recherche sur grille...\")\n",
    "classifier = DecisionTreeClassifier()\n",
    "\n",
    "# Grille de valeurs à tester\n",
    "params = {\n",
    "    \"max_depth\": [4, 6, 8, 10],\n",
    "    \"min_samples_leaf\": [1, 2, 5],\n",
    "    \"min_samples_split\": [2, 4, 8],\n",
    "}\n",
    "gridsearch = GridSearchCV(\n",
    "    classifier, param_grid=params, cv=3\n",
    ")  # cv : le nombre de plis à utiliser pour la CV\n",
    "gridsearch.fit(X_train, Y_train)\n",
    "print(\"...Terminé.\")\n",
    "print(\"Meilleurs hyperparamètres : \", gridsearch.best_params_)\n",
    "print(\"Meilleure précision de validation : \", gridsearch.best_score_)"
   ],
   "outputs": [
    {
     "name": "stdout",
     "output_type": "stream",
     "text": [
      "Recherche sur grille...\n",
      "...Terminé.\n",
      "Meilleurs hyperparamètres :  {'max_depth': 8, 'min_samples_leaf': 1, 'min_samples_split': 8}\n",
      "Meilleure précision de validation :  0.9852531215592569\n"
     ]
    }
   ],
   "execution_count": 53
  },
  {
   "cell_type": "code",
   "metadata": {
    "ExecuteTime": {
     "end_time": "2024-08-10T15:19:13.097818Z",
     "start_time": "2024-08-10T15:19:13.042259Z"
    }
   },
   "source": [
    "# Prédictions sur l'ensemble d'apprentissage\n",
    "print(\"Prédictions sur l'ensemble d'entraînement...\")\n",
    "Y_train_pred = gridsearch.predict(X_train)\n",
    "print(\"...Terminé.\")\n",
    "print(Y_train_pred)\n",
    "print()\n",
    "\n",
    "# Il est également possible d'obtenir les probabilités estimées par le modèle :\n",
    "print(\"Probabilités sur l'ensemble d'entraînement...\")\n",
    "Y_train_proba = gridsearch.predict_proba(X_train)\n",
    "print(\"...Terminé.\")\n",
    "print(Y_train_proba)\n",
    "print()"
   ],
   "outputs": [
    {
     "name": "stdout",
     "output_type": "stream",
     "text": [
      "Prédictions sur l'ensemble d'entraînement...\n",
      "...Terminé.\n",
      "[0 0 0 ... 0 0 0]\n",
      "\n",
      "Probabilités sur l'ensemble d'entraînement...\n",
      "...Terminé.\n",
      "[[9.94529707e-01 5.47029327e-03]\n",
      " [9.93225638e-01 6.77436165e-03]\n",
      " [9.99911480e-01 8.85201953e-05]\n",
      " ...\n",
      " [9.97754625e-01 2.24537453e-03]\n",
      " [9.99580461e-01 4.19538508e-04]\n",
      " [9.99911480e-01 8.85201953e-05]]\n",
      "\n"
     ]
    }
   ],
   "execution_count": 54
  },
  {
   "cell_type": "code",
   "metadata": {
    "ExecuteTime": {
     "end_time": "2024-08-10T15:19:13.109954Z",
     "start_time": "2024-08-10T15:19:13.099226Z"
    }
   },
   "source": [
    "# Prédictions sur l'ensemble de test\n",
    "print(\"Prédictions sur l'ensemble de test...\")\n",
    "Y_test_pred = gridsearch.predict(X_test)\n",
    "print(\"...Terminé.\")\n",
    "print(Y_test_pred)\n",
    "print()\n",
    "\n",
    "# Il est également possible d'obtenir les probabilités estimées par le modèle :\n",
    "print(\"Probabilités sur l'ensemble de test...\")\n",
    "Y_test_proba = gridsearch.predict_proba(X_test)\n",
    "print(\"...Terminé.\")\n",
    "print(Y_test_proba)\n",
    "print()"
   ],
   "outputs": [
    {
     "name": "stdout",
     "output_type": "stream",
     "text": [
      "Prédictions sur l'ensemble de test...\n",
      "...Terminé.\n",
      "[0 0 0 ... 0 0 0]\n",
      "\n",
      "Probabilités sur l'ensemble de test...\n",
      "...Terminé.\n",
      "[[9.96674848e-01 3.32515240e-03]\n",
      " [9.99580461e-01 4.19538508e-04]\n",
      " [9.98151868e-01 1.84813178e-03]\n",
      " ...\n",
      " [9.44278011e-01 5.57219892e-02]\n",
      " [9.99883327e-01 1.16672500e-04]\n",
      " [9.99911480e-01 8.85201953e-05]]\n",
      "\n"
     ]
    }
   ],
   "execution_count": 55
  },
  {
   "cell_type": "code",
   "metadata": {
    "ExecuteTime": {
     "end_time": "2024-08-10T15:19:13.253336Z",
     "start_time": "2024-08-10T15:19:13.111650Z"
    }
   },
   "source": [
    "# ATTENTION : Utilisez le même score que celui qui sera utilisé par Kaggle !\n",
    "# Ici, le f1-score sera utilisé pour évaluer les performances sur le classement\n",
    "print(\"f1-score sur l'ensemble d'entraînement : \", f1_score(Y_train, Y_train_pred))\n",
    "print(\"f1-score sur l'ensemble de test : \", f1_score(Y_test, Y_test_pred))"
   ],
   "outputs": [
    {
     "name": "stdout",
     "output_type": "stream",
     "text": [
      "f1-score sur l'ensemble d'entraînement :  0.7629471436198612\n",
      "f1-score sur l'ensemble de test :  0.7592165898617511\n"
     ]
    }
   ],
   "execution_count": 56
  },
  {
   "cell_type": "code",
   "metadata": {
    "ExecuteTime": {
     "end_time": "2024-08-10T15:19:13.322957Z",
     "start_time": "2024-08-10T15:19:13.255553Z"
    }
   },
   "source": [
    "# Vous pouvez également vérifier d'autres indicateurs de performance pour mieux comprendre ce que votre modèle fait\n",
    "print(\"Matrice de confusion sur l'ensemble d'entraînement : \")\n",
    "print(confusion_matrix(Y_train, Y_train_pred))\n",
    "print()\n",
    "print(\"Matrice de confusion sur l'ensemble de test : \")\n",
    "print(confusion_matrix(Y_test, Y_test_pred))\n",
    "print()"
   ],
   "outputs": [
    {
     "name": "stdout",
     "output_type": "stream",
     "text": [
      "Matrice de confusion sur l'ensemble d'entraînement : \n",
      "[[246854   1045]\n",
      " [  2507   5716]]\n",
      "\n",
      "Matrice de confusion sur l'ensemble de test : \n",
      "[[27381   120]\n",
      " [  298   659]]\n",
      "\n"
     ]
    }
   ],
   "execution_count": 57
  },
  {
   "cell_type": "code",
   "metadata": {
    "ExecuteTime": {
     "end_time": "2024-08-10T15:19:13.850545Z",
     "start_time": "2024-08-10T15:19:13.324346Z"
    }
   },
   "source": [
    "# Concaténation de nos ensembles d'entraînement et de test pour former votre meilleur classificateur sur toutes les données avec étiquettes\n",
    "X = np.append(X_train, X_test, axis=0)\n",
    "Y = np.append(Y_train, Y_test)\n",
    "\n",
    "classifier.fit(X, Y)"
   ],
   "outputs": [
    {
     "data": {
      "text/plain": [
       "DecisionTreeClassifier()"
      ],
      "text/html": [
       "<style>#sk-container-id-3 {color: black;}#sk-container-id-3 pre{padding: 0;}#sk-container-id-3 div.sk-toggleable {background-color: white;}#sk-container-id-3 label.sk-toggleable__label {cursor: pointer;display: block;width: 100%;margin-bottom: 0;padding: 0.3em;box-sizing: border-box;text-align: center;}#sk-container-id-3 label.sk-toggleable__label-arrow:before {content: \"▸\";float: left;margin-right: 0.25em;color: #696969;}#sk-container-id-3 label.sk-toggleable__label-arrow:hover:before {color: black;}#sk-container-id-3 div.sk-estimator:hover label.sk-toggleable__label-arrow:before {color: black;}#sk-container-id-3 div.sk-toggleable__content {max-height: 0;max-width: 0;overflow: hidden;text-align: left;background-color: #f0f8ff;}#sk-container-id-3 div.sk-toggleable__content pre {margin: 0.2em;color: black;border-radius: 0.25em;background-color: #f0f8ff;}#sk-container-id-3 input.sk-toggleable__control:checked~div.sk-toggleable__content {max-height: 200px;max-width: 100%;overflow: auto;}#sk-container-id-3 input.sk-toggleable__control:checked~label.sk-toggleable__label-arrow:before {content: \"▾\";}#sk-container-id-3 div.sk-estimator input.sk-toggleable__control:checked~label.sk-toggleable__label {background-color: #d4ebff;}#sk-container-id-3 div.sk-label input.sk-toggleable__control:checked~label.sk-toggleable__label {background-color: #d4ebff;}#sk-container-id-3 input.sk-hidden--visually {border: 0;clip: rect(1px 1px 1px 1px);clip: rect(1px, 1px, 1px, 1px);height: 1px;margin: -1px;overflow: hidden;padding: 0;position: absolute;width: 1px;}#sk-container-id-3 div.sk-estimator {font-family: monospace;background-color: #f0f8ff;border: 1px dotted black;border-radius: 0.25em;box-sizing: border-box;margin-bottom: 0.5em;}#sk-container-id-3 div.sk-estimator:hover {background-color: #d4ebff;}#sk-container-id-3 div.sk-parallel-item::after {content: \"\";width: 100%;border-bottom: 1px solid gray;flex-grow: 1;}#sk-container-id-3 div.sk-label:hover label.sk-toggleable__label {background-color: #d4ebff;}#sk-container-id-3 div.sk-serial::before {content: \"\";position: absolute;border-left: 1px solid gray;box-sizing: border-box;top: 0;bottom: 0;left: 50%;z-index: 0;}#sk-container-id-3 div.sk-serial {display: flex;flex-direction: column;align-items: center;background-color: white;padding-right: 0.2em;padding-left: 0.2em;position: relative;}#sk-container-id-3 div.sk-item {position: relative;z-index: 1;}#sk-container-id-3 div.sk-parallel {display: flex;align-items: stretch;justify-content: center;background-color: white;position: relative;}#sk-container-id-3 div.sk-item::before, #sk-container-id-3 div.sk-parallel-item::before {content: \"\";position: absolute;border-left: 1px solid gray;box-sizing: border-box;top: 0;bottom: 0;left: 50%;z-index: -1;}#sk-container-id-3 div.sk-parallel-item {display: flex;flex-direction: column;z-index: 1;position: relative;background-color: white;}#sk-container-id-3 div.sk-parallel-item:first-child::after {align-self: flex-end;width: 50%;}#sk-container-id-3 div.sk-parallel-item:last-child::after {align-self: flex-start;width: 50%;}#sk-container-id-3 div.sk-parallel-item:only-child::after {width: 0;}#sk-container-id-3 div.sk-dashed-wrapped {border: 1px dashed gray;margin: 0 0.4em 0.5em 0.4em;box-sizing: border-box;padding-bottom: 0.4em;background-color: white;}#sk-container-id-3 div.sk-label label {font-family: monospace;font-weight: bold;display: inline-block;line-height: 1.2em;}#sk-container-id-3 div.sk-label-container {text-align: center;}#sk-container-id-3 div.sk-container {/* jupyter's `normalize.less` sets `[hidden] { display: none; }` but bootstrap.min.css set `[hidden] { display: none !important; }` so we also need the `!important` here to be able to override the default hidden behavior on the sphinx rendered scikit-learn.org. See: https://github.com/scikit-learn/scikit-learn/issues/21755 */display: inline-block !important;position: relative;}#sk-container-id-3 div.sk-text-repr-fallback {display: none;}</style><div id=\"sk-container-id-3\" class=\"sk-top-container\"><div class=\"sk-text-repr-fallback\"><pre>DecisionTreeClassifier()</pre><b>In a Jupyter environment, please rerun this cell to show the HTML representation or trust the notebook. <br />On GitHub, the HTML representation is unable to render, please try loading this page with nbviewer.org.</b></div><div class=\"sk-container\" hidden><div class=\"sk-item\"><div class=\"sk-estimator sk-toggleable\"><input class=\"sk-toggleable__control sk-hidden--visually\" id=\"sk-estimator-id-3\" type=\"checkbox\" checked><label for=\"sk-estimator-id-3\" class=\"sk-toggleable__label sk-toggleable__label-arrow\">DecisionTreeClassifier</label><div class=\"sk-toggleable__content\"><pre>DecisionTreeClassifier()</pre></div></div></div></div></div>"
      ]
     },
     "execution_count": 58,
     "metadata": {},
     "output_type": "execute_result"
    }
   ],
   "execution_count": 58
  },
  {
   "cell_type": "code",
   "metadata": {
    "ExecuteTime": {
     "end_time": "2024-08-10T15:19:14.878878Z",
     "start_time": "2024-08-10T15:19:13.851903Z"
    }
   },
   "source": [
    "# ATTENTION : METTEZ ICI LE MÊME PRÉTRAITEMENT QUE POUR VOTRE ENSEMBLE DE TEST\n",
    "# VÉRIFIEZ QUE VOUS UTILISEZ X_without_labels\n",
    "print(\"Encodage des caractéristiques catégorielles et normalisation des caractéristiques numériques...\")\n",
    "\n",
    "X_without_labels = preprocessor.transform(X_without_labels)\n",
    "print(\"...Terminé\")\n",
    "print(X_without_labels[0:5])"
   ],
   "outputs": [
    {
     "name": "stdout",
     "output_type": "stream",
     "text": [
      "Encodage des caractéristiques catégorielles et normalisation des caractéristiques numériques...\n"
     ]
    },
    {
     "ename": "ValueError",
     "evalue": "X has 8 features, but ColumnTransformer is expecting 5 features as input.",
     "output_type": "error",
     "traceback": [
      "\u001B[0;31m---------------------------------------------------------------------------\u001B[0m",
      "\u001B[0;31mValueError\u001B[0m                                Traceback (most recent call last)",
      "Cell \u001B[0;32mIn[59], line 5\u001B[0m\n\u001B[1;32m      1\u001B[0m \u001B[38;5;66;03m# ATTENTION : METTEZ ICI LE MÊME PRÉTRAITEMENT QUE POUR VOTRE ENSEMBLE DE TEST\u001B[39;00m\n\u001B[1;32m      2\u001B[0m \u001B[38;5;66;03m# VÉRIFIEZ QUE VOUS UTILISEZ X_without_labels\u001B[39;00m\n\u001B[1;32m      3\u001B[0m \u001B[38;5;28mprint\u001B[39m(\u001B[38;5;124m\"\u001B[39m\u001B[38;5;124mEncodage des caractéristiques catégorielles et normalisation des caractéristiques numériques...\u001B[39m\u001B[38;5;124m\"\u001B[39m)\n\u001B[0;32m----> 5\u001B[0m X_without_labels \u001B[38;5;241m=\u001B[39m preprocessor\u001B[38;5;241m.\u001B[39mtransform(X_without_labels)\n\u001B[1;32m      6\u001B[0m \u001B[38;5;28mprint\u001B[39m(\u001B[38;5;124m\"\u001B[39m\u001B[38;5;124m...Terminé\u001B[39m\u001B[38;5;124m\"\u001B[39m)\n\u001B[1;32m      7\u001B[0m \u001B[38;5;28mprint\u001B[39m(X_without_labels[\u001B[38;5;241m0\u001B[39m:\u001B[38;5;241m5\u001B[39m])\n",
      "File \u001B[0;32m~/anaconda3/lib/python3.11/site-packages/sklearn/utils/_set_output.py:140\u001B[0m, in \u001B[0;36m_wrap_method_output.<locals>.wrapped\u001B[0;34m(self, X, *args, **kwargs)\u001B[0m\n\u001B[1;32m    138\u001B[0m \u001B[38;5;129m@wraps\u001B[39m(f)\n\u001B[1;32m    139\u001B[0m \u001B[38;5;28;01mdef\u001B[39;00m \u001B[38;5;21mwrapped\u001B[39m(\u001B[38;5;28mself\u001B[39m, X, \u001B[38;5;241m*\u001B[39margs, \u001B[38;5;241m*\u001B[39m\u001B[38;5;241m*\u001B[39mkwargs):\n\u001B[0;32m--> 140\u001B[0m     data_to_wrap \u001B[38;5;241m=\u001B[39m f(\u001B[38;5;28mself\u001B[39m, X, \u001B[38;5;241m*\u001B[39margs, \u001B[38;5;241m*\u001B[39m\u001B[38;5;241m*\u001B[39mkwargs)\n\u001B[1;32m    141\u001B[0m     \u001B[38;5;28;01mif\u001B[39;00m \u001B[38;5;28misinstance\u001B[39m(data_to_wrap, \u001B[38;5;28mtuple\u001B[39m):\n\u001B[1;32m    142\u001B[0m         \u001B[38;5;66;03m# only wrap the first output for cross decomposition\u001B[39;00m\n\u001B[1;32m    143\u001B[0m         return_tuple \u001B[38;5;241m=\u001B[39m (\n\u001B[1;32m    144\u001B[0m             _wrap_data_with_container(method, data_to_wrap[\u001B[38;5;241m0\u001B[39m], X, \u001B[38;5;28mself\u001B[39m),\n\u001B[1;32m    145\u001B[0m             \u001B[38;5;241m*\u001B[39mdata_to_wrap[\u001B[38;5;241m1\u001B[39m:],\n\u001B[1;32m    146\u001B[0m         )\n",
      "File \u001B[0;32m~/anaconda3/lib/python3.11/site-packages/sklearn/compose/_column_transformer.py:814\u001B[0m, in \u001B[0;36mColumnTransformer.transform\u001B[0;34m(self, X)\u001B[0m\n\u001B[1;32m    810\u001B[0m         \u001B[38;5;28;01mraise\u001B[39;00m \u001B[38;5;167;01mValueError\u001B[39;00m(\u001B[38;5;124mf\u001B[39m\u001B[38;5;124m\"\u001B[39m\u001B[38;5;124mcolumns are missing: \u001B[39m\u001B[38;5;132;01m{\u001B[39;00mdiff\u001B[38;5;132;01m}\u001B[39;00m\u001B[38;5;124m\"\u001B[39m)\n\u001B[1;32m    811\u001B[0m \u001B[38;5;28;01melse\u001B[39;00m:\n\u001B[1;32m    812\u001B[0m     \u001B[38;5;66;03m# ndarray was used for fitting or transforming, thus we only\u001B[39;00m\n\u001B[1;32m    813\u001B[0m     \u001B[38;5;66;03m# check that n_features_in_ is consistent\u001B[39;00m\n\u001B[0;32m--> 814\u001B[0m     \u001B[38;5;28mself\u001B[39m\u001B[38;5;241m.\u001B[39m_check_n_features(X, reset\u001B[38;5;241m=\u001B[39m\u001B[38;5;28;01mFalse\u001B[39;00m)\n\u001B[1;32m    816\u001B[0m Xs \u001B[38;5;241m=\u001B[39m \u001B[38;5;28mself\u001B[39m\u001B[38;5;241m.\u001B[39m_fit_transform(\n\u001B[1;32m    817\u001B[0m     X,\n\u001B[1;32m    818\u001B[0m     \u001B[38;5;28;01mNone\u001B[39;00m,\n\u001B[0;32m   (...)\u001B[0m\n\u001B[1;32m    821\u001B[0m     column_as_strings\u001B[38;5;241m=\u001B[39mfit_dataframe_and_transform_dataframe,\n\u001B[1;32m    822\u001B[0m )\n\u001B[1;32m    823\u001B[0m \u001B[38;5;28mself\u001B[39m\u001B[38;5;241m.\u001B[39m_validate_output(Xs)\n",
      "File \u001B[0;32m~/anaconda3/lib/python3.11/site-packages/sklearn/base.py:414\u001B[0m, in \u001B[0;36mBaseEstimator._check_n_features\u001B[0;34m(self, X, reset)\u001B[0m\n\u001B[1;32m    411\u001B[0m     \u001B[38;5;28;01mreturn\u001B[39;00m\n\u001B[1;32m    413\u001B[0m \u001B[38;5;28;01mif\u001B[39;00m n_features \u001B[38;5;241m!=\u001B[39m \u001B[38;5;28mself\u001B[39m\u001B[38;5;241m.\u001B[39mn_features_in_:\n\u001B[0;32m--> 414\u001B[0m     \u001B[38;5;28;01mraise\u001B[39;00m \u001B[38;5;167;01mValueError\u001B[39;00m(\n\u001B[1;32m    415\u001B[0m         \u001B[38;5;124mf\u001B[39m\u001B[38;5;124m\"\u001B[39m\u001B[38;5;124mX has \u001B[39m\u001B[38;5;132;01m{\u001B[39;00mn_features\u001B[38;5;132;01m}\u001B[39;00m\u001B[38;5;124m features, but \u001B[39m\u001B[38;5;132;01m{\u001B[39;00m\u001B[38;5;28mself\u001B[39m\u001B[38;5;241m.\u001B[39m\u001B[38;5;18m__class__\u001B[39m\u001B[38;5;241m.\u001B[39m\u001B[38;5;18m__name__\u001B[39m\u001B[38;5;132;01m}\u001B[39;00m\u001B[38;5;124m \u001B[39m\u001B[38;5;124m\"\u001B[39m\n\u001B[1;32m    416\u001B[0m         \u001B[38;5;124mf\u001B[39m\u001B[38;5;124m\"\u001B[39m\u001B[38;5;124mis expecting \u001B[39m\u001B[38;5;132;01m{\u001B[39;00m\u001B[38;5;28mself\u001B[39m\u001B[38;5;241m.\u001B[39mn_features_in_\u001B[38;5;132;01m}\u001B[39;00m\u001B[38;5;124m features as input.\u001B[39m\u001B[38;5;124m\"\u001B[39m\n\u001B[1;32m    417\u001B[0m     )\n",
      "\u001B[0;31mValueError\u001B[0m: X has 8 features, but ColumnTransformer is expecting 5 features as input."
     ]
    }
   ],
   "execution_count": 59
  },
  {
   "cell_type": "code",
   "metadata": {
    "ExecuteTime": {
     "end_time": "2024-08-10T15:23:15.275128Z",
     "start_time": "2024-08-10T15:23:15.245939Z"
    }
   },
   "source": [
    "# Faire des prédictions et les exporter vers un fichier\n",
    "# ATTENTION : ASSUREZ-VOUS QUE LE FICHIER EST UN CSV AVEC UNE SEULE COLONNE NOMMÉE 'converted' ET SANS INDEX !\n",
    "# ATTENTION : LE NOM DU FICHIER DOIT AVOIR LE FORMAT 'conversion_data_test_predictions_[nom].csv'\n",
    "# où [nom] est le nom de votre équipe/modèle séparé par un '-'\n",
    "# Par exemple : [nom] = MELCHIOR-model1\n",
    "data = {\n",
    "    'converted': classifier.predict(X_without_labels)\n",
    "}\n",
    "\n",
    "Y_predictions = pd.DataFrame(columns=['converted'], data=data)\n",
    "Y_predictions.to_csv('conversion_data_test_predictions_melchior-model2.csv', index=False)"
   ],
   "outputs": [],
   "execution_count": 61
  },
  {
   "cell_type": "markdown",
   "metadata": {},
   "source": "# Classifier les sacs avec un estimateur de régression logistique"
  },
  {
   "cell_type": "code",
   "metadata": {
    "ExecuteTime": {
     "end_time": "2024-08-10T15:23:16.301641Z",
     "start_time": "2024-08-10T15:23:16.154152Z"
    }
   },
   "source": [
    "data = pd.read_csv('conversion_data_train.csv')\n",
    "print('Set with labels (our train+test) :', data.shape)"
   ],
   "outputs": [
    {
     "name": "stdout",
     "output_type": "stream",
     "text": [
      "Set with labels (our train+test) : (284580, 6)\n"
     ]
    }
   ],
   "execution_count": 62
  },
  {
   "cell_type": "code",
   "metadata": {
    "ExecuteTime": {
     "end_time": "2024-08-10T15:23:16.687235Z",
     "start_time": "2024-08-10T15:23:16.674466Z"
    }
   },
   "source": [
    "# L'ensemble de données est assez grand : vous devez créer un échantillon de l'ensemble de données avant de faire des visualisations !\n",
    "data_sample = data.sample(10000)"
   ],
   "outputs": [],
   "execution_count": 63
  },
  {
   "cell_type": "code",
   "metadata": {
    "ExecuteTime": {
     "end_time": "2024-08-10T15:23:17.142655Z",
     "start_time": "2024-08-10T15:23:17.139668Z"
    }
   },
   "source": [
    "features_list = ['country','age','new_user','source','total_pages_visited']\n",
    "target_variable = 'converted'"
   ],
   "outputs": [],
   "execution_count": 64
  },
  {
   "cell_type": "code",
   "metadata": {
    "ExecuteTime": {
     "end_time": "2024-08-10T15:23:17.542795Z",
     "start_time": "2024-08-10T15:23:17.529729Z"
    }
   },
   "source": [
    "X = data.loc[:, features_list]\n",
    "Y = data.loc[:, target_variable]\n",
    "\n",
    "print('Variables explicatives : ', X.columns)\n",
    "print()"
   ],
   "outputs": [
    {
     "name": "stdout",
     "output_type": "stream",
     "text": [
      "Variables explicatives :  Index(['country', 'age', 'new_user', 'source', 'total_pages_visited'], dtype='object')\n",
      "\n"
     ]
    }
   ],
   "execution_count": 65
  },
  {
   "cell_type": "code",
   "metadata": {
    "ExecuteTime": {
     "end_time": "2024-08-10T15:23:18.073413Z",
     "start_time": "2024-08-10T15:23:18.036811Z"
    }
   },
   "source": [
    "# Diviser le jeu de données en jeu d'entraînement et jeu de test\n",
    "print(\"Division en ensembles d'apprentissage et de test...\")\n",
    "X_train, X_test, Y_train, Y_test = train_test_split(X, Y, test_size=0.1, random_state=0)\n",
    "print(\"...Terminé.\")\n",
    "print()"
   ],
   "outputs": [
    {
     "name": "stdout",
     "output_type": "stream",
     "text": [
      "Division en ensembles d'apprentissage et de test...\n",
      "...Terminé.\n",
      "\n"
     ]
    }
   ],
   "execution_count": 66
  },
  {
   "cell_type": "code",
   "metadata": {
    "ExecuteTime": {
     "end_time": "2024-08-10T15:23:18.342554Z",
     "start_time": "2024-08-10T15:23:18.336164Z"
    }
   },
   "source": [
    "# Mettez ici tous les prétraitements\n",
    "print(\"Encodage des caractéristiques catégorielles et standardisation des caractéristiques numériques...\")\n",
    "\n",
    "numeric_features = ['age', 'new_user', 'total_pages_visited']\n",
    "numeric_transformer = Pipeline(steps=[\n",
    "    ('scaler', StandardScaler())\n",
    "])\n",
    "\n",
    "categorical_features = ['country', 'source']\n",
    "categorical_transformer = Pipeline(\n",
    "    steps=[\n",
    "        ('encoder', OneHotEncoder(drop='first'))\n",
    "        # la première colonne sera supprimée pour éviter de créer des corrélations entre les caractéristiques\n",
    "    ])\n",
    "\n",
    "preprocessor = ColumnTransformer(\n",
    "    transformers=[\n",
    "        ('cat', categorical_transformer, categorical_features),\n",
    "        ('num', numeric_transformer, numeric_features)\n",
    "    ]\n",
    ")"
   ],
   "outputs": [
    {
     "name": "stdout",
     "output_type": "stream",
     "text": [
      "Encodage des caractéristiques catégorielles et standardisation des caractéristiques numériques...\n"
     ]
    }
   ],
   "execution_count": 67
  },
  {
   "cell_type": "code",
   "metadata": {
    "ExecuteTime": {
     "end_time": "2024-08-10T15:23:19.289892Z",
     "start_time": "2024-08-10T15:23:18.968209Z"
    }
   },
   "source": [
    "# Prétraitements sur l'ensemble d'entraînement\n",
    "print(\"Effectuer les prétraitements sur l'ensemble d'entraînement...\")\n",
    "print(X_train.head())\n",
    "X_train = preprocessor.fit_transform(X_train)\n",
    "print(\"...Terminé.\")\n",
    "print(\n",
    "    X_train[0:5]\n",
    ")  # Vous DEVEZ utiliser cette syntaxe parce que X_train est maintenant un tableau numpy et non plus un DataFrame pandas\n",
    "print()\n",
    "\n",
    "# Prétraitements sur l'ensemble de test\n",
    "print(\"Effectuer les prétraitements sur l'ensemble de test...\")\n",
    "print(X_test.head())\n",
    "X_test = preprocessor.transform(\n",
    "    X_test\n",
    ")  # Ne pas ajuster à nouveau !! L'ensemble de test est utilisé pour valider les décisions\n",
    "# que nous avons prises sur la base de l'ensemble d'entraînement, donc nous ne pouvons appliquer que des transformations qui ont été paramétrées en utilisant l'ensemble d'entraînement.\n",
    "# Sinon, cela crée ce que l'on appelle une fuite de l'ensemble de test qui introduira un biais dans tous vos résultats.\n",
    "print(\"...Terminé.\")\n",
    "print(\n",
    "    X_test[0:5, :]\n",
    ")  # Vous DEVEZ utiliser cette syntaxe parce que X_test est maintenant un tableau numpy et non plus un DataFrame pandas\n",
    "print()"
   ],
   "outputs": [
    {
     "name": "stdout",
     "output_type": "stream",
     "text": [
      "Effectuer les prétraitements sur l'ensemble d'entraînement...\n",
      "       country  age  new_user  source  total_pages_visited\n",
      "206830   China   23         0  Direct                    4\n",
      "238315      US   25         1  Direct                    8\n",
      "255325      US   32         1     Seo                    2\n",
      "106283      US   37         1     Seo                    3\n",
      "46283       UK   24         1  Direct                    4\n",
      "...Terminé.\n",
      "[[ 0.          0.          0.          1.          0.         -0.91516278\n",
      "  -1.47729174 -0.26070136]\n",
      " [ 0.          0.          1.          1.          0.         -0.67320988\n",
      "   0.67691437  0.93728655]\n",
      " [ 0.          0.          1.          0.          1.          0.17362526\n",
      "   0.67691437 -0.85969532]\n",
      " [ 0.          0.          1.          0.          1.          0.7785075\n",
      "   0.67691437 -0.56019834]\n",
      " [ 0.          1.          0.          1.          0.         -0.79418633\n",
      "   0.67691437 -0.26070136]]\n",
      "\n",
      "Effectuer les prétraitements sur l'ensemble de test...\n",
      "        country  age  new_user source  total_pages_visited\n",
      "149371       US   20         1    Ads                    7\n",
      "221325       US   31         1    Seo                    5\n",
      "14016        US   28         0    Seo                    4\n",
      "257982  Germany   25         1    Ads                    4\n",
      "59983        US   44         0    Ads                    7\n",
      "...Terminé.\n",
      "[[ 0.          0.          1.          0.          0.         -1.27809213\n",
      "   0.67691437  0.63778957]\n",
      " [ 0.          0.          1.          0.          1.          0.05264881\n",
      "   0.67691437  0.03879562]\n",
      " [ 0.          0.          1.          0.          1.         -0.31028053\n",
      "  -1.47729174 -0.26070136]\n",
      " [ 1.          0.          0.          0.          0.         -0.67320988\n",
      "   0.67691437 -0.26070136]\n",
      " [ 0.          0.          1.          0.          0.          1.62534265\n",
      "  -1.47729174  0.63778957]]\n",
      "\n"
     ]
    }
   ],
   "execution_count": 68
  },
  {
   "cell_type": "code",
   "metadata": {
    "ExecuteTime": {
     "end_time": "2024-08-10T15:27:24.718270Z",
     "start_time": "2024-08-10T15:23:19.299955Z"
    }
   },
   "source": [
    "# Effectuer la recherche de grille\n",
    "print(\"Recherche de grille...\")\n",
    "regression_logistique = LogisticRegression(\n",
    "    max_iter=1000\n",
    ")  # max_iter modifié à cause de l'avertissement de convergence\n",
    "classificateur = BaggingClassifier(estimator=regression_logistique)\n",
    "\n",
    "# Grille de valeurs à tester\n",
    "params = {\n",
    "    \"estimator__C\": [\n",
    "        0.01,\n",
    "        0.05,\n",
    "        0.1,\n",
    "        0.5,\n",
    "    ],  # préfixe base_estimator__ parce que C est un paramètre de la régression logistique!\n",
    "    \"n_estimators\": [\n",
    "        5,\n",
    "        10,\n",
    "        20,\n",
    "        30,\n",
    "    ],  # n_estimators est un hyperparamètre de la méthode d'ensemble\n",
    "}\n",
    "print(params)\n",
    "gridsearch = GridSearchCV(\n",
    "    classificateur, param_grid=params, cv=3\n",
    ")  # cv : le nombre de folds à utiliser pour la validation croisée\n",
    "gridsearch.fit(X_train, Y_train)\n",
    "print(\"...Terminé.\")\n",
    "print(\"Meilleurs hyperparamètres : \", gridsearch.best_params_)\n",
    "print(\"Meilleure précision de validation : \", gridsearch.best_score_)\n",
    "print()\n",
    "print(\"Précision sur l'ensemble d'entraînement : \", gridsearch.score(X_train, Y_train))\n",
    "print(\"Précision sur l'ensemble de test : \", gridsearch.score(X_test, Y_test))"
   ],
   "outputs": [
    {
     "name": "stdout",
     "output_type": "stream",
     "text": [
      "Recherche de grille...\n",
      "{'estimator__C': [0.01, 0.05, 0.1, 0.5], 'n_estimators': [5, 10, 20, 30]}\n",
      "...Terminé.\n",
      "Meilleurs hyperparamètres :  {'estimator__C': 0.5, 'n_estimators': 10}\n",
      "Meilleure précision de validation :  0.9863385417886787\n",
      "\n",
      "Précision sur l'ensemble d'entraînement :  0.9863112110634775\n",
      "Précision sur l'ensemble de test :  0.9852765478951437\n"
     ]
    }
   ],
   "execution_count": 69
  },
  {
   "cell_type": "code",
   "metadata": {
    "ExecuteTime": {
     "end_time": "2024-08-10T15:27:25.133233Z",
     "start_time": "2024-08-10T15:27:24.721388Z"
    }
   },
   "source": [
    "# Prédictions sur l'ensemble d'entraînement \n",
    "print(\"Prédictions sur l'ensemble d'entraînement ...\")\n",
    "Y_train_pred = gridsearch.predict(X_train)\n",
    "print(\"...Terminé.\")\n",
    "print(Y_train_pred)\n",
    "print()\n",
    "\n",
    "# Il est également possible d'obtenir les probabilités estimées par le modèle :\n",
    "print(\"Probabilités sur l'ensemble d'entraînement ...\")\n",
    "Y_train_proba = gridsearch.predict_proba(X_train)\n",
    "print(\"...Terminé.\")\n",
    "print(Y_train_proba)\n",
    "print()"
   ],
   "outputs": [
    {
     "name": "stdout",
     "output_type": "stream",
     "text": [
      "Prédictions sur l'ensemble d'entraînement ...\n",
      "...Terminé.\n",
      "[0 0 0 ... 0 0 0]\n",
      "\n",
      "Probabilités sur l'ensemble d'entraînement ...\n",
      "...Terminé.\n",
      "[[9.99866294e-01 1.33705741e-04]\n",
      " [9.92010100e-01 7.98989976e-03]\n",
      " [9.99936136e-01 6.38644533e-05]\n",
      " ...\n",
      " [9.98389947e-01 1.61005306e-03]\n",
      " [9.98554964e-01 1.44503590e-03]\n",
      " [9.99883741e-01 1.16259093e-04]]\n",
      "\n"
     ]
    }
   ],
   "execution_count": 70
  },
  {
   "cell_type": "code",
   "metadata": {
    "ExecuteTime": {
     "end_time": "2024-08-10T15:27:25.170709Z",
     "start_time": "2024-08-10T15:27:25.135115Z"
    }
   },
   "source": [
    "# Prédictions sur l'ensemble de test\n",
    "print(\"Prédictions sur l'ensemble de test...\")\n",
    "Y_test_pred = gridsearch.predict(X_test)\n",
    "print(\"...Terminé.\")\n",
    "print(Y_test_pred)\n",
    "print()\n",
    "\n",
    "# Il est également possible d'obtenir les probabilités estimées par le modèle :\n",
    "print(\"Probabilités sur l'ensemble de test...\")\n",
    "Y_test_proba = gridsearch.predict_proba(X_test)\n",
    "print(\"...Terminé.\")\n",
    "print(Y_test_proba)\n",
    "print()"
   ],
   "outputs": [
    {
     "name": "stdout",
     "output_type": "stream",
     "text": [
      "Prédictions sur l'ensemble de test...\n",
      "...Terminé.\n",
      "[0 0 0 ... 0 0 0]\n",
      "\n",
      "Probabilités sur l'ensemble de test...\n",
      "...Terminé.\n",
      "[[9.93373480e-01 6.62651974e-03]\n",
      " [9.99340768e-01 6.59232233e-04]\n",
      " [9.97774783e-01 2.22521655e-03]\n",
      " ...\n",
      " [9.76352409e-01 2.36475909e-02]\n",
      " [9.99777331e-01 2.22668566e-04]\n",
      " [9.99723561e-01 2.76438630e-04]]\n",
      "\n"
     ]
    }
   ],
   "execution_count": 71
  },
  {
   "cell_type": "code",
   "metadata": {
    "ExecuteTime": {
     "end_time": "2024-08-10T15:27:25.321687Z",
     "start_time": "2024-08-10T15:27:25.174794Z"
    }
   },
   "source": [
    "# AVERTISSEMENT : Utilisez le même score que celui qui sera utilisé par Kaggle !\n",
    "# Ici, le score f1 sera utilisé pour évaluer les performances sur le classement\n",
    "print(\"Score f1 sur l'ensemble d'entraînement : \", f1_score(Y_train, Y_train_pred))\n",
    "print(\"Score f1 sur l'ensemble de test : \", f1_score(Y_test, Y_test_pred))"
   ],
   "outputs": [
    {
     "name": "stdout",
     "output_type": "stream",
     "text": [
      "Score f1 sur l'ensemble d'entraînement :  0.7636829334052306\n",
      "Score f1 sur l'ensemble de test :  0.7548273844353424\n"
     ]
    }
   ],
   "execution_count": 72
  },
  {
   "cell_type": "code",
   "metadata": {
    "ExecuteTime": {
     "end_time": "2024-08-10T15:27:25.388673Z",
     "start_time": "2024-08-10T15:27:25.323651Z"
    }
   },
   "source": [
    "# Vous pouvez également vérifier d'autres métriques de performance pour mieux comprendre ce que fait votre modèle\n",
    "print(\"Matrice de confusion sur l'ensemble d'entraînement : \")\n",
    "print(confusion_matrix(Y_train, Y_train_pred))\n",
    "print()\n",
    "print(\"Matrice de confusion sur l'ensemble de test : \")\n",
    "print(confusion_matrix(Y_test, Y_test_pred))\n",
    "print()"
   ],
   "outputs": [
    {
     "name": "stdout",
     "output_type": "stream",
     "text": [
      "Matrice de confusion sur l'ensemble d'entraînement : \n",
      "[[246951    948]\n",
      " [  2558   5665]]\n",
      "\n",
      "Matrice de confusion sur l'ensemble de test : \n",
      "[[27394   107]\n",
      " [  312   645]]\n",
      "\n"
     ]
    }
   ],
   "execution_count": 73
  },
  {
   "cell_type": "code",
   "metadata": {
    "ExecuteTime": {
     "end_time": "2024-08-10T15:27:25.454570Z",
     "start_time": "2024-08-10T15:27:25.390016Z"
    }
   },
   "source": [
    "# Vous pouvez également vérifier d'autres métriques de performance pour mieux comprendre ce que fait votre modèle\n",
    "print(\"Matrice de confusion sur l'ensemble d'entraînement : \")\n",
    "print(confusion_matrix(Y_train, Y_train_pred))\n",
    "print()\n",
    "print(\"Matrice de confusion sur l'ensemble de test : \")\n",
    "print(confusion_matrix(Y_test, Y_test_pred))\n",
    "print()"
   ],
   "outputs": [
    {
     "name": "stdout",
     "output_type": "stream",
     "text": [
      "Matrice de confusion sur l'ensemble d'entraînement : \n",
      "[[246951    948]\n",
      " [  2558   5665]]\n",
      "\n",
      "Matrice de confusion sur l'ensemble de test : \n",
      "[[27394   107]\n",
      " [  312   645]]\n",
      "\n"
     ]
    }
   ],
   "execution_count": 74
  },
  {
   "cell_type": "code",
   "metadata": {
    "ExecuteTime": {
     "end_time": "2024-08-10T15:27:25.482232Z",
     "start_time": "2024-08-10T15:27:25.456292Z"
    }
   },
   "source": [
    "# Lire les données sans les étiquettes\n",
    "data_without_labels = pd.read_csv('conversion_data_test.csv')\n",
    "print('Ensemble de prédiction (sans étiquettes) :', data_without_labels.shape)\n",
    "\n",
    "# Attention : vérifiez la cohérence de la liste des caractéristiques (doit être la même que celle utilisée \n",
    "# par votre meilleur classificateur)\n",
    "features_list = ['country', 'age', 'new_user', 'source', 'total_pages_visited']\n",
    "X_without_labels = data_without_labels.loc[:, features_list]\n",
    "\n",
    "# Convertir les DataFrames pandas en tableaux numpy avant d'utiliser scikit-learn\n",
    "print(\"Conversion des DataFrames pandas en tableaux numpy...\")\n",
    "# X_without_labels = X_without_labels.values\n",
    "print(\"...Terminée\")\n",
    "\n",
    "print(X_without_labels[0:5])"
   ],
   "outputs": [
    {
     "name": "stdout",
     "output_type": "stream",
     "text": [
      "Ensemble de prédiction (sans étiquettes) : (31620, 5)\n",
      "Conversion des DataFrames pandas en tableaux numpy...\n",
      "...Terminée\n",
      "  country  age  new_user  source  total_pages_visited\n",
      "0      UK   28         0     Seo                   16\n",
      "1      UK   22         1  Direct                    5\n",
      "2   China   32         1     Seo                    1\n",
      "3      US   32         1     Ads                    6\n",
      "4   China   25         0     Seo                    3\n"
     ]
    }
   ],
   "execution_count": 75
  },
  {
   "cell_type": "code",
   "metadata": {
    "ExecuteTime": {
     "end_time": "2024-08-10T15:27:25.521097Z",
     "start_time": "2024-08-10T15:27:25.484474Z"
    }
   },
   "source": [
    "# AVERTISSEMENT : METTEZ ICI LE MÊME PRÉTRAITEMENT QUE POUR VOTRE ENSEMBLE DE TEST\n",
    "# VÉRIFIEZ QUE VOUS UTILISEZ X_without_labels\n",
    "print(\"Encodage des caractéristiques catégorielles et standardisation des caractéristiques numériques...\")\n",
    "\n",
    "X_without_labels = preprocessor.transform(X_without_labels)\n",
    "print(\"...Terminé\")\n",
    "print(X_without_labels[0:5])"
   ],
   "outputs": [
    {
     "name": "stdout",
     "output_type": "stream",
     "text": [
      "Encodage des caractéristiques catégorielles et standardisation des caractéristiques numériques...\n",
      "...Terminé\n",
      "[[ 0.          1.          0.          0.          1.         -0.31028053\n",
      "  -1.47729174  3.33326238]\n",
      " [ 0.          1.          0.          1.          0.         -1.03613923\n",
      "   0.67691437  0.03879562]\n",
      " [ 0.          0.          0.          0.          1.          0.17362526\n",
      "   0.67691437 -1.15919229]\n",
      " [ 0.          0.          1.          0.          0.          0.17362526\n",
      "   0.67691437  0.3382926 ]\n",
      " [ 0.          0.          0.          0.          1.         -0.67320988\n",
      "  -1.47729174 -0.56019834]]\n"
     ]
    }
   ],
   "execution_count": 76
  },
  {
   "cell_type": "code",
   "metadata": {
    "ExecuteTime": {
     "end_time": "2024-08-10T15:27:25.550023Z",
     "start_time": "2024-08-10T15:27:25.523032Z"
    }
   },
   "source": [
    "# Faire des prédictions et les exporter vers un fichier\n",
    "# ATTENTION : ASSUREZ-VOUS QUE LE FICHIER EST UN CSV AVEC UNE COLONNE NOMMÉE 'converted' ET SANS INDICE !\n",
    "# ATTENTION : LE NOM DU FICHIER DOIT AVOIR LE FORMAT 'conversion_data_test_predictions_[nom].csv'\n",
    "# où [nom] est le nom de votre équipe/modèle séparé par un '-'\n",
    "# Par exemple : [nom] = MELCHIOR-model1\n",
    "data = {\n",
    "    'converted': classifier.predict(X_without_labels)\n",
    "}\n",
    "\n",
    "Y_predictions = pd.DataFrame(columns=['converted'], data=data)\n",
    "Y_predictions.to_csv('conversion_data_test_predictions_melchior-model3.csv', index=False)"
   ],
   "outputs": [],
   "execution_count": 77
  },
  {
   "cell_type": "markdown",
   "metadata": {},
   "source": "# Bagging avec l'estimateur de l'arbre de décision"
  },
  {
   "metadata": {
    "ExecuteTime": {
     "end_time": "2024-08-10T15:27:25.578749Z",
     "start_time": "2024-08-10T15:27:25.554896Z"
    }
   },
   "cell_type": "code",
   "source": [
    "# Lire les données sans les étiquettes\n",
    "data_without_labels = pd.read_csv('conversion_data_test.csv')\n",
    "print('Ensemble de prédiction (sans étiquettes) :', data_without_labels.shape)\n",
    "\n",
    "# Attention : vérifiez la cohérence de features_list (doit être la même que celle utilisée \n",
    "# par votre meilleur classificateur)\n",
    "features_list = ['country', 'age', 'new_user', 'source', 'total_pages_visited']\n",
    "X_without_labels = data_without_labels.loc[:, features_list]\n",
    "\n",
    "# Convertir les DataFrames pandas en tableaux numpy avant d'utiliser scikit-learn\n",
    "print(\"Conversion des DataFrames pandas en tableaux numpy...\")\n",
    "# X_without_labels = X_without_labels.values\n",
    "print(\"...Terminé\")\n",
    "\n",
    "print(X_without_labels[0:5])"
   ],
   "outputs": [
    {
     "name": "stdout",
     "output_type": "stream",
     "text": [
      "Ensemble de prédiction (sans étiquettes) : (31620, 5)\n",
      "Conversion des DataFrames pandas en tableaux numpy...\n",
      "...Terminé\n",
      "  country  age  new_user  source  total_pages_visited\n",
      "0      UK   28         0     Seo                   16\n",
      "1      UK   22         1  Direct                    5\n",
      "2   China   32         1     Seo                    1\n",
      "3      US   32         1     Ads                    6\n",
      "4   China   25         0     Seo                    3\n"
     ]
    }
   ],
   "execution_count": 78
  },
  {
   "cell_type": "code",
   "metadata": {
    "ExecuteTime": {
     "end_time": "2024-08-10T15:30:10.721117Z",
     "start_time": "2024-08-10T15:27:25.580457Z"
    }
   },
   "source": [
    "# Effectuer une recherche sur grille\n",
    "print(\"Recherche sur grille...\")\n",
    "decision_tree = DecisionTreeClassifier()\n",
    "classifier = BaggingClassifier(estimator=decision_tree)\n",
    "\n",
    "# Grille de valeurs à tester\n",
    "params = {\n",
    "    \"estimator__max_depth\": [1, 2, 3],\n",
    "    \"estimator__min_samples_leaf\": [1, 2, 3],\n",
    "    \"estimator__min_samples_split\": [2, 3, 4],\n",
    "    \"n_estimators\": [2, 4, 6, 8, 10],\n",
    "}\n",
    "print(params)\n",
    "gridsearch = GridSearchCV(\n",
    "    classifier, param_grid=params, cv=3\n",
    ")  # cv : le nombre de plis à utiliser pour CV\n",
    "gridsearch.fit(X_train, Y_train)\n",
    "print(\"...Terminé.\")\n",
    "print(\"Meilleurs hyperparamètres : \", gridsearch.best_params_)\n",
    "print(\"Meilleure précision de validation : \", gridsearch.best_score_)\n",
    "print()\n",
    "print(\"Précision sur l'ensemble d'entraînement : \", gridsearch.score(X_train, Y_train))\n",
    "print(\"Précision sur l'ensemble de test : \", gridsearch.score(X_test, Y_test))"
   ],
   "outputs": [
    {
     "name": "stdout",
     "output_type": "stream",
     "text": [
      "Recherche sur grille...\n",
      "{'estimator__max_depth': [1, 2, 3], 'estimator__min_samples_leaf': [1, 2, 3], 'estimator__min_samples_split': [2, 3, 4], 'n_estimators': [2, 4, 6, 8, 10]}\n",
      "...Terminé.\n",
      "Meilleurs hyperparamètres :  {'estimator__max_depth': 3, 'estimator__min_samples_leaf': 1, 'estimator__min_samples_split': 2, 'n_estimators': 2}\n",
      "Meilleure précision de validation :  0.9845269051467659\n",
      "\n",
      "Précision sur l'ensemble d'entraînement :  0.984526905146766\n",
      "Précision sur l'ensemble de test :  0.9840115257572563\n"
     ]
    }
   ],
   "execution_count": 79
  },
  {
   "cell_type": "code",
   "metadata": {
    "ExecuteTime": {
     "end_time": "2024-08-10T15:30:10.861892Z",
     "start_time": "2024-08-10T15:30:10.722724Z"
    }
   },
   "source": [
    "# Prédictions sur l'ensemble d'entraînement\n",
    "print(\"Prédictions sur l'ensemble d'entraînement...\")\n",
    "Y_train_pred = gridsearch.predict(X_train)\n",
    "print(\"...Terminé.\")\n",
    "print(Y_train_pred)\n",
    "print()\n",
    "\n",
    "# Il est également possible d'obtenir les probabilités estimées par le modèle :\n",
    "print(\"Probabilités sur l'ensemble d'entraînement...\")\n",
    "Y_train_proba = gridsearch.predict_proba(X_train)\n",
    "print(\"...Terminé.\")\n",
    "print(Y_train_proba)\n",
    "print()"
   ],
   "outputs": [
    {
     "name": "stdout",
     "output_type": "stream",
     "text": [
      "Prédictions sur l'ensemble d'entraînement...\n",
      "...Terminé.\n",
      "[0 0 0 ... 0 0 0]\n",
      "\n",
      "Probabilités sur l'ensemble d'entraînement...\n",
      "...Terminé.\n",
      "[[0.99778864 0.00221136]\n",
      " [0.99778864 0.00221136]\n",
      " [0.99778864 0.00221136]\n",
      " ...\n",
      " [0.99778864 0.00221136]\n",
      " [0.99778864 0.00221136]\n",
      " [0.99778864 0.00221136]]\n",
      "\n"
     ]
    }
   ],
   "execution_count": 80
  },
  {
   "cell_type": "code",
   "metadata": {
    "ExecuteTime": {
     "end_time": "2024-08-10T15:30:10.879517Z",
     "start_time": "2024-08-10T15:30:10.863318Z"
    }
   },
   "source": [
    "# Prédictions sur l'ensemble de test\n",
    "print(\"Prédictions sur l'ensemble de test...\")\n",
    "Y_test_pred = gridsearch.predict(X_test)\n",
    "print(\"...Terminé.\")\n",
    "print(Y_test_pred)\n",
    "print()\n",
    "\n",
    "# Il est également possible d'obtenir les probabilités estimées par le modèle :\n",
    "print(\"Probabilités sur l'ensemble de test...\")\n",
    "Y_test_proba = gridsearch.predict_proba(X_test)\n",
    "print(\"...Terminé.\")\n",
    "print(Y_test_proba)\n",
    "print()"
   ],
   "outputs": [
    {
     "name": "stdout",
     "output_type": "stream",
     "text": [
      "Prédictions sur l'ensemble de test...\n",
      "...Terminé.\n",
      "[0 0 0 ... 0 0 0]\n",
      "\n",
      "Probabilités sur l'ensemble de test...\n",
      "...Terminé.\n",
      "[[0.99778864 0.00221136]\n",
      " [0.99778864 0.00221136]\n",
      " [0.99778864 0.00221136]\n",
      " ...\n",
      " [0.95636293 0.04363707]\n",
      " [0.99778864 0.00221136]\n",
      " [0.99778864 0.00221136]]\n",
      "\n"
     ]
    }
   ],
   "execution_count": 81
  },
  {
   "cell_type": "code",
   "metadata": {
    "ExecuteTime": {
     "end_time": "2024-08-10T15:30:11.032750Z",
     "start_time": "2024-08-10T15:30:10.881273Z"
    }
   },
   "source": [
    "# ATTENTION : Utilisez le même score que celui qui sera utilisé par Kaggle !\n",
    "# Ici, le f1-score sera utilisé pour évaluer les performances sur le leaderboard\n",
    "print(\"f1-score sur le jeu d'entraînement : \", f1_score(Y_train, Y_train_pred))\n",
    "print(\"f1-score sur le jeu de test : \", f1_score(Y_test, Y_test_pred))"
   ],
   "outputs": [
    {
     "name": "stdout",
     "output_type": "stream",
     "text": [
      "f1-score sur le jeu d'entraînement :  0.7277598406265028\n",
      "f1-score sur le jeu de test :  0.7293277810826889\n"
     ]
    }
   ],
   "execution_count": 82
  },
  {
   "cell_type": "code",
   "metadata": {
    "ExecuteTime": {
     "end_time": "2024-08-10T15:30:11.112315Z",
     "start_time": "2024-08-10T15:30:11.034739Z"
    }
   },
   "source": [
    "# Vous pouvez également vérifier plus de métriques de performance pour mieux comprendre ce que fait votre modèle\n",
    "print(\"Matrice de confusion sur l'ensemble d'entraînement : \")\n",
    "print(confusion_matrix(Y_train, Y_train_pred))\n",
    "print()\n",
    "print(\"Matrice de confusion sur l'ensemble de test : \")\n",
    "print(confusion_matrix(Y_test, Y_test_pred))\n",
    "print()"
   ],
   "outputs": [
    {
     "name": "stdout",
     "output_type": "stream",
     "text": [
      "Matrice de confusion sur l'ensemble d'entraînement : \n",
      "[[246862   1037]\n",
      " [  2926   5297]]\n",
      "\n",
      "Matrice de confusion sur l'ensemble de test : \n",
      "[[27390   111]\n",
      " [  344   613]]\n",
      "\n"
     ]
    }
   ],
   "execution_count": 83
  },
  {
   "cell_type": "code",
   "metadata": {
    "ExecuteTime": {
     "end_time": "2024-08-10T15:30:15.542952Z",
     "start_time": "2024-08-10T15:30:11.114619Z"
    }
   },
   "source": [
    "# Concaténez notre ensemble d'entraînement et de test pour entraîner votre meilleur classificateur sur toutes les données avec des étiquettes\n",
    "X = np.append(X_train, X_test, axis=0)\n",
    "Y = np.append(Y_train, Y_test)\n",
    "\n",
    "classifier.fit(X, Y)"
   ],
   "outputs": [
    {
     "data": {
      "text/plain": [
       "BaggingClassifier(estimator=DecisionTreeClassifier())"
      ],
      "text/html": [
       "<style>#sk-container-id-4 {color: black;}#sk-container-id-4 pre{padding: 0;}#sk-container-id-4 div.sk-toggleable {background-color: white;}#sk-container-id-4 label.sk-toggleable__label {cursor: pointer;display: block;width: 100%;margin-bottom: 0;padding: 0.3em;box-sizing: border-box;text-align: center;}#sk-container-id-4 label.sk-toggleable__label-arrow:before {content: \"▸\";float: left;margin-right: 0.25em;color: #696969;}#sk-container-id-4 label.sk-toggleable__label-arrow:hover:before {color: black;}#sk-container-id-4 div.sk-estimator:hover label.sk-toggleable__label-arrow:before {color: black;}#sk-container-id-4 div.sk-toggleable__content {max-height: 0;max-width: 0;overflow: hidden;text-align: left;background-color: #f0f8ff;}#sk-container-id-4 div.sk-toggleable__content pre {margin: 0.2em;color: black;border-radius: 0.25em;background-color: #f0f8ff;}#sk-container-id-4 input.sk-toggleable__control:checked~div.sk-toggleable__content {max-height: 200px;max-width: 100%;overflow: auto;}#sk-container-id-4 input.sk-toggleable__control:checked~label.sk-toggleable__label-arrow:before {content: \"▾\";}#sk-container-id-4 div.sk-estimator input.sk-toggleable__control:checked~label.sk-toggleable__label {background-color: #d4ebff;}#sk-container-id-4 div.sk-label input.sk-toggleable__control:checked~label.sk-toggleable__label {background-color: #d4ebff;}#sk-container-id-4 input.sk-hidden--visually {border: 0;clip: rect(1px 1px 1px 1px);clip: rect(1px, 1px, 1px, 1px);height: 1px;margin: -1px;overflow: hidden;padding: 0;position: absolute;width: 1px;}#sk-container-id-4 div.sk-estimator {font-family: monospace;background-color: #f0f8ff;border: 1px dotted black;border-radius: 0.25em;box-sizing: border-box;margin-bottom: 0.5em;}#sk-container-id-4 div.sk-estimator:hover {background-color: #d4ebff;}#sk-container-id-4 div.sk-parallel-item::after {content: \"\";width: 100%;border-bottom: 1px solid gray;flex-grow: 1;}#sk-container-id-4 div.sk-label:hover label.sk-toggleable__label {background-color: #d4ebff;}#sk-container-id-4 div.sk-serial::before {content: \"\";position: absolute;border-left: 1px solid gray;box-sizing: border-box;top: 0;bottom: 0;left: 50%;z-index: 0;}#sk-container-id-4 div.sk-serial {display: flex;flex-direction: column;align-items: center;background-color: white;padding-right: 0.2em;padding-left: 0.2em;position: relative;}#sk-container-id-4 div.sk-item {position: relative;z-index: 1;}#sk-container-id-4 div.sk-parallel {display: flex;align-items: stretch;justify-content: center;background-color: white;position: relative;}#sk-container-id-4 div.sk-item::before, #sk-container-id-4 div.sk-parallel-item::before {content: \"\";position: absolute;border-left: 1px solid gray;box-sizing: border-box;top: 0;bottom: 0;left: 50%;z-index: -1;}#sk-container-id-4 div.sk-parallel-item {display: flex;flex-direction: column;z-index: 1;position: relative;background-color: white;}#sk-container-id-4 div.sk-parallel-item:first-child::after {align-self: flex-end;width: 50%;}#sk-container-id-4 div.sk-parallel-item:last-child::after {align-self: flex-start;width: 50%;}#sk-container-id-4 div.sk-parallel-item:only-child::after {width: 0;}#sk-container-id-4 div.sk-dashed-wrapped {border: 1px dashed gray;margin: 0 0.4em 0.5em 0.4em;box-sizing: border-box;padding-bottom: 0.4em;background-color: white;}#sk-container-id-4 div.sk-label label {font-family: monospace;font-weight: bold;display: inline-block;line-height: 1.2em;}#sk-container-id-4 div.sk-label-container {text-align: center;}#sk-container-id-4 div.sk-container {/* jupyter's `normalize.less` sets `[hidden] { display: none; }` but bootstrap.min.css set `[hidden] { display: none !important; }` so we also need the `!important` here to be able to override the default hidden behavior on the sphinx rendered scikit-learn.org. See: https://github.com/scikit-learn/scikit-learn/issues/21755 */display: inline-block !important;position: relative;}#sk-container-id-4 div.sk-text-repr-fallback {display: none;}</style><div id=\"sk-container-id-4\" class=\"sk-top-container\"><div class=\"sk-text-repr-fallback\"><pre>BaggingClassifier(estimator=DecisionTreeClassifier())</pre><b>In a Jupyter environment, please rerun this cell to show the HTML representation or trust the notebook. <br />On GitHub, the HTML representation is unable to render, please try loading this page with nbviewer.org.</b></div><div class=\"sk-container\" hidden><div class=\"sk-item sk-dashed-wrapped\"><div class=\"sk-label-container\"><div class=\"sk-label sk-toggleable\"><input class=\"sk-toggleable__control sk-hidden--visually\" id=\"sk-estimator-id-4\" type=\"checkbox\" ><label for=\"sk-estimator-id-4\" class=\"sk-toggleable__label sk-toggleable__label-arrow\">BaggingClassifier</label><div class=\"sk-toggleable__content\"><pre>BaggingClassifier(estimator=DecisionTreeClassifier())</pre></div></div></div><div class=\"sk-parallel\"><div class=\"sk-parallel-item\"><div class=\"sk-item\"><div class=\"sk-label-container\"><div class=\"sk-label sk-toggleable\"><input class=\"sk-toggleable__control sk-hidden--visually\" id=\"sk-estimator-id-5\" type=\"checkbox\" ><label for=\"sk-estimator-id-5\" class=\"sk-toggleable__label sk-toggleable__label-arrow\">estimator: DecisionTreeClassifier</label><div class=\"sk-toggleable__content\"><pre>DecisionTreeClassifier()</pre></div></div></div><div class=\"sk-serial\"><div class=\"sk-item\"><div class=\"sk-estimator sk-toggleable\"><input class=\"sk-toggleable__control sk-hidden--visually\" id=\"sk-estimator-id-6\" type=\"checkbox\" ><label for=\"sk-estimator-id-6\" class=\"sk-toggleable__label sk-toggleable__label-arrow\">DecisionTreeClassifier</label><div class=\"sk-toggleable__content\"><pre>DecisionTreeClassifier()</pre></div></div></div></div></div></div></div></div></div></div>"
      ]
     },
     "execution_count": 84,
     "metadata": {},
     "output_type": "execute_result"
    }
   ],
   "execution_count": 84
  },
  {
   "cell_type": "code",
   "metadata": {
    "ExecuteTime": {
     "end_time": "2024-08-10T15:30:15.573848Z",
     "start_time": "2024-08-10T15:30:15.544614Z"
    }
   },
   "source": [
    "# Lire les données sans étiquettes\n",
    "data_without_labels = pd.read_csv('conversion_data_test.csv')\n",
    "print('Ensemble de prédictions (sans étiquettes) :', data_without_labels.shape)\n",
    "\n",
    "# Attention : vérifiez la cohérence de la liste des caractéristiques (doit être la même que les caractéristiques \n",
    "# utilisées par votre meilleur classificateur)\n",
    "features_list = ['country', 'age', 'new_user', 'source', 'total_pages_visited']\n",
    "X_without_labels = data_without_labels.loc[:, features_list]\n",
    "\n",
    "# Convertir les DataFrames pandas en tableaux numpy avant d'utiliser scikit-learn\n",
    "print(\"Conversion des DataFrames pandas en tableaux numpy...\")\n",
    "# X_without_labels = X_without_labels.values\n",
    "print(\"...Terminé\")\n",
    "\n",
    "print(X_without_labels[0:5])"
   ],
   "outputs": [
    {
     "name": "stdout",
     "output_type": "stream",
     "text": [
      "Ensemble de prédictions (sans étiquettes) : (31620, 5)\n",
      "Conversion des DataFrames pandas en tableaux numpy...\n",
      "...Terminé\n",
      "  country  age  new_user  source  total_pages_visited\n",
      "0      UK   28         0     Seo                   16\n",
      "1      UK   22         1  Direct                    5\n",
      "2   China   32         1     Seo                    1\n",
      "3      US   32         1     Ads                    6\n",
      "4   China   25         0     Seo                    3\n"
     ]
    }
   ],
   "execution_count": 85
  },
  {
   "cell_type": "code",
   "metadata": {
    "ExecuteTime": {
     "end_time": "2024-08-10T15:30:15.612494Z",
     "start_time": "2024-08-10T15:30:15.576219Z"
    }
   },
   "source": [
    "# ATTENTION : METTRE ICI LE MÊME PRÉTRAITEMENT QUE POUR VOTRE ENSEMBLE DE TEST\n",
    "# VÉRIFIER QUE VOUS UTILISEZ X_without_labels\n",
    "print(\"Encodage des caractéristiques catégorielles et standardisation des caractéristiques numériques...\")\n",
    "\n",
    "X_without_labels = preprocessor.transform(X_without_labels)\n",
    "print(\"...Terminé.\")\n",
    "print(X_without_labels[0:5])"
   ],
   "outputs": [
    {
     "name": "stdout",
     "output_type": "stream",
     "text": [
      "Encodage des caractéristiques catégorielles et standardisation des caractéristiques numériques...\n",
      "...Terminé.\n",
      "[[ 0.          1.          0.          0.          1.         -0.31028053\n",
      "  -1.47729174  3.33326238]\n",
      " [ 0.          1.          0.          1.          0.         -1.03613923\n",
      "   0.67691437  0.03879562]\n",
      " [ 0.          0.          0.          0.          1.          0.17362526\n",
      "   0.67691437 -1.15919229]\n",
      " [ 0.          0.          1.          0.          0.          0.17362526\n",
      "   0.67691437  0.3382926 ]\n",
      " [ 0.          0.          0.          0.          1.         -0.67320988\n",
      "  -1.47729174 -0.56019834]]\n"
     ]
    }
   ],
   "execution_count": 86
  },
  {
   "cell_type": "code",
   "metadata": {
    "ExecuteTime": {
     "end_time": "2024-08-10T15:30:15.697092Z",
     "start_time": "2024-08-10T15:30:15.614206Z"
    }
   },
   "source": [
    "# Faire des prédictions et les exporter vers un fichier\n",
    "# ATTENTION : ASSUREZ-VOUS QUE LE FICHIER EST UN CSV AVEC UNE SEULE COLONNE NOMMÉE 'converted' ET PAS D'INDEX !\n",
    "# ATTENTION : LE NOM DU FICHIER DOIT AVOIR LE FORMAT 'conversion_data_test_predictions_[name].csv'\n",
    "# où [name] est le nom de votre équipe/modèle séparé par un '-'\n",
    "# Par exemple : [name] = MELCHIOR-model1\n",
    "data = {\n",
    "    'converted': classifier.predict(X_without_labels)\n",
    "}\n",
    "\n",
    "Y_predictions = pd.DataFrame(columns=['converted'], data=data)\n",
    "Y_predictions.to_csv('conversion_data_test_predictions_melchior-model4.csv', index=False)"
   ],
   "outputs": [],
   "execution_count": 87
  },
  {
   "cell_type": "markdown",
   "metadata": {},
   "source": "# AdaBoost avec un estimateur de régression logistique"
  },
  {
   "cell_type": "code",
   "metadata": {
    "ExecuteTime": {
     "end_time": "2024-08-10T15:32:17.812637Z",
     "start_time": "2024-08-10T15:30:15.699126Z"
    }
   },
   "source": [
    "# Effectuer une recherche sur grille\n",
    "print(\"Recherche sur grille...\")\n",
    "logistic_regression = LogisticRegression(\n",
    "    max_iter=1000\n",
    ")  # max_iter modifié en raison d'un avertissement de convergence\n",
    "classifier = AdaBoostClassifier(estimator=logistic_regression)\n",
    "\n",
    "# Grille de valeurs à tester\n",
    "params = {\n",
    "    \"estimator__C\": [\n",
    "        0.01,\n",
    "        0.05,\n",
    "        0.1,\n",
    "        0.5,\n",
    "    ],  # préfixe base_estimator__ car C est un paramètre de LogisticRegression!\n",
    "    \"n_estimators\": [\n",
    "        5,\n",
    "        10,\n",
    "        20,\n",
    "        30,\n",
    "    ],  # n_estimators est un hyperparamètre de la méthode d'ensemble\n",
    "}\n",
    "print(params)\n",
    "gridsearch = GridSearchCV(\n",
    "    classifier, param_grid=params, cv=3\n",
    ")  # cv : le nombre de folds à utiliser pour CV\n",
    "gridsearch.fit(X_train, Y_train)\n",
    "print(\"...Terminé.\")\n",
    "print(\"Meilleurs hyperparamètres : \", gridsearch.best_params_)\n",
    "print(\"Meilleure précision de validation : \", gridsearch.best_score_)\n",
    "print()\n",
    "print(\"Précision sur l'ensemble d'entraînement : \", gridsearch.score(X_train, Y_train))\n",
    "print(\"Précision sur l'ensemble de test : \", gridsearch.score(X_test, Y_test))"
   ],
   "outputs": [
    {
     "name": "stdout",
     "output_type": "stream",
     "text": [
      "Recherche sur grille...\n",
      "{'estimator__C': [0.01, 0.05, 0.1, 0.5], 'n_estimators': [5, 10, 20, 30]}\n",
      "...Terminé.\n",
      "Meilleurs hyperparamètres :  {'estimator__C': 0.5, 'n_estimators': 30}\n",
      "Meilleure précision de validation :  0.9853663488493765\n",
      "\n",
      "Précision sur l'ensemble d'entraînement :  0.9853780620173199\n",
      "Précision sur l'ensemble de test :  0.9848900133530114\n"
     ]
    }
   ],
   "execution_count": 88
  },
  {
   "cell_type": "code",
   "metadata": {
    "ExecuteTime": {
     "end_time": "2024-08-10T15:32:18.658170Z",
     "start_time": "2024-08-10T15:32:17.814858Z"
    }
   },
   "source": [
    "# Prédictions sur l'ensemble d'entraînement\n",
    "print(\"Prédictions sur l'ensemble d'entraînement...\")\n",
    "Y_train_pred = gridsearch.predict(X_train)\n",
    "print(\"...Terminé.\")\n",
    "print(Y_train_pred)\n",
    "print()\n",
    "\n",
    "# Il est également possible d'obtenir les probabilités estimées par le modèle :\n",
    "print(\"Probabilités sur l'ensemble d'entraînement...\")\n",
    "Y_train_proba = gridsearch.predict_proba(X_train)\n",
    "print(\"...Terminé.\")\n",
    "print(Y_train_proba)\n",
    "print()"
   ],
   "outputs": [
    {
     "name": "stdout",
     "output_type": "stream",
     "text": [
      "Prédictions sur l'ensemble d'entraînement...\n",
      "...Terminé.\n",
      "[0 0 0 ... 0 0 0]\n",
      "\n",
      "Probabilités sur l'ensemble d'entraînement...\n",
      "...Terminé.\n",
      "[[0.5523761  0.4476239 ]\n",
      " [0.53979808 0.46020192]\n",
      " [0.57962818 0.42037182]\n",
      " ...\n",
      " [0.55524396 0.44475604]\n",
      " [0.55750136 0.44249864]\n",
      " [0.57470498 0.42529502]]\n",
      "\n"
     ]
    }
   ],
   "execution_count": 89
  },
  {
   "cell_type": "code",
   "metadata": {
    "ExecuteTime": {
     "end_time": "2024-08-10T15:32:18.752742Z",
     "start_time": "2024-08-10T15:32:18.659996Z"
    }
   },
   "source": [
    "# Prédictions sur l'ensemble de test\n",
    "print(\"Prédictions sur l'ensemble de test...\")\n",
    "Y_test_pred = gridsearch.predict(X_test)\n",
    "print(\"...Terminé.\")\n",
    "print(Y_test_pred)\n",
    "print()\n",
    "\n",
    "# Il est également possible d'obtenir les probabilités estimées par le modèle :\n",
    "print(\"Probabilités sur l'ensemble de test...\")\n",
    "Y_test_proba = gridsearch.predict_proba(X_test)\n",
    "print(\"...Terminé.\")\n",
    "print(Y_test_proba)\n",
    "print()"
   ],
   "outputs": [
    {
     "name": "stdout",
     "output_type": "stream",
     "text": [
      "Prédictions sur l'ensemble de test...\n",
      "...Terminé.\n",
      "[0 0 0 ... 0 0 0]\n",
      "\n",
      "Probabilités sur l'ensemble de test...\n",
      "...Terminé.\n",
      "[[0.54268636 0.45731364]\n",
      " [0.56083225 0.43916775]\n",
      " [0.55185758 0.44814242]\n",
      " ...\n",
      " [0.53033374 0.46966626]\n",
      " [0.57216835 0.42783165]\n",
      " [0.57078986 0.42921014]]\n",
      "\n"
     ]
    }
   ],
   "execution_count": 90
  },
  {
   "cell_type": "code",
   "metadata": {
    "ExecuteTime": {
     "end_time": "2024-08-10T15:32:18.902990Z",
     "start_time": "2024-08-10T15:32:18.755145Z"
    }
   },
   "source": [
    "# ATTENTION : Utilisez le même score que celui qui sera utilisé par Kaggle !\n",
    "# Ici, le score f1 sera utilisé pour évaluer les performances sur le classement\n",
    "print(\"Score f1 sur l'ensemble d'entraînement : \", f1_score(Y_train, Y_train_pred))\n",
    "print(\"Score f1 sur l'ensemble de test : \", f1_score(Y_test, Y_test_pred))"
   ],
   "outputs": [
    {
     "name": "stdout",
     "output_type": "stream",
     "text": [
      "Score f1 sur l'ensemble d'entraînement :  0.742593992714276\n",
      "Score f1 sur l'ensemble de test :  0.7452606635071091\n"
     ]
    }
   ],
   "execution_count": 91
  },
  {
   "cell_type": "code",
   "metadata": {
    "ExecuteTime": {
     "end_time": "2024-08-10T15:32:18.975352Z",
     "start_time": "2024-08-10T15:32:18.904631Z"
    }
   },
   "source": [
    "# Vous pouvez également vérifier plus de métriques de performance pour mieux comprendre ce que fait votre modèle\n",
    "print(\"Matrice de confusion sur l'ensemble d'entraînement : \")\n",
    "print(confusion_matrix(Y_train, Y_train_pred))\n",
    "print()\n",
    "print(\"Matrice de confusion sur l'ensemble de test : \")\n",
    "print(confusion_matrix(Y_test, Y_test_pred))\n",
    "print()"
   ],
   "outputs": [
    {
     "name": "stdout",
     "output_type": "stream",
     "text": [
      "Matrice de confusion sur l'ensemble d'entraînement : \n",
      "[[246975    924]\n",
      " [  2821   5402]]\n",
      "\n",
      "Matrice de confusion sur l'ensemble de test : \n",
      "[[27399   102]\n",
      " [  328   629]]\n",
      "\n"
     ]
    }
   ],
   "execution_count": 92
  },
  {
   "cell_type": "code",
   "metadata": {
    "ExecuteTime": {
     "end_time": "2024-08-10T15:32:29.701569Z",
     "start_time": "2024-08-10T15:32:18.976977Z"
    }
   },
   "source": [
    "# Concaténer nos ensembles d'entraînement et de test pour entraîner notre meilleur classificateur sur toutes les données avec des étiquettes\n",
    "X = np.append(X_train, X_test, axis=0)\n",
    "Y = np.append(Y_train, Y_test)\n",
    "\n",
    "classifier.fit(X, Y)"
   ],
   "outputs": [
    {
     "data": {
      "text/plain": [
       "AdaBoostClassifier(estimator=LogisticRegression(max_iter=1000))"
      ],
      "text/html": [
       "<style>#sk-container-id-5 {color: black;}#sk-container-id-5 pre{padding: 0;}#sk-container-id-5 div.sk-toggleable {background-color: white;}#sk-container-id-5 label.sk-toggleable__label {cursor: pointer;display: block;width: 100%;margin-bottom: 0;padding: 0.3em;box-sizing: border-box;text-align: center;}#sk-container-id-5 label.sk-toggleable__label-arrow:before {content: \"▸\";float: left;margin-right: 0.25em;color: #696969;}#sk-container-id-5 label.sk-toggleable__label-arrow:hover:before {color: black;}#sk-container-id-5 div.sk-estimator:hover label.sk-toggleable__label-arrow:before {color: black;}#sk-container-id-5 div.sk-toggleable__content {max-height: 0;max-width: 0;overflow: hidden;text-align: left;background-color: #f0f8ff;}#sk-container-id-5 div.sk-toggleable__content pre {margin: 0.2em;color: black;border-radius: 0.25em;background-color: #f0f8ff;}#sk-container-id-5 input.sk-toggleable__control:checked~div.sk-toggleable__content {max-height: 200px;max-width: 100%;overflow: auto;}#sk-container-id-5 input.sk-toggleable__control:checked~label.sk-toggleable__label-arrow:before {content: \"▾\";}#sk-container-id-5 div.sk-estimator input.sk-toggleable__control:checked~label.sk-toggleable__label {background-color: #d4ebff;}#sk-container-id-5 div.sk-label input.sk-toggleable__control:checked~label.sk-toggleable__label {background-color: #d4ebff;}#sk-container-id-5 input.sk-hidden--visually {border: 0;clip: rect(1px 1px 1px 1px);clip: rect(1px, 1px, 1px, 1px);height: 1px;margin: -1px;overflow: hidden;padding: 0;position: absolute;width: 1px;}#sk-container-id-5 div.sk-estimator {font-family: monospace;background-color: #f0f8ff;border: 1px dotted black;border-radius: 0.25em;box-sizing: border-box;margin-bottom: 0.5em;}#sk-container-id-5 div.sk-estimator:hover {background-color: #d4ebff;}#sk-container-id-5 div.sk-parallel-item::after {content: \"\";width: 100%;border-bottom: 1px solid gray;flex-grow: 1;}#sk-container-id-5 div.sk-label:hover label.sk-toggleable__label {background-color: #d4ebff;}#sk-container-id-5 div.sk-serial::before {content: \"\";position: absolute;border-left: 1px solid gray;box-sizing: border-box;top: 0;bottom: 0;left: 50%;z-index: 0;}#sk-container-id-5 div.sk-serial {display: flex;flex-direction: column;align-items: center;background-color: white;padding-right: 0.2em;padding-left: 0.2em;position: relative;}#sk-container-id-5 div.sk-item {position: relative;z-index: 1;}#sk-container-id-5 div.sk-parallel {display: flex;align-items: stretch;justify-content: center;background-color: white;position: relative;}#sk-container-id-5 div.sk-item::before, #sk-container-id-5 div.sk-parallel-item::before {content: \"\";position: absolute;border-left: 1px solid gray;box-sizing: border-box;top: 0;bottom: 0;left: 50%;z-index: -1;}#sk-container-id-5 div.sk-parallel-item {display: flex;flex-direction: column;z-index: 1;position: relative;background-color: white;}#sk-container-id-5 div.sk-parallel-item:first-child::after {align-self: flex-end;width: 50%;}#sk-container-id-5 div.sk-parallel-item:last-child::after {align-self: flex-start;width: 50%;}#sk-container-id-5 div.sk-parallel-item:only-child::after {width: 0;}#sk-container-id-5 div.sk-dashed-wrapped {border: 1px dashed gray;margin: 0 0.4em 0.5em 0.4em;box-sizing: border-box;padding-bottom: 0.4em;background-color: white;}#sk-container-id-5 div.sk-label label {font-family: monospace;font-weight: bold;display: inline-block;line-height: 1.2em;}#sk-container-id-5 div.sk-label-container {text-align: center;}#sk-container-id-5 div.sk-container {/* jupyter's `normalize.less` sets `[hidden] { display: none; }` but bootstrap.min.css set `[hidden] { display: none !important; }` so we also need the `!important` here to be able to override the default hidden behavior on the sphinx rendered scikit-learn.org. See: https://github.com/scikit-learn/scikit-learn/issues/21755 */display: inline-block !important;position: relative;}#sk-container-id-5 div.sk-text-repr-fallback {display: none;}</style><div id=\"sk-container-id-5\" class=\"sk-top-container\"><div class=\"sk-text-repr-fallback\"><pre>AdaBoostClassifier(estimator=LogisticRegression(max_iter=1000))</pre><b>In a Jupyter environment, please rerun this cell to show the HTML representation or trust the notebook. <br />On GitHub, the HTML representation is unable to render, please try loading this page with nbviewer.org.</b></div><div class=\"sk-container\" hidden><div class=\"sk-item sk-dashed-wrapped\"><div class=\"sk-label-container\"><div class=\"sk-label sk-toggleable\"><input class=\"sk-toggleable__control sk-hidden--visually\" id=\"sk-estimator-id-7\" type=\"checkbox\" ><label for=\"sk-estimator-id-7\" class=\"sk-toggleable__label sk-toggleable__label-arrow\">AdaBoostClassifier</label><div class=\"sk-toggleable__content\"><pre>AdaBoostClassifier(estimator=LogisticRegression(max_iter=1000))</pre></div></div></div><div class=\"sk-parallel\"><div class=\"sk-parallel-item\"><div class=\"sk-item\"><div class=\"sk-label-container\"><div class=\"sk-label sk-toggleable\"><input class=\"sk-toggleable__control sk-hidden--visually\" id=\"sk-estimator-id-8\" type=\"checkbox\" ><label for=\"sk-estimator-id-8\" class=\"sk-toggleable__label sk-toggleable__label-arrow\">estimator: LogisticRegression</label><div class=\"sk-toggleable__content\"><pre>LogisticRegression(max_iter=1000)</pre></div></div></div><div class=\"sk-serial\"><div class=\"sk-item\"><div class=\"sk-estimator sk-toggleable\"><input class=\"sk-toggleable__control sk-hidden--visually\" id=\"sk-estimator-id-9\" type=\"checkbox\" ><label for=\"sk-estimator-id-9\" class=\"sk-toggleable__label sk-toggleable__label-arrow\">LogisticRegression</label><div class=\"sk-toggleable__content\"><pre>LogisticRegression(max_iter=1000)</pre></div></div></div></div></div></div></div></div></div></div>"
      ]
     },
     "execution_count": 93,
     "metadata": {},
     "output_type": "execute_result"
    }
   ],
   "execution_count": 93
  },
  {
   "cell_type": "code",
   "metadata": {
    "ExecuteTime": {
     "end_time": "2024-08-10T15:32:29.734798Z",
     "start_time": "2024-08-10T15:32:29.703408Z"
    }
   },
   "source": [
    "# Lire les données sans étiquettes\n",
    "data_without_labels = pd.read_csv('conversion_data_test.csv')\n",
    "print('Ensemble de prédiction (sans étiquettes) :', data_without_labels.shape)\n",
    "\n",
    "# Attention : vérifier la cohérence de la liste des caractéristiques (doit être la même que celle utilisée par votre meilleur classificateur)\n",
    "features_list = ['country', 'age', 'new_user', 'source', 'total_pages_visited']\n",
    "X_without_labels = data_without_labels.loc[:, features_list]\n",
    "\n",
    "# Convertir les DataFrames pandas en tableaux numpy avant d'utiliser scikit-learn\n",
    "print(\"Conversion des DataFrames pandas en tableaux numpy...\")\n",
    "# X_without_labels = X_without_labels.values\n",
    "print(\"...Terminé\")\n",
    "\n",
    "print(X_without_labels[0:5])"
   ],
   "outputs": [
    {
     "name": "stdout",
     "output_type": "stream",
     "text": [
      "Ensemble de prédiction (sans étiquettes) : (31620, 5)\n",
      "Conversion des DataFrames pandas en tableaux numpy...\n",
      "...Terminé\n",
      "  country  age  new_user  source  total_pages_visited\n",
      "0      UK   28         0     Seo                   16\n",
      "1      UK   22         1  Direct                    5\n",
      "2   China   32         1     Seo                    1\n",
      "3      US   32         1     Ads                    6\n",
      "4   China   25         0     Seo                    3\n"
     ]
    }
   ],
   "execution_count": 94
  },
  {
   "cell_type": "code",
   "metadata": {
    "ExecuteTime": {
     "end_time": "2024-08-10T15:32:29.775345Z",
     "start_time": "2024-08-10T15:32:29.736523Z"
    }
   },
   "source": [
    "# ATTENTION : METTEZ ICI LE MÊME PRÉTRAITEMENT QUE POUR VOTRE ENSEMBLE DE TEST\n",
    "# VÉRIFIEZ QUE VOUS UTILISEZ X_without_labels\n",
    "print(\"Encodage des fonctionnalités catégorielles et standardisation des fonctionnalités numériques...\")\n",
    "\n",
    "X_without_labels = preprocessor.transform(X_without_labels)\n",
    "print(\"...Terminé\")\n",
    "print(X_without_labels[0:5])"
   ],
   "outputs": [
    {
     "name": "stdout",
     "output_type": "stream",
     "text": [
      "Encodage des fonctionnalités catégorielles et standardisation des fonctionnalités numériques...\n",
      "...Terminé\n",
      "[[ 0.          1.          0.          0.          1.         -0.31028053\n",
      "  -1.47729174  3.33326238]\n",
      " [ 0.          1.          0.          1.          0.         -1.03613923\n",
      "   0.67691437  0.03879562]\n",
      " [ 0.          0.          0.          0.          1.          0.17362526\n",
      "   0.67691437 -1.15919229]\n",
      " [ 0.          0.          1.          0.          0.          0.17362526\n",
      "   0.67691437  0.3382926 ]\n",
      " [ 0.          0.          0.          0.          1.         -0.67320988\n",
      "  -1.47729174 -0.56019834]]\n"
     ]
    }
   ],
   "execution_count": 95
  },
  {
   "cell_type": "code",
   "metadata": {
    "ExecuteTime": {
     "end_time": "2024-08-10T15:32:29.890755Z",
     "start_time": "2024-08-10T15:32:29.783909Z"
    }
   },
   "source": [
    "# Faire des prédictions et les sauvegarder dans un fichier\n",
    "# ATTENTION : ASSUREZ-VOUS QUE LE FICHIER EST UN CSV AVEC UNE COLONNE NOMMÉE 'converted' ET SANS INDICE !\n",
    "# ATTENTION : LE NOM DU FICHIER DOIT AVOIR LE FORMAT 'conversion_data_test_predictions_[name].csv'\n",
    "# où [name] est le nom de votre équipe/modèle séparé par un '-'\n",
    "# Par exemple : [name] = MELCHIOR-model1\n",
    "data = {\n",
    "    'converted': classifier.predict(X_without_labels)\n",
    "}\n",
    "\n",
    "Y_predictions = pd.DataFrame(columns=['converted'], data=data)\n",
    "Y_predictions.to_csv('conversion_data_test_predictions_melchior-model5.csv', index=False)"
   ],
   "outputs": [],
   "execution_count": 96
  },
  {
   "cell_type": "markdown",
   "metadata": {},
   "source": "# AdaBoost avec un estimateur d'arbre de décision"
  },
  {
   "cell_type": "code",
   "metadata": {
    "ExecuteTime": {
     "end_time": "2024-08-10T15:37:22.062874Z",
     "start_time": "2024-08-10T15:32:29.892500Z"
    }
   },
   "source": [
    "# Effectuer une recherche en grille\n",
    "print(\"Recherche en grille...\")\n",
    "decision_tree = DecisionTreeClassifier()\n",
    "classifier = AdaBoostClassifier(estimator=decision_tree)\n",
    "\n",
    "# Grille de valeurs à tester\n",
    "params = {\n",
    "    \"estimator__max_depth\": [1, 2, 3],\n",
    "    \"estimator__min_samples_leaf\": [1, 2, 3],\n",
    "    \"estimator__min_samples_split\": [2, 3, 4],\n",
    "    \"n_estimators\": [2, 4, 6, 8, 10],\n",
    "}\n",
    "print(params)\n",
    "gridsearch = GridSearchCV(\n",
    "    classifier, param_grid=params, cv=3\n",
    ")  # cv : le nombre de plis à utiliser pour la validation croisée\n",
    "gridsearch.fit(X_train, Y_train)\n",
    "print(\"...Terminé.\")\n",
    "print(\"Meilleurs hyperparamètres : \", gridsearch.best_params_)\n",
    "print(\"Meilleure précision de validation : \", gridsearch.best_score_)\n",
    "print()\n",
    "print(\"Précision sur l'ensemble d'entraînement : \", gridsearch.score(X_train, Y_train))\n",
    "print(\"Précision sur l'ensemble de test : \", gridsearch.score(X_test, Y_test))"
   ],
   "outputs": [
    {
     "name": "stdout",
     "output_type": "stream",
     "text": [
      "Recherche en grille...\n",
      "{'estimator__max_depth': [1, 2, 3], 'estimator__min_samples_leaf': [1, 2, 3], 'estimator__min_samples_split': [2, 3, 4], 'n_estimators': [2, 4, 6, 8, 10]}\n",
      "...Terminé.\n",
      "Meilleurs hyperparamètres :  {'estimator__max_depth': 3, 'estimator__min_samples_leaf': 1, 'estimator__min_samples_split': 2, 'n_estimators': 10}\n",
      "Meilleure précision de validation :  0.9858700150709426\n",
      "\n",
      "Précision sur l'ensemble d'entraînement :  0.9861081828191253\n",
      "Précision sur l'ensemble de test :  0.9851359898798229\n"
     ]
    }
   ],
   "execution_count": 97
  },
  {
   "cell_type": "code",
   "metadata": {
    "ExecuteTime": {
     "end_time": "2024-08-10T15:37:22.720772Z",
     "start_time": "2024-08-10T15:37:22.064401Z"
    }
   },
   "source": [
    "# Prédictions sur l'ensemble d'entraînement\n",
    "print(\"Prédictions sur l'ensemble d'entraînement...\")\n",
    "Y_train_pred = gridsearch.predict(X_train)\n",
    "print(\"...Terminé.\")\n",
    "print(Y_train_pred)\n",
    "print()\n",
    "\n",
    "# Il est également possible d'obtenir les probabilités estimées par le modèle :\n",
    "print(\"Probabilités sur l'ensemble d'entraînement...\")\n",
    "Y_train_proba = gridsearch.predict_proba(X_train)\n",
    "print(\"...Terminé.\")\n",
    "print(Y_train_proba)\n",
    "print()"
   ],
   "outputs": [
    {
     "name": "stdout",
     "output_type": "stream",
     "text": [
      "Prédictions sur l'ensemble d'entraînement...\n",
      "...Terminé.\n",
      "[0 0 0 ... 0 0 0]\n",
      "\n",
      "Probabilités sur l'ensemble d'entraînement...\n",
      "...Terminé.\n",
      "[[0.72396731 0.27603269]\n",
      " [0.61384833 0.38615167]\n",
      " [0.70474368 0.29525632]\n",
      " ...\n",
      " [0.64957339 0.35042661]\n",
      " [0.65088709 0.34911291]\n",
      " [0.98841872 0.01158128]]\n",
      "\n"
     ]
    }
   ],
   "execution_count": 98
  },
  {
   "cell_type": "code",
   "metadata": {
    "ExecuteTime": {
     "end_time": "2024-08-10T15:37:22.798532Z",
     "start_time": "2024-08-10T15:37:22.722516Z"
    }
   },
   "source": [
    "# Prédictions sur l'ensemble de test\n",
    "print(\"Prédictions sur l'ensemble de test...\")\n",
    "Y_test_pred = gridsearch.predict(X_test)\n",
    "print(\"...Terminé.\")\n",
    "print(Y_test_pred)\n",
    "print()\n",
    "\n",
    "# Il est également possible d'obtenir les probabilités estimées par le modèle :\n",
    "print(\"Probabilités sur l'ensemble de test...\")\n",
    "Y_test_proba = gridsearch.predict_proba(X_test)\n",
    "print(\"...Terminé.\")\n",
    "print(Y_test_proba)\n",
    "print()"
   ],
   "outputs": [
    {
     "name": "stdout",
     "output_type": "stream",
     "text": [
      "Prédictions sur l'ensemble de test...\n",
      "...Terminé.\n",
      "[0 0 0 ... 0 0 0]\n",
      "\n",
      "Probabilités sur l'ensemble de test...\n",
      "...Terminé.\n",
      "[[0.64291068 0.35708932]\n",
      " [0.67666747 0.32333253]\n",
      " [0.64641449 0.35358551]\n",
      " ...\n",
      " [0.58158381 0.41841619]\n",
      " [0.66034089 0.33965911]\n",
      " [0.69674049 0.30325951]]\n",
      "\n"
     ]
    }
   ],
   "execution_count": 99
  },
  {
   "cell_type": "code",
   "metadata": {
    "ExecuteTime": {
     "end_time": "2024-08-10T15:37:22.947308Z",
     "start_time": "2024-08-10T15:37:22.800141Z"
    }
   },
   "source": [
    "# AVERTISSEMENT : Utilisez le même score que celui qui sera utilisé par Kaggle !\n",
    "# Ici, le f1-score sera utilisé pour évaluer les performances sur le tableau de bord\n",
    "print(\"f1-score sur l'ensemble d'entraînement : \", f1_score(Y_train, Y_train_pred))\n",
    "print(\"f1-score sur l'ensemble de test : \", f1_score(Y_test, Y_test_pred))"
   ],
   "outputs": [
    {
     "name": "stdout",
     "output_type": "stream",
     "text": [
      "f1-score sur l'ensemble d'entraînement :  0.7617197964103939\n",
      "f1-score sur l'ensemble de test :  0.755632582322357\n"
     ]
    }
   ],
   "execution_count": 100
  },
  {
   "cell_type": "code",
   "metadata": {
    "ExecuteTime": {
     "end_time": "2024-08-10T15:37:23.016682Z",
     "start_time": "2024-08-10T15:37:22.949194Z"
    }
   },
   "source": [
    "# Vous pouvez également vérifier d'autres mesures de performance pour mieux comprendre ce que fait votre modèle\n",
    "print(\"Matrice de confusion sur l'ensemble d'entraînement : \")\n",
    "print(confusion_matrix(Y_train, Y_train_pred))\n",
    "print()\n",
    "print(\"Matrice de confusion sur l'ensemble de test : \")\n",
    "print(confusion_matrix(Y_test, Y_test_pred))\n",
    "print()"
   ],
   "outputs": [
    {
     "name": "stdout",
     "output_type": "stream",
     "text": [
      "Matrice de confusion sur l'ensemble d'entraînement : \n",
      "[[246877   1022]\n",
      " [  2536   5687]]\n",
      "\n",
      "Matrice de confusion sur l'ensemble de test : \n",
      "[[27381   120]\n",
      " [  303   654]]\n",
      "\n"
     ]
    }
   ],
   "execution_count": 101
  },
  {
   "cell_type": "code",
   "metadata": {
    "ExecuteTime": {
     "end_time": "2024-08-10T15:37:36.571146Z",
     "start_time": "2024-08-10T15:37:23.018476Z"
    }
   },
   "source": [
    "# Concaténez notre ensemble d'entraînement et de test pour entraîner votre meilleur classificateur sur toutes les données avec des labels\n",
    "X = np.append(X_train, X_test, axis=0)\n",
    "Y = np.append(Y_train, Y_test)\n",
    "\n",
    "classifier.fit(X, Y)"
   ],
   "outputs": [
    {
     "data": {
      "text/plain": [
       "AdaBoostClassifier(estimator=DecisionTreeClassifier())"
      ],
      "text/html": [
       "<style>#sk-container-id-6 {color: black;}#sk-container-id-6 pre{padding: 0;}#sk-container-id-6 div.sk-toggleable {background-color: white;}#sk-container-id-6 label.sk-toggleable__label {cursor: pointer;display: block;width: 100%;margin-bottom: 0;padding: 0.3em;box-sizing: border-box;text-align: center;}#sk-container-id-6 label.sk-toggleable__label-arrow:before {content: \"▸\";float: left;margin-right: 0.25em;color: #696969;}#sk-container-id-6 label.sk-toggleable__label-arrow:hover:before {color: black;}#sk-container-id-6 div.sk-estimator:hover label.sk-toggleable__label-arrow:before {color: black;}#sk-container-id-6 div.sk-toggleable__content {max-height: 0;max-width: 0;overflow: hidden;text-align: left;background-color: #f0f8ff;}#sk-container-id-6 div.sk-toggleable__content pre {margin: 0.2em;color: black;border-radius: 0.25em;background-color: #f0f8ff;}#sk-container-id-6 input.sk-toggleable__control:checked~div.sk-toggleable__content {max-height: 200px;max-width: 100%;overflow: auto;}#sk-container-id-6 input.sk-toggleable__control:checked~label.sk-toggleable__label-arrow:before {content: \"▾\";}#sk-container-id-6 div.sk-estimator input.sk-toggleable__control:checked~label.sk-toggleable__label {background-color: #d4ebff;}#sk-container-id-6 div.sk-label input.sk-toggleable__control:checked~label.sk-toggleable__label {background-color: #d4ebff;}#sk-container-id-6 input.sk-hidden--visually {border: 0;clip: rect(1px 1px 1px 1px);clip: rect(1px, 1px, 1px, 1px);height: 1px;margin: -1px;overflow: hidden;padding: 0;position: absolute;width: 1px;}#sk-container-id-6 div.sk-estimator {font-family: monospace;background-color: #f0f8ff;border: 1px dotted black;border-radius: 0.25em;box-sizing: border-box;margin-bottom: 0.5em;}#sk-container-id-6 div.sk-estimator:hover {background-color: #d4ebff;}#sk-container-id-6 div.sk-parallel-item::after {content: \"\";width: 100%;border-bottom: 1px solid gray;flex-grow: 1;}#sk-container-id-6 div.sk-label:hover label.sk-toggleable__label {background-color: #d4ebff;}#sk-container-id-6 div.sk-serial::before {content: \"\";position: absolute;border-left: 1px solid gray;box-sizing: border-box;top: 0;bottom: 0;left: 50%;z-index: 0;}#sk-container-id-6 div.sk-serial {display: flex;flex-direction: column;align-items: center;background-color: white;padding-right: 0.2em;padding-left: 0.2em;position: relative;}#sk-container-id-6 div.sk-item {position: relative;z-index: 1;}#sk-container-id-6 div.sk-parallel {display: flex;align-items: stretch;justify-content: center;background-color: white;position: relative;}#sk-container-id-6 div.sk-item::before, #sk-container-id-6 div.sk-parallel-item::before {content: \"\";position: absolute;border-left: 1px solid gray;box-sizing: border-box;top: 0;bottom: 0;left: 50%;z-index: -1;}#sk-container-id-6 div.sk-parallel-item {display: flex;flex-direction: column;z-index: 1;position: relative;background-color: white;}#sk-container-id-6 div.sk-parallel-item:first-child::after {align-self: flex-end;width: 50%;}#sk-container-id-6 div.sk-parallel-item:last-child::after {align-self: flex-start;width: 50%;}#sk-container-id-6 div.sk-parallel-item:only-child::after {width: 0;}#sk-container-id-6 div.sk-dashed-wrapped {border: 1px dashed gray;margin: 0 0.4em 0.5em 0.4em;box-sizing: border-box;padding-bottom: 0.4em;background-color: white;}#sk-container-id-6 div.sk-label label {font-family: monospace;font-weight: bold;display: inline-block;line-height: 1.2em;}#sk-container-id-6 div.sk-label-container {text-align: center;}#sk-container-id-6 div.sk-container {/* jupyter's `normalize.less` sets `[hidden] { display: none; }` but bootstrap.min.css set `[hidden] { display: none !important; }` so we also need the `!important` here to be able to override the default hidden behavior on the sphinx rendered scikit-learn.org. See: https://github.com/scikit-learn/scikit-learn/issues/21755 */display: inline-block !important;position: relative;}#sk-container-id-6 div.sk-text-repr-fallback {display: none;}</style><div id=\"sk-container-id-6\" class=\"sk-top-container\"><div class=\"sk-text-repr-fallback\"><pre>AdaBoostClassifier(estimator=DecisionTreeClassifier())</pre><b>In a Jupyter environment, please rerun this cell to show the HTML representation or trust the notebook. <br />On GitHub, the HTML representation is unable to render, please try loading this page with nbviewer.org.</b></div><div class=\"sk-container\" hidden><div class=\"sk-item sk-dashed-wrapped\"><div class=\"sk-label-container\"><div class=\"sk-label sk-toggleable\"><input class=\"sk-toggleable__control sk-hidden--visually\" id=\"sk-estimator-id-10\" type=\"checkbox\" ><label for=\"sk-estimator-id-10\" class=\"sk-toggleable__label sk-toggleable__label-arrow\">AdaBoostClassifier</label><div class=\"sk-toggleable__content\"><pre>AdaBoostClassifier(estimator=DecisionTreeClassifier())</pre></div></div></div><div class=\"sk-parallel\"><div class=\"sk-parallel-item\"><div class=\"sk-item\"><div class=\"sk-label-container\"><div class=\"sk-label sk-toggleable\"><input class=\"sk-toggleable__control sk-hidden--visually\" id=\"sk-estimator-id-11\" type=\"checkbox\" ><label for=\"sk-estimator-id-11\" class=\"sk-toggleable__label sk-toggleable__label-arrow\">estimator: DecisionTreeClassifier</label><div class=\"sk-toggleable__content\"><pre>DecisionTreeClassifier()</pre></div></div></div><div class=\"sk-serial\"><div class=\"sk-item\"><div class=\"sk-estimator sk-toggleable\"><input class=\"sk-toggleable__control sk-hidden--visually\" id=\"sk-estimator-id-12\" type=\"checkbox\" ><label for=\"sk-estimator-id-12\" class=\"sk-toggleable__label sk-toggleable__label-arrow\">DecisionTreeClassifier</label><div class=\"sk-toggleable__content\"><pre>DecisionTreeClassifier()</pre></div></div></div></div></div></div></div></div></div></div>"
      ]
     },
     "execution_count": 102,
     "metadata": {},
     "output_type": "execute_result"
    }
   ],
   "execution_count": 102
  },
  {
   "cell_type": "code",
   "metadata": {
    "ExecuteTime": {
     "end_time": "2024-08-10T15:37:36.608818Z",
     "start_time": "2024-08-10T15:37:36.572943Z"
    }
   },
   "source": [
    "# Lire des données sans labels\n",
    "data_without_labels = pd.read_csv('conversion_data_test.csv')\n",
    "print('Ensemble de prédiction (sans labels) :', data_without_labels.shape)\n",
    "\n",
    "# Attention : vérifiez la cohérence de la liste des caractéristiques (doit être la même que les caractéristiques \n",
    "# utilisé par votre meilleur classificateur)\n",
    "features_list = ['country', 'age', 'new_user', 'source', 'total_pages_visited']\n",
    "X_without_labels = data_without_labels.loc[:, features_list]\n",
    "\n",
    "# Convertir les DataFrames pandas en tableaux numpy avant d'utiliser scikit-learn\n",
    "print(\"Conversion des DataFrames pandas en tableaux numpy...\")\n",
    "# X_without_labels = X_without_labels.values\n",
    "print(\"...Terminé\")\n",
    "\n",
    "print(X_without_labels[0:5])"
   ],
   "outputs": [
    {
     "name": "stdout",
     "output_type": "stream",
     "text": [
      "Ensemble de prédiction (sans labels) : (31620, 5)\n",
      "Conversion des DataFrames pandas en tableaux numpy...\n",
      "...Terminé\n",
      "  country  age  new_user  source  total_pages_visited\n",
      "0      UK   28         0     Seo                   16\n",
      "1      UK   22         1  Direct                    5\n",
      "2   China   32         1     Seo                    1\n",
      "3      US   32         1     Ads                    6\n",
      "4   China   25         0     Seo                    3\n"
     ]
    }
   ],
   "execution_count": 103
  },
  {
   "cell_type": "code",
   "metadata": {
    "ExecuteTime": {
     "end_time": "2024-08-10T15:37:36.646208Z",
     "start_time": "2024-08-10T15:37:36.610300Z"
    }
   },
   "source": [
    "# AVERTISSEMENT : METTEZ ICI LE MÊME PRÉPROCESSING QUE POUR VOTRE ENSEMBLE DE TEST\n",
    "# VÉRIFIEZ QUE VOUS UTILISEZ X_without_labels\n",
    "print(\"Encodage des caractéristiques catégorielles et standardisation des caractéristiques numériques...\")\n",
    "\n",
    "X_without_labels = preprocessor.transform(X_without_labels)\n",
    "print(\"...Terminé\")\n",
    "print(X_without_labels[0:5])"
   ],
   "outputs": [
    {
     "name": "stdout",
     "output_type": "stream",
     "text": [
      "Encodage des caractéristiques catégorielles et standardisation des caractéristiques numériques...\n",
      "...Terminé\n",
      "[[ 0.          1.          0.          0.          1.         -0.31028053\n",
      "  -1.47729174  3.33326238]\n",
      " [ 0.          1.          0.          1.          0.         -1.03613923\n",
      "   0.67691437  0.03879562]\n",
      " [ 0.          0.          0.          0.          1.          0.17362526\n",
      "   0.67691437 -1.15919229]\n",
      " [ 0.          0.          1.          0.          0.          0.17362526\n",
      "   0.67691437  0.3382926 ]\n",
      " [ 0.          0.          0.          0.          1.         -0.67320988\n",
      "  -1.47729174 -0.56019834]]\n"
     ]
    }
   ],
   "execution_count": 104
  },
  {
   "cell_type": "code",
   "metadata": {
    "ExecuteTime": {
     "end_time": "2024-08-10T15:37:36.857149Z",
     "start_time": "2024-08-10T15:37:36.648058Z"
    }
   },
   "source": [
    "# Faire des prédictions et les décharger dans un fichier\n",
    "# AVERTISSEMENT : ASSUREZ-VOUS QUE LE FICHIER EST UN CSV AVEC UNE COLONNE NOMMÉE 'converted' ET PAS D'INDEX !\n",
    "# AVERTISSEMENT : LE NOM DU FICHIER DOIT AVOIR LE FORMAT 'conversion_data_test_predictions_[nom].csv'\n",
    "# où [nom] est le nom de votre équipe/modèle séparé par un '-'\n",
    "# Par exemple : [nom] = MELCHIOR-model1\n",
    "data = {\n",
    "    'converted': classifier.predict(X_without_labels)\n",
    "}\n",
    "\n",
    "Y_predictions = pd.DataFrame(columns=['converted'], data=data)\n",
    "Y_predictions.to_csv('conversion_data_test_predictions_melchior-model6.csv', index=False)"
   ],
   "outputs": [],
   "execution_count": 105
  },
  {
   "cell_type": "markdown",
   "metadata": {},
   "source": "# Boosting avec un arbre de décision comme estimateur"
  },
  {
   "cell_type": "code",
   "metadata": {
    "ExecuteTime": {
     "end_time": "2024-08-10T15:41:25.704961Z",
     "start_time": "2024-08-10T15:37:36.858768Z"
    }
   },
   "source": [
    "# Effectuer une recherche sur grille\n",
    "print(\"Recherche sur grille...\")\n",
    "classifier = GradientBoostingClassifier()\n",
    "\n",
    "# Grille de valeurs à tester\n",
    "params = {\n",
    "    \"max_depth\": [\n",
    "        1,\n",
    "        2,\n",
    "        3,\n",
    "    ],  # pas de préfixe base_estimator_ car ce sont tous des arguments de GradientBoostingClassifier\n",
    "    \"min_samples_leaf\": [1, 2, 3],\n",
    "    \"min_samples_split\": [2, 3, 4],\n",
    "    \"n_estimators\": [2, 4, 6, 8, 10],\n",
    "}\n",
    "print(params)\n",
    "gridsearch = GridSearchCV(\n",
    "    classifier, param_grid=params, cv=3\n",
    ")  # cv : le nombre de plis à utiliser pour la CV\n",
    "gridsearch.fit(X_train, Y_train)\n",
    "print(\"...Terminé.\")\n",
    "print(\"Meilleurs hyperparamètres : \", gridsearch.best_params_)\n",
    "print(\"Meilleure précision de validation : \", gridsearch.best_score_)\n",
    "print()\n",
    "print(\"Précision sur l'ensemble d'entraînement : \", gridsearch.score(X_train, Y_train))\n",
    "print(\"Précision sur l'ensemble de test : \", gridsearch.score(X_test, Y_test))"
   ],
   "outputs": [
    {
     "name": "stdout",
     "output_type": "stream",
     "text": [
      "Recherche sur grille...\n",
      "{'max_depth': [1, 2, 3], 'min_samples_leaf': [1, 2, 3], 'min_samples_split': [2, 3, 4], 'n_estimators': [2, 4, 6, 8, 10]}\n",
      "...Terminé.\n",
      "Meilleurs hyperparamètres :  {'max_depth': 3, 'min_samples_leaf': 1, 'min_samples_split': 2, 'n_estimators': 10}\n",
      "Meilleure précision de validation :  0.9844097734673319\n",
      "\n",
      "Précision sur l'ensemble d'entraînement :  0.9846557499941434\n",
      "Précision sur l'ensemble de test :  0.9840115257572563\n"
     ]
    }
   ],
   "execution_count": 106
  },
  {
   "cell_type": "code",
   "metadata": {
    "ExecuteTime": {
     "end_time": "2024-08-10T15:41:25.838896Z",
     "start_time": "2024-08-10T15:41:25.710174Z"
    }
   },
   "source": [
    "# Prédictions sur l'ensemble d'entraînement\n",
    "print(\"Prédictions sur l'ensemble d'entraînement...\")\n",
    "Y_train_pred = gridsearch.predict(X_train)\n",
    "print(\"...Terminé.\")\n",
    "print(Y_train_pred)\n",
    "print()\n",
    "\n",
    "# Il est également possible d'obtenir les probabilités estimées par le modèle :\n",
    "print(\"Probabilités sur l'ensemble d'entraînement...\")\n",
    "Y_train_proba = gridsearch.predict_proba(X_train)\n",
    "print(\"...Terminé.\")\n",
    "print(Y_train_proba)\n",
    "print()"
   ],
   "outputs": [
    {
     "name": "stdout",
     "output_type": "stream",
     "text": [
      "Prédictions sur l'ensemble d'entraînement...\n",
      "...Terminé.\n",
      "[0 0 0 ... 0 0 0]\n",
      "\n",
      "Probabilités sur l'ensemble d'entraînement...\n",
      "...Terminé.\n",
      "[[0.98736393 0.01263607]\n",
      " [0.98023465 0.01976535]\n",
      " [0.98736393 0.01263607]\n",
      " ...\n",
      " [0.98684699 0.01315301]\n",
      " [0.98736393 0.01263607]\n",
      " [0.98736393 0.01263607]]\n",
      "\n"
     ]
    }
   ],
   "execution_count": 107
  },
  {
   "cell_type": "code",
   "metadata": {
    "ExecuteTime": {
     "end_time": "2024-08-10T15:41:25.860314Z",
     "start_time": "2024-08-10T15:41:25.840757Z"
    }
   },
   "source": [
    "# Prédictions sur l'ensemble de test\n",
    "print(\"Prédictions sur l'ensemble de test...\")\n",
    "Y_test_pred = gridsearch.predict(X_test)\n",
    "print(\"...Terminé.\")\n",
    "print(Y_test_pred)\n",
    "print()\n",
    "\n",
    "# Il est également possible d'obtenir les probabilités estimées par le modèle :\n",
    "print(\"Probabilités sur l'ensemble de test...\")\n",
    "Y_test_proba = gridsearch.predict_proba(X_test)\n",
    "print(\"...Terminé.\")\n",
    "print(Y_test_proba)\n",
    "print()"
   ],
   "outputs": [
    {
     "name": "stdout",
     "output_type": "stream",
     "text": [
      "Prédictions sur l'ensemble de test...\n",
      "...Terminé.\n",
      "[0 0 0 ... 0 0 0]\n",
      "\n",
      "Probabilités sur l'ensemble de test...\n",
      "...Terminé.\n",
      "[[0.98526445 0.01473555]\n",
      " [0.98736393 0.01263607]\n",
      " [0.98736393 0.01263607]\n",
      " ...\n",
      " [0.96378651 0.03621349]\n",
      " [0.98736393 0.01263607]\n",
      " [0.98736393 0.01263607]]\n",
      "\n"
     ]
    }
   ],
   "execution_count": 108
  },
  {
   "cell_type": "code",
   "metadata": {
    "ExecuteTime": {
     "end_time": "2024-08-10T15:41:26.031074Z",
     "start_time": "2024-08-10T15:41:25.862287Z"
    }
   },
   "source": [
    "# AVERTISSEMENT : Utilisez le même score que celui qui sera utilisé par Kaggle !\n",
    "# Ici, le f1-score sera utilisé pour évaluer les performances sur le tableau de bord\n",
    "print(\"f1-score sur l'ensemble d'entraînement : \", f1_score(Y_train, Y_train_pred))\n",
    "print(\"f1-score sur l'ensemble de test : \", f1_score(Y_test, Y_test_pred))"
   ],
   "outputs": [
    {
     "name": "stdout",
     "output_type": "stream",
     "text": [
      "f1-score sur l'ensemble d'entraînement :  0.7226926333615581\n",
      "f1-score sur l'ensemble de test :  0.7220525351252292\n"
     ]
    }
   ],
   "execution_count": 109
  },
  {
   "cell_type": "code",
   "metadata": {
    "ExecuteTime": {
     "end_time": "2024-08-10T15:41:26.123644Z",
     "start_time": "2024-08-10T15:41:26.042601Z"
    }
   },
   "source": [
    "# Vous pouvez également vérifier davantage de mesures de performance pour mieux comprendre ce que fait votre modèle\n",
    "print(\"Matrice de confusion sur l'ensemble d'entraînement : \")\n",
    "print(confusion_matrix(Y_train, Y_train_pred))\n",
    "print()\n",
    "print(\"Matrice de confusion sur l'ensemble de test : \")\n",
    "print(confusion_matrix(Y_test, Y_test_pred))\n",
    "print()"
   ],
   "outputs": [
    {
     "name": "stdout",
     "output_type": "stream",
     "text": [
      "Matrice de confusion sur l'ensemble d'entraînement : \n",
      "[[247071    828]\n",
      " [  3102   5121]]\n",
      "\n",
      "Matrice de confusion sur l'ensemble de test : \n",
      "[[27412    89]\n",
      " [  366   591]]\n",
      "\n"
     ]
    }
   ],
   "execution_count": 110
  },
  {
   "cell_type": "code",
   "metadata": {
    "ExecuteTime": {
     "end_time": "2024-08-10T15:41:45.240021Z",
     "start_time": "2024-08-10T15:41:26.125496Z"
    }
   },
   "source": [
    "# Concaténez notre ensemble d'entraînement et de test pour entraîner votre meilleur classificateur sur toutes les données avec des étiquettes\n",
    "X = np.append(X_train, X_test, axis=0)\n",
    "Y = np.append(Y_train, Y_test)\n",
    "\n",
    "classifier.fit(X, Y)"
   ],
   "outputs": [
    {
     "data": {
      "text/plain": [
       "GradientBoostingClassifier()"
      ],
      "text/html": [
       "<style>#sk-container-id-7 {color: black;}#sk-container-id-7 pre{padding: 0;}#sk-container-id-7 div.sk-toggleable {background-color: white;}#sk-container-id-7 label.sk-toggleable__label {cursor: pointer;display: block;width: 100%;margin-bottom: 0;padding: 0.3em;box-sizing: border-box;text-align: center;}#sk-container-id-7 label.sk-toggleable__label-arrow:before {content: \"▸\";float: left;margin-right: 0.25em;color: #696969;}#sk-container-id-7 label.sk-toggleable__label-arrow:hover:before {color: black;}#sk-container-id-7 div.sk-estimator:hover label.sk-toggleable__label-arrow:before {color: black;}#sk-container-id-7 div.sk-toggleable__content {max-height: 0;max-width: 0;overflow: hidden;text-align: left;background-color: #f0f8ff;}#sk-container-id-7 div.sk-toggleable__content pre {margin: 0.2em;color: black;border-radius: 0.25em;background-color: #f0f8ff;}#sk-container-id-7 input.sk-toggleable__control:checked~div.sk-toggleable__content {max-height: 200px;max-width: 100%;overflow: auto;}#sk-container-id-7 input.sk-toggleable__control:checked~label.sk-toggleable__label-arrow:before {content: \"▾\";}#sk-container-id-7 div.sk-estimator input.sk-toggleable__control:checked~label.sk-toggleable__label {background-color: #d4ebff;}#sk-container-id-7 div.sk-label input.sk-toggleable__control:checked~label.sk-toggleable__label {background-color: #d4ebff;}#sk-container-id-7 input.sk-hidden--visually {border: 0;clip: rect(1px 1px 1px 1px);clip: rect(1px, 1px, 1px, 1px);height: 1px;margin: -1px;overflow: hidden;padding: 0;position: absolute;width: 1px;}#sk-container-id-7 div.sk-estimator {font-family: monospace;background-color: #f0f8ff;border: 1px dotted black;border-radius: 0.25em;box-sizing: border-box;margin-bottom: 0.5em;}#sk-container-id-7 div.sk-estimator:hover {background-color: #d4ebff;}#sk-container-id-7 div.sk-parallel-item::after {content: \"\";width: 100%;border-bottom: 1px solid gray;flex-grow: 1;}#sk-container-id-7 div.sk-label:hover label.sk-toggleable__label {background-color: #d4ebff;}#sk-container-id-7 div.sk-serial::before {content: \"\";position: absolute;border-left: 1px solid gray;box-sizing: border-box;top: 0;bottom: 0;left: 50%;z-index: 0;}#sk-container-id-7 div.sk-serial {display: flex;flex-direction: column;align-items: center;background-color: white;padding-right: 0.2em;padding-left: 0.2em;position: relative;}#sk-container-id-7 div.sk-item {position: relative;z-index: 1;}#sk-container-id-7 div.sk-parallel {display: flex;align-items: stretch;justify-content: center;background-color: white;position: relative;}#sk-container-id-7 div.sk-item::before, #sk-container-id-7 div.sk-parallel-item::before {content: \"\";position: absolute;border-left: 1px solid gray;box-sizing: border-box;top: 0;bottom: 0;left: 50%;z-index: -1;}#sk-container-id-7 div.sk-parallel-item {display: flex;flex-direction: column;z-index: 1;position: relative;background-color: white;}#sk-container-id-7 div.sk-parallel-item:first-child::after {align-self: flex-end;width: 50%;}#sk-container-id-7 div.sk-parallel-item:last-child::after {align-self: flex-start;width: 50%;}#sk-container-id-7 div.sk-parallel-item:only-child::after {width: 0;}#sk-container-id-7 div.sk-dashed-wrapped {border: 1px dashed gray;margin: 0 0.4em 0.5em 0.4em;box-sizing: border-box;padding-bottom: 0.4em;background-color: white;}#sk-container-id-7 div.sk-label label {font-family: monospace;font-weight: bold;display: inline-block;line-height: 1.2em;}#sk-container-id-7 div.sk-label-container {text-align: center;}#sk-container-id-7 div.sk-container {/* jupyter's `normalize.less` sets `[hidden] { display: none; }` but bootstrap.min.css set `[hidden] { display: none !important; }` so we also need the `!important` here to be able to override the default hidden behavior on the sphinx rendered scikit-learn.org. See: https://github.com/scikit-learn/scikit-learn/issues/21755 */display: inline-block !important;position: relative;}#sk-container-id-7 div.sk-text-repr-fallback {display: none;}</style><div id=\"sk-container-id-7\" class=\"sk-top-container\"><div class=\"sk-text-repr-fallback\"><pre>GradientBoostingClassifier()</pre><b>In a Jupyter environment, please rerun this cell to show the HTML representation or trust the notebook. <br />On GitHub, the HTML representation is unable to render, please try loading this page with nbviewer.org.</b></div><div class=\"sk-container\" hidden><div class=\"sk-item\"><div class=\"sk-estimator sk-toggleable\"><input class=\"sk-toggleable__control sk-hidden--visually\" id=\"sk-estimator-id-13\" type=\"checkbox\" checked><label for=\"sk-estimator-id-13\" class=\"sk-toggleable__label sk-toggleable__label-arrow\">GradientBoostingClassifier</label><div class=\"sk-toggleable__content\"><pre>GradientBoostingClassifier()</pre></div></div></div></div></div>"
      ]
     },
     "execution_count": 111,
     "metadata": {},
     "output_type": "execute_result"
    }
   ],
   "execution_count": 111
  },
  {
   "cell_type": "code",
   "metadata": {
    "ExecuteTime": {
     "end_time": "2024-08-10T15:41:45.282335Z",
     "start_time": "2024-08-10T15:41:45.241941Z"
    }
   },
   "source": [
    "# Lecture des données sans étiquettes\n",
    "data_without_labels = pd.read_csv('conversion_data_test.csv')\n",
    "print('Ensemble de prédiction (sans étiquettes) :', data_without_labels.shape)\n",
    "\n",
    "# Attention : vérifier la cohérence de la liste des caractéristiques (doit être la même que les caractéristiques\n",
    "# utilisées par votre meilleur classificateur)\n",
    "features_list = ['country', 'age', 'new_user', 'source', 'total_pages_visited']\n",
    "X_without_labels = data_without_labels.loc[:, features_list]\n",
    "\n",
    "# Conversion des DataFrames pandas en tableaux numpy avant d'utiliser scikit-learn\n",
    "print(\"Conversion des DataFrames pandas en tableaux numpy...\")\n",
    "# X_without_labels = X_without_labels.values\n",
    "print(\"...Terminé\")\n",
    "\n",
    "print(X_without_labels[0:5])"
   ],
   "outputs": [
    {
     "name": "stdout",
     "output_type": "stream",
     "text": [
      "Ensemble de prédiction (sans étiquettes) : (31620, 5)\n",
      "Conversion des DataFrames pandas en tableaux numpy...\n",
      "...Terminé\n",
      "  country  age  new_user  source  total_pages_visited\n",
      "0      UK   28         0     Seo                   16\n",
      "1      UK   22         1  Direct                    5\n",
      "2   China   32         1     Seo                    1\n",
      "3      US   32         1     Ads                    6\n",
      "4   China   25         0     Seo                    3\n"
     ]
    }
   ],
   "execution_count": 112
  },
  {
   "cell_type": "code",
   "metadata": {
    "ExecuteTime": {
     "end_time": "2024-08-10T15:41:45.322067Z",
     "start_time": "2024-08-10T15:41:45.283909Z"
    }
   },
   "source": [
    "# AVERTISSEMENT : METTEZ ICI LE MÊME PRÉTRAITEMENT QUE POUR VOTRE ENSEMBLE DE TEST\n",
    "# VÉRIFIEZ QUE VOUS UTILISEZ X_without_labels\n",
    "print(\"Encodage des caractéristiques catégorielles et standardisation des caractéristiques numériques...\")\n",
    "\n",
    "X_without_labels = preprocessor.transform(X_without_labels)\n",
    "print(\"...Terminé\")\n",
    "print(X_without_labels[0:5])"
   ],
   "outputs": [
    {
     "name": "stdout",
     "output_type": "stream",
     "text": [
      "Encodage des caractéristiques catégorielles et standardisation des caractéristiques numériques...\n",
      "...Terminé\n",
      "[[ 0.          1.          0.          0.          1.         -0.31028053\n",
      "  -1.47729174  3.33326238]\n",
      " [ 0.          1.          0.          1.          0.         -1.03613923\n",
      "   0.67691437  0.03879562]\n",
      " [ 0.          0.          0.          0.          1.          0.17362526\n",
      "   0.67691437 -1.15919229]\n",
      " [ 0.          0.          1.          0.          0.          0.17362526\n",
      "   0.67691437  0.3382926 ]\n",
      " [ 0.          0.          0.          0.          1.         -0.67320988\n",
      "  -1.47729174 -0.56019834]]\n"
     ]
    }
   ],
   "execution_count": 113
  },
  {
   "cell_type": "code",
   "metadata": {
    "ExecuteTime": {
     "end_time": "2024-08-10T15:41:45.393297Z",
     "start_time": "2024-08-10T15:41:45.323876Z"
    }
   },
   "source": [
    "# Faire des prédictions et les exporter dans un fichier\n",
    "# AVERTISSEMENT : Assurez-vous que le fichier est un CSV avec une seule colonne appelée 'converted' et sans index !\n",
    "# AVERTISSEMENT : Le nom du fichier doit avoir le format 'conversion_data_test_predictions_[nom].csv'\n",
    "# où [nom] est le nom de votre équipe/modèle séparé par un '-'\n",
    "# Par exemple : [nom] = MELCHIOR-model1\n",
    "data = {\n",
    "    'converted': classifier.predict(X_without_labels)\n",
    "}\n",
    "\n",
    "Y_predictions = pd.DataFrame(columns=['converted'], data=data)\n",
    "Y_predictions.to_csv('conversion_data_test_predictions_melchior-model7.csv', index=False)"
   ],
   "outputs": [],
   "execution_count": 114
  },
  {
   "cell_type": "markdown",
   "metadata": {},
   "source": [
    "# XGBoost"
   ]
  },
  {
   "cell_type": "code",
   "metadata": {
    "ExecuteTime": {
     "end_time": "2024-08-10T15:41:58.110555Z",
     "start_time": "2024-08-10T15:41:45.395092Z"
    }
   },
   "source": [
    "# Effectuer une recherche de grille\n",
    "print(\"Recherche de grille...\")\n",
    "xgboost = XGBClassifier()\n",
    "\n",
    "# Grille de valeurs à tester\n",
    "params = {\n",
    "    \"max_depth\": [2, 4, 6],  # joue exactement le même rôle que dans scikit-learn\n",
    "    \"min_child_weight\": [\n",
    "        1,\n",
    "        2,\n",
    "        3,\n",
    "    ],  # l'effet est plus ou moins similaire à min_samples_leaf et min_samples_split\n",
    "    \"n_estimators\": [\n",
    "        2,\n",
    "        4,\n",
    "        6,\n",
    "        8,\n",
    "    ],  # joue exactement le même rôle que dans scikit-learn\n",
    "}\n",
    "print(params)\n",
    "gridsearch = GridSearchCV(\n",
    "    xgboost, param_grid=params, cv=3\n",
    ")  # cv : le nombre de plis à utiliser pour CV\n",
    "gridsearch.fit(X_train, Y_train)\n",
    "print(\"...Terminé.\")\n",
    "print(\"Meilleurs hyperparamètres : \", gridsearch.best_params_)\n",
    "print(\"Meilleure précision de validation : \", gridsearch.best_score_)\n",
    "print()\n",
    "print(\"Précision sur l'ensemble d'entraînement : \", gridsearch.score(X_train, Y_train))\n",
    "print(\"Précision sur l'ensemble de test : \", gridsearch.score(X_test, Y_test))"
   ],
   "outputs": [
    {
     "name": "stdout",
     "output_type": "stream",
     "text": [
      "Recherche de grille...\n",
      "{'max_depth': [2, 4, 6], 'min_child_weight': [1, 2, 3], 'n_estimators': [2, 4, 6, 8]}\n",
      "...Terminé.\n",
      "Meilleurs hyperparamètres :  {'max_depth': 6, 'min_child_weight': 1, 'n_estimators': 8}\n",
      "Meilleure précision de validation :  0.9857645965594521\n",
      "\n",
      "Précision sur l'ensemble d'entraînement :  0.9862799759489618\n",
      "Précision sur l'ensemble de test :  0.9852765478951437\n"
     ]
    }
   ],
   "execution_count": 115
  },
  {
   "cell_type": "code",
   "metadata": {
    "ExecuteTime": {
     "end_time": "2024-08-10T15:41:58.156617Z",
     "start_time": "2024-08-10T15:41:58.112685Z"
    }
   },
   "source": [
    "# Prédictions sur l'ensemble d'entraînement\n",
    "print(\"Prédictions sur l'ensemble d'entraînement...\")\n",
    "Y_train_pred = gridsearch.predict(X_train)\n",
    "print(\"...Terminé.\")\n",
    "print(Y_train_pred)\n",
    "print()\n",
    "\n",
    "# Il est également possible d'obtenir les probabilités estimées par le modèle :\n",
    "print(\"Probabilités sur l'ensemble d'entraînement...\")\n",
    "Y_train_proba = gridsearch.predict_proba(X_train)\n",
    "print(\"...Terminé.\")\n",
    "print(Y_train_proba)\n",
    "print()"
   ],
   "outputs": [
    {
     "name": "stdout",
     "output_type": "stream",
     "text": [
      "Prédictions sur l'ensemble d'entraînement...\n",
      "...Terminé.\n",
      "[0 0 0 ... 0 0 0]\n",
      "\n",
      "Probabilités sur l'ensemble d'entraînement...\n",
      "...Terminé.\n",
      "[[0.9871519  0.01284805]\n",
      " [0.98264873 0.0173513 ]\n",
      " [0.98787236 0.01212765]\n",
      " ...\n",
      " [0.986841   0.01315899]\n",
      " [0.9876099  0.0123901 ]\n",
      " [0.98787236 0.01212765]]\n",
      "\n"
     ]
    }
   ],
   "execution_count": 116
  },
  {
   "cell_type": "code",
   "metadata": {
    "ExecuteTime": {
     "end_time": "2024-08-10T15:41:58.170276Z",
     "start_time": "2024-08-10T15:41:58.158546Z"
    }
   },
   "source": [
    "# Prédictions sur l'ensemble de test\n",
    "print(\"Prédictions sur l'ensemble de test...\")\n",
    "Y_test_pred = gridsearch.predict(X_test)\n",
    "print(\"...Terminé.\")\n",
    "print(Y_test_pred)\n",
    "print()\n",
    "\n",
    "# Il est également possible d'obtenir les probabilités estimées par le modèle :\n",
    "print(\"Probabilités sur l'ensemble de test...\")\n",
    "Y_test_proba = gridsearch.predict_proba(X_test)\n",
    "print(\"...Terminé.\")\n",
    "print(Y_test_proba)\n",
    "print()"
   ],
   "outputs": [
    {
     "name": "stdout",
     "output_type": "stream",
     "text": [
      "Prédictions sur l'ensemble de test...\n",
      "...Terminé.\n",
      "[0 0 0 ... 0 0 0]\n",
      "\n",
      "Probabilités sur l'ensemble de test...\n",
      "...Terminé.\n",
      "[[0.9852968  0.01470319]\n",
      " [0.9876099  0.0123901 ]\n",
      " [0.98760986 0.01239013]\n",
      " ...\n",
      " [0.957665   0.042335  ]\n",
      " [0.98787236 0.01212765]\n",
      " [0.98787236 0.01212765]]\n",
      "\n"
     ]
    }
   ],
   "execution_count": 117
  },
  {
   "cell_type": "code",
   "metadata": {
    "ExecuteTime": {
     "end_time": "2024-08-10T15:41:58.383657Z",
     "start_time": "2024-08-10T15:41:58.172429Z"
    }
   },
   "source": [
    "# AVERTISSEMENT : Utilisez le même score que celui qui sera utilisé par Kaggle !\n",
    "# Ici, le f1-score sera utilisé pour évaluer les performances sur le tableau de bord\n",
    "print(\"f1-score sur l'ensemble d'entraînement : \", f1_score(Y_train, Y_train_pred))\n",
    "print(\"f1-score sur l'ensemble de test : \", f1_score(Y_test, Y_test_pred))"
   ],
   "outputs": [
    {
     "name": "stdout",
     "output_type": "stream",
     "text": [
      "f1-score sur l'ensemble d'entraînement :  0.7607244995233556\n",
      "f1-score sur l'ensemble de test :  0.7525103366804489\n"
     ]
    }
   ],
   "execution_count": 118
  },
  {
   "cell_type": "code",
   "metadata": {
    "ExecuteTime": {
     "end_time": "2024-08-10T15:41:58.449428Z",
     "start_time": "2024-08-10T15:41:58.385175Z"
    }
   },
   "source": [
    "# Vous pouvez également vérifier plus de métriques de performance pour mieux comprendre ce que fait votre modèle\n",
    "print(\"Matrice de confusion sur l'ensemble d'entraînement : \")\n",
    "print(confusion_matrix(Y_train, Y_train_pred))\n",
    "print()\n",
    "print(\"Matrice de confusion sur l'ensemble de test : \")\n",
    "print(confusion_matrix(Y_test, Y_test_pred))\n",
    "print()"
   ],
   "outputs": [
    {
     "name": "stdout",
     "output_type": "stream",
     "text": [
      "Matrice de confusion sur l'ensemble d'entraînement : \n",
      "[[247022    877]\n",
      " [  2637   5586]]\n",
      "\n",
      "Matrice de confusion sur l'ensemble de test : \n",
      "[[27402    99]\n",
      " [  320   637]]\n",
      "\n"
     ]
    }
   ],
   "execution_count": 119
  },
  {
   "cell_type": "code",
   "metadata": {
    "ExecuteTime": {
     "end_time": "2024-08-10T15:42:16.555384Z",
     "start_time": "2024-08-10T15:41:58.450925Z"
    }
   },
   "source": [
    "# Concaténer nos ensembles d'entraînement et de test pour entraîner votre meilleur classificateur sur toutes les données avec des étiquettes\n",
    "X = np.append(X_train, X_test, axis=0)\n",
    "Y = np.append(Y_train, Y_test)\n",
    "\n",
    "classifier.fit(X, Y)"
   ],
   "outputs": [
    {
     "data": {
      "text/plain": [
       "GradientBoostingClassifier()"
      ],
      "text/html": [
       "<style>#sk-container-id-8 {color: black;}#sk-container-id-8 pre{padding: 0;}#sk-container-id-8 div.sk-toggleable {background-color: white;}#sk-container-id-8 label.sk-toggleable__label {cursor: pointer;display: block;width: 100%;margin-bottom: 0;padding: 0.3em;box-sizing: border-box;text-align: center;}#sk-container-id-8 label.sk-toggleable__label-arrow:before {content: \"▸\";float: left;margin-right: 0.25em;color: #696969;}#sk-container-id-8 label.sk-toggleable__label-arrow:hover:before {color: black;}#sk-container-id-8 div.sk-estimator:hover label.sk-toggleable__label-arrow:before {color: black;}#sk-container-id-8 div.sk-toggleable__content {max-height: 0;max-width: 0;overflow: hidden;text-align: left;background-color: #f0f8ff;}#sk-container-id-8 div.sk-toggleable__content pre {margin: 0.2em;color: black;border-radius: 0.25em;background-color: #f0f8ff;}#sk-container-id-8 input.sk-toggleable__control:checked~div.sk-toggleable__content {max-height: 200px;max-width: 100%;overflow: auto;}#sk-container-id-8 input.sk-toggleable__control:checked~label.sk-toggleable__label-arrow:before {content: \"▾\";}#sk-container-id-8 div.sk-estimator input.sk-toggleable__control:checked~label.sk-toggleable__label {background-color: #d4ebff;}#sk-container-id-8 div.sk-label input.sk-toggleable__control:checked~label.sk-toggleable__label {background-color: #d4ebff;}#sk-container-id-8 input.sk-hidden--visually {border: 0;clip: rect(1px 1px 1px 1px);clip: rect(1px, 1px, 1px, 1px);height: 1px;margin: -1px;overflow: hidden;padding: 0;position: absolute;width: 1px;}#sk-container-id-8 div.sk-estimator {font-family: monospace;background-color: #f0f8ff;border: 1px dotted black;border-radius: 0.25em;box-sizing: border-box;margin-bottom: 0.5em;}#sk-container-id-8 div.sk-estimator:hover {background-color: #d4ebff;}#sk-container-id-8 div.sk-parallel-item::after {content: \"\";width: 100%;border-bottom: 1px solid gray;flex-grow: 1;}#sk-container-id-8 div.sk-label:hover label.sk-toggleable__label {background-color: #d4ebff;}#sk-container-id-8 div.sk-serial::before {content: \"\";position: absolute;border-left: 1px solid gray;box-sizing: border-box;top: 0;bottom: 0;left: 50%;z-index: 0;}#sk-container-id-8 div.sk-serial {display: flex;flex-direction: column;align-items: center;background-color: white;padding-right: 0.2em;padding-left: 0.2em;position: relative;}#sk-container-id-8 div.sk-item {position: relative;z-index: 1;}#sk-container-id-8 div.sk-parallel {display: flex;align-items: stretch;justify-content: center;background-color: white;position: relative;}#sk-container-id-8 div.sk-item::before, #sk-container-id-8 div.sk-parallel-item::before {content: \"\";position: absolute;border-left: 1px solid gray;box-sizing: border-box;top: 0;bottom: 0;left: 50%;z-index: -1;}#sk-container-id-8 div.sk-parallel-item {display: flex;flex-direction: column;z-index: 1;position: relative;background-color: white;}#sk-container-id-8 div.sk-parallel-item:first-child::after {align-self: flex-end;width: 50%;}#sk-container-id-8 div.sk-parallel-item:last-child::after {align-self: flex-start;width: 50%;}#sk-container-id-8 div.sk-parallel-item:only-child::after {width: 0;}#sk-container-id-8 div.sk-dashed-wrapped {border: 1px dashed gray;margin: 0 0.4em 0.5em 0.4em;box-sizing: border-box;padding-bottom: 0.4em;background-color: white;}#sk-container-id-8 div.sk-label label {font-family: monospace;font-weight: bold;display: inline-block;line-height: 1.2em;}#sk-container-id-8 div.sk-label-container {text-align: center;}#sk-container-id-8 div.sk-container {/* jupyter's `normalize.less` sets `[hidden] { display: none; }` but bootstrap.min.css set `[hidden] { display: none !important; }` so we also need the `!important` here to be able to override the default hidden behavior on the sphinx rendered scikit-learn.org. See: https://github.com/scikit-learn/scikit-learn/issues/21755 */display: inline-block !important;position: relative;}#sk-container-id-8 div.sk-text-repr-fallback {display: none;}</style><div id=\"sk-container-id-8\" class=\"sk-top-container\"><div class=\"sk-text-repr-fallback\"><pre>GradientBoostingClassifier()</pre><b>In a Jupyter environment, please rerun this cell to show the HTML representation or trust the notebook. <br />On GitHub, the HTML representation is unable to render, please try loading this page with nbviewer.org.</b></div><div class=\"sk-container\" hidden><div class=\"sk-item\"><div class=\"sk-estimator sk-toggleable\"><input class=\"sk-toggleable__control sk-hidden--visually\" id=\"sk-estimator-id-14\" type=\"checkbox\" checked><label for=\"sk-estimator-id-14\" class=\"sk-toggleable__label sk-toggleable__label-arrow\">GradientBoostingClassifier</label><div class=\"sk-toggleable__content\"><pre>GradientBoostingClassifier()</pre></div></div></div></div></div>"
      ]
     },
     "execution_count": 120,
     "metadata": {},
     "output_type": "execute_result"
    }
   ],
   "execution_count": 120
  },
  {
   "cell_type": "code",
   "metadata": {
    "ExecuteTime": {
     "end_time": "2024-08-10T15:42:16.583288Z",
     "start_time": "2024-08-10T15:42:16.557063Z"
    }
   },
   "source": [
    "# Lire les données sans étiquettes\n",
    "data_without_labels = pd.read_csv('conversion_data_test.csv')\n",
    "print('Ensemble de prédiction (sans étiquettes) :', data_without_labels.shape)\n",
    "\n",
    "# Attention : vérifiez la cohérence de la liste des caractéristiques (doit être la même que les caractéristiques\n",
    "# utilisées par votre meilleur classificateur)\n",
    "features_list = ['country', 'age', 'new_user', 'source', 'total_pages_visited']\n",
    "X_without_labels = data_without_labels.loc[:, features_list]\n",
    "\n",
    "# Convertir les DataFrames pandas en tableaux numpy avant d'utiliser scikit-learn\n",
    "print(\"Conversion des DataFrames pandas en tableaux numpy...\")\n",
    "# X_without_labels = X_without_labels.values\n",
    "print(\"...Terminé\")\n",
    "\n",
    "print(X_without_labels[0:5])"
   ],
   "outputs": [
    {
     "name": "stdout",
     "output_type": "stream",
     "text": [
      "Ensemble de prédiction (sans étiquettes) : (31620, 5)\n",
      "Conversion des DataFrames pandas en tableaux numpy...\n",
      "...Terminé\n",
      "  country  age  new_user  source  total_pages_visited\n",
      "0      UK   28         0     Seo                   16\n",
      "1      UK   22         1  Direct                    5\n",
      "2   China   32         1     Seo                    1\n",
      "3      US   32         1     Ads                    6\n",
      "4   China   25         0     Seo                    3\n"
     ]
    }
   ],
   "execution_count": 121
  },
  {
   "cell_type": "code",
   "metadata": {
    "ExecuteTime": {
     "end_time": "2024-08-10T15:42:16.619224Z",
     "start_time": "2024-08-10T15:42:16.584968Z"
    }
   },
   "source": [
    "# AVERTISSEMENT : METTEZ ICI LE MÊME PRÉTRAITEMENT QUE POUR VOTRE ENSEMBLE DE TEST\n",
    "# VÉRIFIEZ QUE VOUS UTILISEZ X_without_labels\n",
    "print(\"Encodage des caractéristiques catégorielles et normalisation des caractéristiques numériques...\")\n",
    "\n",
    "X_without_labels = preprocessor.transform(X_without_labels)\n",
    "print(\"...Terminé\")\n",
    "print(X_without_labels[0:5])"
   ],
   "outputs": [
    {
     "name": "stdout",
     "output_type": "stream",
     "text": [
      "Encodage des caractéristiques catégorielles et normalisation des caractéristiques numériques...\n",
      "...Terminé\n",
      "[[ 0.          1.          0.          0.          1.         -0.31028053\n",
      "  -1.47729174  3.33326238]\n",
      " [ 0.          1.          0.          1.          0.         -1.03613923\n",
      "   0.67691437  0.03879562]\n",
      " [ 0.          0.          0.          0.          1.          0.17362526\n",
      "   0.67691437 -1.15919229]\n",
      " [ 0.          0.          1.          0.          0.          0.17362526\n",
      "   0.67691437  0.3382926 ]\n",
      " [ 0.          0.          0.          0.          1.         -0.67320988\n",
      "  -1.47729174 -0.56019834]]\n"
     ]
    }
   ],
   "execution_count": 122
  },
  {
   "cell_type": "code",
   "metadata": {
    "ExecuteTime": {
     "end_time": "2024-08-10T15:42:16.693262Z",
     "start_time": "2024-08-10T15:42:16.620928Z"
    }
   },
   "source": [
    "# Faites des prédictions et déchargez-les dans un fichier\n",
    "# AVERTISSEMENT : ASSUREZ-VOUS QUE LE FICHIER EST UN CSV AVEC UNE COLONNE NOMMÉE 'converted' ET PAS D'INDEX !\n",
    "# AVERTISSEMENT : LE NOM DU FICHIER DOIT AVOIR LE FORMAT 'conversion_data_test_predictions_[name].csv'\n",
    "# où [name] est le nom de votre équipe/modèle séparé par un '-'\n",
    "# Par exemple : [name] = MELCHIOR-model1\n",
    "data = {\n",
    "    'converted': classifier.predict(X_without_labels)\n",
    "}\n",
    "\n",
    "Y_predictions = pd.DataFrame(columns=['converted'], data=data)\n",
    "Y_predictions.to_csv('conversion_data_test_predictions_melchior-model8.csv', index=False)"
   ],
   "outputs": [],
   "execution_count": 123
  },
  {
   "metadata": {
    "ExecuteTime": {
     "end_time": "2024-08-10T15:46:17.655348Z",
     "start_time": "2024-08-10T15:46:17.618224Z"
    }
   },
   "cell_type": "code",
   "source": [
    "# List of models\n",
    "models = [\"conversion_data_test_predictions_melchior-model.csv\", \"conversion_data_test_predictions_melchior-model1.csv\", \"conversion_data_test_predictions_melchior-model2.csv\", \"conversion_data_test_predictions_melchior-model3.csv\", \"conversion_data_test_predictions_melchior-model4.csv\", \"conversion_data_test_predictions_melchior-model5.csv\", \"conversion_data_test_predictions_melchior-model6.csv\", \"conversion_data_test_predictions_melchior-model7.csv\", \"conversion_data_test_predictions_melchior-model8.csv\"]\n",
    "\n",
    "# For each model\n",
    "for i, model in enumerate(models):\n",
    "    # Make predictions\n",
    "    predictions = model.predict(X_test)\n",
    "\n",
    "    # Calculate performance metrics\n",
    "    accuracy = sklearn.metrics.accuracy_score(y_test, predictions)\n",
    "    precision = sklearn.metrics.precision_score(y_test, predictions)\n",
    "    recall = sklearn.metrics.recall_score(y_test, predictions)\n",
    "    f1 = sklearn.metrics.f1_score(y_test, predictions)\n",
    "\n",
    "    # Print performance metrics\n",
    "    print(f\"Model {i + 1} Performance Metrics:\")\n",
    "    print(f\"Accuracy: {accuracy}\")\n",
    "    print(f\"Precision: {precision}\")\n",
    "    print(f\"Recall: {recall}\")\n",
    "    print(f\"F1 Score: {f1}\\n\")"
   ],
   "outputs": [
    {
     "ename": "AttributeError",
     "evalue": "'str' object has no attribute 'predict'",
     "output_type": "error",
     "traceback": [
      "\u001B[0;31m---------------------------------------------------------------------------\u001B[0m",
      "\u001B[0;31mAttributeError\u001B[0m                            Traceback (most recent call last)",
      "Cell \u001B[0;32mIn[125], line 7\u001B[0m\n\u001B[1;32m      4\u001B[0m \u001B[38;5;66;03m# For each model\u001B[39;00m\n\u001B[1;32m      5\u001B[0m \u001B[38;5;28;01mfor\u001B[39;00m i, model \u001B[38;5;129;01min\u001B[39;00m \u001B[38;5;28menumerate\u001B[39m(models):\n\u001B[1;32m      6\u001B[0m     \u001B[38;5;66;03m# Make predictions\u001B[39;00m\n\u001B[0;32m----> 7\u001B[0m     predictions \u001B[38;5;241m=\u001B[39m model\u001B[38;5;241m.\u001B[39mpredict(X_test)\n\u001B[1;32m      9\u001B[0m     \u001B[38;5;66;03m# Calculate performance metrics\u001B[39;00m\n\u001B[1;32m     10\u001B[0m     accuracy \u001B[38;5;241m=\u001B[39m sklearn\u001B[38;5;241m.\u001B[39mmetrics\u001B[38;5;241m.\u001B[39maccuracy_score(y_test, predictions)\n",
      "\u001B[0;31mAttributeError\u001B[0m: 'str' object has no attribute 'predict'"
     ]
    }
   ],
   "execution_count": 125
  },
  {
   "metadata": {},
   "cell_type": "code",
   "source": "",
   "outputs": [],
   "execution_count": null
  }
 ],
 "metadata": {
  "colab": {
   "collapsed_sections": [],
   "name": "Projets_template.ipynb",
   "provenance": []
  },
  "kernelspec": {
   "display_name": "Python 3",
   "language": "python",
   "name": "python3"
  },
  "language_info": {
   "codemirror_mode": {
    "name": "ipython",
    "version": 3
   },
   "file_extension": ".py",
   "mimetype": "text/x-python",
   "name": "python",
   "nbconvert_exporter": "python",
   "pygments_lexer": "ipython3",
   "version": "3.11.7"
  }
 },
 "nbformat": 4,
 "nbformat_minor": 4
}
